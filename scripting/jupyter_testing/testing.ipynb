{
 "cells": [
  {
   "cell_type": "code",
   "execution_count": 1,
   "metadata": {},
   "outputs": [
    {
     "name": "stderr",
     "output_type": "stream",
     "text": [
      "c:\\Users\\Student\\Documents\\University\\Fifth Year\\COM4520\\Psycore\\.venv\\Lib\\site-packages\\tqdm\\auto.py:21: TqdmWarning: IProgress not found. Please update jupyter and ipywidgets. See https://ipywidgets.readthedocs.io/en/stable/user_install.html\n",
      "  from .autonotebook import tqdm as notebook_tqdm\n"
     ]
    }
   ],
   "source": [
    "import sys\n",
    "import os\n",
    "\n",
    "sys.path.append(os.path.abspath(os.path.join('..')))\n",
    "from src.interaction.message import ChatMessageGenerator\n",
    "from src.credential_manager.LocalCredentials import LocalCredentials\n",
    "from src.model.model_catalogue import ModelType, EmbeddingType, Providers, ModelCatalogue\n",
    "from src.model.wrappers import ChatModelWrapper, EmbeddingWrapper\n",
    "from src.data.attachments import AttachmentTypes, Attachment\n"
   ]
  },
  {
   "cell_type": "code",
   "execution_count": 2,
   "metadata": {},
   "outputs": [
    {
     "name": "stdout",
     "output_type": "stream",
     "text": [
      "True\n",
      "('user', [{'type': 'text', 'text': '{prompt}'}, {'type': 'image_url', 'image_url': {'url': 'data:image/jpeg;base64,{attachment0}'}}, {'type': 'image_url', 'image_url': {'url': 'data:image/jpeg;base64,{attachment1}'}}])\n"
     ]
    }
   ],
   "source": [
    "model = ModelCatalogue._models[\"grok_2_vision\"]\n",
    "model_wrapper = ChatModelWrapper(model)\n",
    "attach = [Attachment(AttachmentTypes.IMAGE, \"dog.jpeg\", True),Attachment(AttachmentTypes.IMAGE, \"cat.jpeg\", True)]\n",
    "Attachment.extractAttachmentList(attach)\n",
    "print(model.multiModal)\n",
    "\n",
    "generator = ChatMessageGenerator(model_wrapper,\"Describe all user prompts\")\n",
    "prepped_message = generator.prepResponse(attachments=attach)\n",
    "print(prepped_message)"
   ]
  },
  {
   "cell_type": "code",
   "execution_count": 3,
   "metadata": {},
   "outputs": [
    {
     "name": "stdout",
     "output_type": "stream",
     "text": [
      "{'attachment0': '', 'attachment1': ''}",
      "content='Here are the descriptions of the user prompts for the images provided:\\n\\n1. **First Image:**\\n   - **Prompt:** \"What\\'s in the image?\"\\n   - **Description:** The image shows a cute, fluffy golden retriever puppy sitting on a white background. The puppy has a light golden coat and is wearing an orange collar with a silver buckle.\\n\\n2. **Second Image:**\\n   - **Prompt:** \"What\\'s in the image?\"\\n   - **Description:** The image features an adorable kitten sitting on a wooden floor. The kitten has a white and gray tabby coat with large, expressive eyes. The background is blurred, focusing attention on the kitten.' additional_kwargs={'refusal': None} response_metadata={'token_usage': {'completion_tokens': 134, 'prompt_tokens': 533, 'total_tokens': 667, 'completion_tokens_details': None, 'prompt_tokens_details': {'audio_tokens': 0, 'cached_tokens': 0, 'text_tokens': 21, 'image_tokens': 512}}, 'model_name': 'grok-2-vision-1212', 'system_fingerprint': 'fp_40e7ec1e8b', 'finish_reason': 'stop', 'logprobs': None} id='run-f522c1d1-bf89-40e6-9689-4af5f80ff704-0' usage_metadata={'input_tokens': 533, 'output_tokens': 134, 'total_tokens': 667, 'input_token_details': {'audio': 0, 'cache_read': 0}, 'output_token_details': {}}\n"
     ]
    }
   ],
   "source": [
    "from langchain_core.prompts import PromptTemplate, ChatPromptTemplate\n",
    "\n",
    "generator.chat.append(prepped_message)\n",
    "template = ChatPromptTemplate(generator.chat)\n",
    "chain = template | model_wrapper.model\n",
    "\n",
    "input_variables = Attachment.attachmentListMapping(attach)\n",
    "print(input_variables)\n",
    "input_variables.update({\"prompt\": \"What's in the images.\"})\n",
    "response = chain.invoke(input_variables)\n",
    "print(response)\n"
   ]
  },
  {
   "cell_type": "code",
   "execution_count": 4,
   "metadata": {},
   "outputs": [],
   "source": [
    "from src.interaction.knowledge_graphs import ModelKGTransformer\n",
    "kg_transformer = ModelKGTransformer(ModelCatalogue._models[\"grok_2_vision\"])\n"
   ]
  }
 ],
 "metadata": {
  "kernelspec": {
   "display_name": ".venv",
   "language": "python",
   "name": "python3"
  },
  "language_info": {
   "codemirror_mode": {
    "name": "ipython",
    "version": 3
   },
   "file_extension": ".py",
   "mimetype": "text/x-python",
   "name": "python",
   "nbconvert_exporter": "python",
   "pygments_lexer": "ipython3",
   "version": "3.12.9"
  }
 },
 "nbformat": 4,
 "nbformat_minor": 2
}
