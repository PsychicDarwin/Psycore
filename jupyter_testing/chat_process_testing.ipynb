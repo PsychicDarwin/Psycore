{
 "cells": [
  {
   "cell_type": "code",
   "execution_count": null,
   "metadata": {},
   "outputs": [
    {
     "name": "stderr",
     "output_type": "stream",
     "text": [
      "c:\\Users\\Student\\Documents\\University\\Fifth Year\\COM4520\\Psycore\\.venv\\Lib\\site-packages\\tqdm\\auto.py:21: TqdmWarning: IProgress not found. Please update jupyter and ipywidgets. See https://ipywidgets.readthedocs.io/en/stable/user_install.html\n",
      "  from .autonotebook import tqdm as notebook_tqdm\n"
     ]
    },
    {
     "name": "stdout",
     "output_type": "stream",
     "text": [
      "content='The first image shows a small kitten or young cat. The cat has brown and white fur, with distinctive markings resembling tiger stripes on its body and face. It has large, expressive eyes and is sitting on what appears to be a reddish-colored surface.\\n\\nThe second image depicts a puppy or young dog. It has a golden, fluffy coat and floppy ears characteristic of certain retriever breeds. The puppy is lying on a white surface, such as bedding or sheets, and is wearing an orange collar or accessory around its neck. Both images capture adorable young pet animals in a close-up, detailed way.' additional_kwargs={'usage': {'prompt_tokens': 746, 'completion_tokens': 140, 'total_tokens': 886}, 'stop_reason': 'end_turn', 'model_id': 'anthropic.claude-3-sonnet-20240229-v1:0'} response_metadata={'usage': {'prompt_tokens': 746, 'completion_tokens': 140, 'total_tokens': 886}, 'stop_reason': 'end_turn', 'model_id': 'anthropic.claude-3-sonnet-20240229-v1:0'} id='run-1ad5f487-6d34-4454-a59b-ab16bff932c2-0' usage_metadata={'input_tokens': 746, 'output_tokens': 140, 'total_tokens': 886}\n",
      "[('system', \"Answer the user's questions\"), ('user', [{'type': 'text', 'text': 'What is in these images?'}, {'type': 'image_url', 'image_url': {'url': 'data:image/jpeg;base64,'}}, {'type': 'image_url', 'image_url': {'url': 'data:image/jpeg;base64,'}}]), ('ai', 'The first image shows a small kitten or young cat. The cat has brown and white fur, with distinctive markings resembling tiger stripes on its body and face. It has large, expressive eyes and is sitting on what appears to be a reddish-colored surface.\\n\\nThe second image depicts a puppy or young dog. It has a golden, fluffy coat and floppy ears characteristic of certain retriever breeds. The puppy is lying on a white surface, such as bedding or sheets, and is wearing an orange collar or accessory around its neck. Both images capture adorable young pet animals in a close-up, detailed way.')]\n"
     ]
    }
   ],
   "source": [
    "import sys\n",
    "import os\n",
    "\n",
    "sys.path.append(os.path.abspath(os.path.join('..')))\n",
    "\n",
    "from src.flow.chat_process import ChatProcess\n",
    "\n",
    "chat_process = ChatProcess(\"Answer the user's questions\", 'gemini_1.5_flash',None)\n",
    "print(chat_process.run({\n",
    "    \"prompt\" : \"What is in these images?\",\n",
    "    \"attachments\" : [\"cat.jpeg\" , \"dog.jpeg\"],\n",
    "    \"append\" : True\n",
    "}))\n",
    "print(chat_process.runner.chat)\n"
   ]
  },
  {
   "cell_type": "code",
   "execution_count": 2,
   "metadata": {},
   "outputs": [
    {
     "name": "stdout",
     "output_type": "stream",
     "text": [
      "content='The first image showed a kitten or young cat, and the second image showed a puppy or young dog.' additional_kwargs={'usage': {'prompt_tokens': 897, 'completion_tokens': 26, 'total_tokens': 923}, 'stop_reason': 'end_turn', 'model_id': 'anthropic.claude-3-sonnet-20240229-v1:0'} response_metadata={'usage': {'prompt_tokens': 897, 'completion_tokens': 26, 'total_tokens': 923}, 'stop_reason': 'end_turn', 'model_id': 'anthropic.claude-3-sonnet-20240229-v1:0'} id='run-fb30e150-2ed4-44d8-86fd-7dd4bee17b41-0' usage_metadata={'input_tokens': 897, 'output_tokens': 26, 'total_tokens': 923}\n"
     ]
    }
   ],
   "source": [
    "print(chat_process.run({\n",
    "    \"prompt\" : \"What were the animals in those photos?\",\n",
    "}))"
   ]
  }
 ],
 "metadata": {
  "kernelspec": {
   "display_name": ".venv",
   "language": "python",
   "name": "python3"
  },
  "language_info": {
   "codemirror_mode": {
    "name": "ipython",
    "version": 3
   },
   "file_extension": ".py",
   "mimetype": "text/x-python",
   "name": "python",
   "nbconvert_exporter": "python",
   "pygments_lexer": "ipython3",
   "version": "3.12.9"
  }
 },
 "nbformat": 4,
 "nbformat_minor": 2
}
