{
 "cells": [
  {
   "cell_type": "code",
   "execution_count": 1,
   "metadata": {},
   "outputs": [
    {
     "name": "stderr",
     "output_type": "stream",
     "text": [
      "c:\\Users\\Student\\Documents\\University\\Fifth Year\\COM4520\\Psycore\\.venv\\Lib\\site-packages\\tqdm\\auto.py:21: TqdmWarning: IProgress not found. Please update jupyter and ipywidgets. See https://ipywidgets.readthedocs.io/en/stable/user_install.html\n",
      "  from .autonotebook import tqdm as notebook_tqdm\n"
     ]
    },
    {
     "name": "stdout",
     "output_type": "stream",
     "text": [
      "{'response': 'Please provide me with the images! I need to see the images to tell you what is in them.', 'prompt': 'What is in these images?'}\n",
      "[('system', \"Answer the user's questions\"), ('user', 'What is in these images?'), ('ai', 'Please provide me with the images! I need to see the images to tell you what is in them.')]\n"
     ]
    }
   ],
   "source": [
    "import sys\n",
    "import os\n",
    "\n",
    "sys.path.append(os.path.abspath(os.path.join('..')))\n",
    "\n",
    "from src.flow.chat_process import ChatProcess\n",
    "\n",
    "chat_process = ChatProcess(\"Answer the user's questions\", 'gemini_1.5_flash',None)\n",
    "print(chat_process.run({\n",
    "    \"prompt\" : \"What is in these images?\",\n",
    "    \"attachments\" : [\"cat.jpeg\" , \"dog.jpeg\"],\n",
    "    \"append\" : True\n",
    "}))\n",
    "print(chat_process.runner.chat)\n"
   ]
  },
  {
   "cell_type": "code",
   "execution_count": 2,
   "metadata": {},
   "outputs": [
    {
     "name": "stdout",
     "output_type": "stream",
     "text": [
      "{'response': 'Please share the photos with me! I need to see the images to tell you what animals were in them.', 'prompt': 'What were the animals in those photos?'}\n"
     ]
    }
   ],
   "source": [
    "print(chat_process.run({\n",
    "    \"prompt\" : \"What were the animals in those photos?\",\n",
    "}))"
   ]
  }
 ],
 "metadata": {
  "kernelspec": {
   "display_name": ".venv",
   "language": "python",
   "name": "python3"
  },
  "language_info": {
   "codemirror_mode": {
    "name": "ipython",
    "version": 3
   },
   "file_extension": ".py",
   "mimetype": "text/x-python",
   "name": "python",
   "nbconvert_exporter": "python",
   "pygments_lexer": "ipython3",
   "version": "3.12.9"
  }
 },
 "nbformat": 4,
 "nbformat_minor": 2
}
