{
 "cells": [
  {
   "cell_type": "code",
   "execution_count": 1,
   "metadata": {},
   "outputs": [
    {
     "name": "stdout",
     "output_type": "stream",
     "text": [
      "{'response': 'Please provide me with the images! I need to see the images to tell you what is in them.', 'prompt': 'What is in these images?'}\n",
      "[('system', \"Answer the user's questions\"), ('user', 'What is in these images?'), ('ai', 'Please provide me with the images! I need to see the images to tell you what is in them.')]\n"
     ]
    }
   ],
   "source": [
    "import sys\n",
    "import os\n",
    "\n",
    "sys.path.append(os.path.abspath(os.path.join('..')))\n",
    "\n",
    "from src.flow.chat_process import ChatProcess\n",
    "\n",
    "chat_process = ChatProcess(\"Answer the user's questions\", 'gemini_1.5_flash',None)\n",
    "print(chat_process.run({\n",
    "    \"prompt\" : \"What is in these images?\",\n",
    "    \"attachments\" : [\"404.jpg\" , \"donghwan.jpg\"],\n",
    "    \"append\" : True\n",
    "}))\n",
    "print(chat_process.runner.chat)\n",
    "\n",
    "\n"
   ]
  },
  {
   "cell_type": "code",
   "execution_count": 3,
   "metadata": {},
   "outputs": [
    {
     "name": "stdout",
     "output_type": "stream",
     "text": [
      "{'response': 'Please share the photos with me! I need to see the images to tell you what animals were in them.', 'prompt': 'What were the animals in those photos?'}\n"
     ]
    }
   ],
   "source": [
    "print(chat_process.run({\n",
    "    \"prompt\" : \"What subject do you think the man teaches?\",\n",
    "}))"
   ]
  },
  {
   "cell_type": "code",
   "execution_count": null,
   "metadata": {},
   "outputs": [],
   "source": [
    "from pdf2image import convert_from_path, convert_from_bytes\n",
    "from pdf2image.exceptions import (\n",
    "    PDFInfoNotInstalledError,\n",
    "    PDFPageCountError,\n",
    "    PDFSyntaxError\n",
    ")\n",
    "\n",
    "# Load PDF\n",
    "\n",
    "pages = convert_from_path(\"Norfolk_Public_Review_PR_RFI_Launch__Template_V2_.pdf\") \n",
    "\n",
    "\n",
    "\n",
    "# Access and save the first page image\n",
    "\n",
    "first_page_image = pages[0]\n",
    "\n",
    "first_page_image.save(\"extracted_image.jpg\") "
   ]
  },
  {
   "cell_type": "code",
   "execution_count": 1,
   "metadata": {},
   "outputs": [
    {
     "name": "stdout",
     "output_type": "stream",
     "text": [
      "Extracted 27 images\n"
     ]
    }
   ],
   "source": [
    "import fitz  # PyMuPDF\n",
    "\n",
    "# Open PDF file\n",
    "pdf = fitz.open(\"Norfolk_Public_Review_PR_RFI_Launch__Template_V2_.pdf\")\n",
    "\n",
    "# Iterate through pages and extract images\n",
    "image_count = 0\n",
    "for page_num in range(len(pdf)):\n",
    "    page = pdf[page_num]\n",
    "    image_list = page.get_images()\n",
    "    \n",
    "    for img_index, img in enumerate(image_list):\n",
    "        xref = img[0]\n",
    "        base_image = pdf.extract_image(xref)\n",
    "        image_bytes = base_image[\"image\"]\n",
    "        \n",
    "        # Save the image\n",
    "        with open(f\"output_image_{page_num}_{img_index}.png\", \"wb\") as image_file:\n",
    "            image_file.write(image_bytes)\n",
    "        \n",
    "        image_count += 1\n",
    "\n",
    "print(f\"Extracted {image_count} images\")"
   ]
  }
 ],
 "metadata": {
  "kernelspec": {
   "display_name": ".venv",
   "language": "python",
   "name": "python3"
  },
  "language_info": {
   "codemirror_mode": {
    "name": "ipython",
    "version": 3
   },
   "file_extension": ".py",
   "mimetype": "text/x-python",
   "name": "python",
   "nbconvert_exporter": "python",
   "pygments_lexer": "ipython3",
   "version": "3.12.9"
  }
 },
 "nbformat": 4,
 "nbformat_minor": 2
}
