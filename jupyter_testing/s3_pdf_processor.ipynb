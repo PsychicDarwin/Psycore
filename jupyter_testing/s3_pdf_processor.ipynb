{
 "cells": [
  {
   "cell_type": "code",
   "execution_count": 244,
   "id": "ab85d291",
   "metadata": {},
   "outputs": [],
   "source": [
    "import os\n",
    "import sys\n",
    "import logging\n",
    "import tempfile\n",
    "from pathlib import Path\n",
    "from PIL import Image\n",
    "from io import BytesIO\n",
    "import base64\n",
    "import json\n",
    "from datetime import datetime\n",
    "import boto3\n",
    "from botocore.exceptions import ClientError\n",
    "import networkx as nx\n",
    "from src.interaction.knowledge_graphs import BERTKGTransformer\n",
    "from src.model.model_catalogue import ModelType, ModelCatalogue, Providers\n",
    "from src.model.wrappers import ChatModelWrapper\n",
    "from langchain_core.messages import HumanMessage, SystemMessage\n",
    "from langchain_core.messages.human import HumanMessage\n",
    "from langchain_core.messages.system import SystemMessage"
   ]
  },
  {
   "cell_type": "code",
   "execution_count": 245,
   "id": "41140191",
   "metadata": {},
   "outputs": [],
   "source": [
    "# Add project root to path to import the Psycore modules\n",
    "sys.path.append(os.path.abspath(os.path.join(os.getcwd(), '..')))"
   ]
  },
  {
   "cell_type": "code",
   "execution_count": 246,
   "id": "56497c3c",
   "metadata": {},
   "outputs": [],
   "source": [
    "# Import Psycore modules\n",
    "from src.data.common_types import AttachmentTypes\n",
    "from src.data.attachments import Attachment, FailedExtraction\n",
    "from src.data.pdf_extractor import PDFExtractor"
   ]
  },
  {
   "cell_type": "code",
   "execution_count": 247,
   "id": "ecdaadeb",
   "metadata": {},
   "outputs": [],
   "source": [
    "# Configure logging\n",
    "logging.basicConfig(\n",
    "    level=logging.INFO,\n",
    "    format='%(asctime)s - %(name)s - %(levelname)s - %(message)s'\n",
    ")\n",
    "logger = logging.getLogger(\"s3_pdf_processor\")"
   ]
  },
  {
   "cell_type": "code",
   "execution_count": 248,
   "id": "d9d18917",
   "metadata": {},
   "outputs": [],
   "source": [
    "# Set up output directory\n",
    "OUTPUT_DIR = os.path.join(os.getcwd(), \"processed_pdfs\")\n",
    "os.makedirs(OUTPUT_DIR, exist_ok=True)"
   ]
  },
  {
   "cell_type": "code",
   "execution_count": 249,
   "id": "147d875e",
   "metadata": {},
   "outputs": [
    {
     "name": "stdout",
     "output_type": "stream",
     "text": [
      "Setup completed. Output directory is: c:\\Users\\Student\\Documents\\University\\Fifth Year\\COM4520\\Psycore\\jupyter_testing\\processed_pdfs\n"
     ]
    }
   ],
   "source": [
    "print(\"Setup completed. Output directory is:\", OUTPUT_DIR)"
   ]
  },
  {
   "cell_type": "code",
   "execution_count": 250,
   "id": "c0aa298c",
   "metadata": {
    "lines_to_next_cell": 1
   },
   "outputs": [],
   "source": [
    "# Configure bucket names\n",
    "SOURCE_BUCKET = \"psycore-documents-445644858344\"\n",
    "IMAGES_BUCKET = \"psycore-document-images-445644858344\"\n",
    "GRAPHS_BUCKET = \"psycore-document-graphs-445644858344\""
   ]
  },
  {
   "cell_type": "code",
   "execution_count": 251,
   "id": "2bbcaea2",
   "metadata": {
    "lines_to_next_cell": 1
   },
   "outputs": [],
   "source": [
    "# Initialize model for image analysis\n",
    "def get_model(model_type=None):\n",
    "    \"\"\"\n",
    "    Get a model instance based on the specified type.\n",
    "    If no type is specified, defaults to Bakllava 7B.\n",
    "    \"\"\"\n",
    "    if model_type is None:\n",
    "        model_type = ModelCatalogue._models[\"bakllava_7b\"]  # Using Bakllava 7B as default for local processing\n",
    "    return ChatModelWrapper(model_type)"
   ]
  },
  {
   "cell_type": "code",
   "execution_count": 252,
   "id": "0436e2e4",
   "metadata": {
    "lines_to_next_cell": 1
   },
   "outputs": [],
   "source": [
    "def analyze_image_with_llm(image_path: str, image_s3_url: str, original_doc_s3_url: str, model=None) -> dict:\n",
    "    \"\"\"\n",
    "    Analyze an image using a language model and return the analysis.\n",
    "    \n",
    "    Args:\n",
    "        image_path: Path to the image file\n",
    "        image_s3_url: S3 URL where the image is stored\n",
    "        original_doc_s3_url: S3 URL of the original PDF document\n",
    "        model: Optional model instance to use (if None, uses default model)\n",
    "    \"\"\"\n",
    "    try:\n",
    "        if model is None:\n",
    "            model = get_model()\n",
    "            \n",
    "        with open(image_path, \"rb\") as img_file:\n",
    "            img_data = base64.b64encode(img_file.read()).decode('utf-8')\n",
    "        \n",
    "        # Create message format based on model type\n",
    "        if model.model_type.provider == Providers.OLLAMA:\n",
    "            # Ollama format requires image_url type with base64 data URL\n",
    "            message = HumanMessage(\n",
    "                content=[\n",
    "                    {\n",
    "                        \"type\": \"text\",\n",
    "                        \"text\": f\"\"\"Analyze this image and provide a detailed description. Consider:\n",
    "1. What is shown in the image?\n",
    "2. What is the main purpose or message of this image?\n",
    "3. How does it relate to the document it's from?\n",
    "4. Are there any key data points, figures, or text visible?\n",
    "\n",
    "Original document: {original_doc_s3_url}\n",
    "Image location: {image_s3_url}\"\"\"\n",
    "                    },\n",
    "                    {\n",
    "                        \"type\": \"image_url\",\n",
    "                        \"image_url\": f\"data:image/jpeg;base64,{img_data}\"\n",
    "                    }\n",
    "                ]\n",
    "            )\n",
    "        else:\n",
    "            # Default format for other providers (Claude, Gemini, etc.)\n",
    "            message = HumanMessage(\n",
    "                content=[\n",
    "                    {\n",
    "                        \"type\": \"text\",\n",
    "                        \"text\": f\"\"\"Analyze this image and provide a detailed description. Consider:\n",
    "1. What is shown in the image?\n",
    "2. What is the main purpose or message of this image?\n",
    "3. How does it relate to the document it's from?\n",
    "4. Are there any key data points, figures, or text visible?\n",
    "\n",
    "Original document: {original_doc_s3_url}\n",
    "Image location: {image_s3_url}\"\"\"\n",
    "                    },\n",
    "                    {\n",
    "                        \"type\": \"image\",\n",
    "                        \"source\": {\n",
    "                            \"type\": \"base64\",\n",
    "                            \"media_type\": \"image/jpeg\",\n",
    "                            \"data\": img_data\n",
    "                        }\n",
    "                    }\n",
    "                ]\n",
    "            )\n",
    "        \n",
    "        # Use LangChain's chat interface with a single message\n",
    "        response = model.model.invoke([message])\n",
    "        \n",
    "        # Extract the response text\n",
    "        analysis_text = str(response.content) if hasattr(response, 'content') else str(response)\n",
    "        \n",
    "        return {\n",
    "            \"analysis\": analysis_text,\n",
    "            \"image_s3_url\": image_s3_url,\n",
    "            \"original_doc_s3_url\": original_doc_s3_url,\n",
    "            \"model_type\": str(model.model_type)\n",
    "        }\n",
    "    except Exception as e:\n",
    "        logger.error(f\"Failed to analyze image with model: {str(e)}\", exc_info=True)  # Added exc_info for better error tracking\n",
    "        return {\n",
    "            \"error\": str(e),\n",
    "            \"image_s3_url\": image_s3_url,\n",
    "            \"original_doc_s3_url\": original_doc_s3_url,\n",
    "            \"model_type\": str(model.model_type) if model else \"unknown\"\n",
    "        }"
   ]
  },
  {
   "cell_type": "code",
   "execution_count": 253,
   "id": "a47813a2",
   "metadata": {
    "lines_to_next_cell": 1
   },
   "outputs": [],
   "source": [
    "def extract_knowledge_graph(text: str, image_analyses: list) -> nx.DiGraph:\n",
    "    \"\"\"\n",
    "    Extract a knowledge graph from text and image analyses.\n",
    "    \"\"\"\n",
    "    # Initialize BERT transformer with custom entity types\n",
    "    kg_transformer = BERTKGTransformer(\n",
    "        allowed_nodes=['PERSON', 'ORG', 'LOC', 'DATE', 'FIGURE', 'CONCEPT', 'DATA', 'IMAGE', 'TOPIC', 'KEY_POINT'],\n",
    "        allowed_relationships=[\n",
    "            ('PERSON', 'works_for', 'ORG'),\n",
    "            ('PERSON', 'located_in', 'LOC'),\n",
    "            ('ORG', 'based_in', 'LOC'),\n",
    "            ('CONCEPT', 'related_to', 'CONCEPT'),\n",
    "            ('DATA', 'supports', 'CONCEPT'),\n",
    "            ('FIGURE', 'illustrates', 'CONCEPT'),\n",
    "            ('IMAGE', 'contains', 'CONCEPT'),\n",
    "            ('IMAGE', 'shows', 'FIGURE'),\n",
    "            ('TOPIC', 'includes', 'CONCEPT'),\n",
    "            ('KEY_POINT', 'supports', 'TOPIC'),\n",
    "            ('DATA', 'part_of', 'FIGURE'),\n",
    "            ('CONCEPT', 'mentioned_in', 'IMAGE'),\n",
    "            ('FIGURE', 'appears_in', 'IMAGE'),\n",
    "            ('TOPIC', 'discussed_in', 'IMAGE')\n",
    "        ]\n",
    "    )\n",
    "    \n",
    "    # Create a new graph\n",
    "    graph = nx.DiGraph()\n",
    "    \n",
    "    # Process main document text in chunks to handle large documents\n",
    "    chunk_size = 1000  # Process 1000 characters at a time\n",
    "    text_chunks = [text[i:i + chunk_size] for i in range(0, len(text), chunk_size)]\n",
    "    \n",
    "    for chunk in text_chunks:\n",
    "        if not chunk.strip():  # Skip empty chunks\n",
    "            continue\n",
    "        # Process chunk and merge with main graph\n",
    "        chunk_graph = kg_transformer.process_text(chunk)\n",
    "        graph = nx.compose(graph, chunk_graph)\n",
    "    \n",
    "    # Process image analyses\n",
    "    for analysis in image_analyses:\n",
    "        if 'analysis' in analysis and 'image_s3_url' in analysis:\n",
    "            # Add image node\n",
    "            image_node = analysis['image_s3_url']\n",
    "            graph.add_node(image_node, type='IMAGE')\n",
    "            \n",
    "            # Process image analysis text\n",
    "            analysis_text = analysis['analysis']\n",
    "            if isinstance(analysis_text, str) and analysis_text.strip():\n",
    "                # Extract key concepts from the analysis\n",
    "                img_graph = kg_transformer.process_text(analysis_text)\n",
    "                \n",
    "                # Add edges between image and extracted concepts\n",
    "                for node, data in img_graph.nodes(data=True):\n",
    "                    if data.get('type') in ['CONCEPT', 'FIGURE', 'TOPIC', 'KEY_POINT']:\n",
    "                        # Add the node and its data to the main graph\n",
    "                        graph.add_node(node, **data)\n",
    "                        # Connect image to the concept\n",
    "                        if data.get('type') == 'CONCEPT':\n",
    "                            graph.add_edge(image_node, node, relationship='contains')\n",
    "                        elif data.get('type') == 'FIGURE':\n",
    "                            graph.add_edge(image_node, node, relationship='shows')\n",
    "                        elif data.get('type') == 'TOPIC':\n",
    "                            graph.add_edge(image_node, node, relationship='discusses')\n",
    "                        elif data.get('type') == 'KEY_POINT':\n",
    "                            graph.add_edge(image_node, node, relationship='illustrates')\n",
    "                \n",
    "                # Add relationships between concepts\n",
    "                for u, v, data in img_graph.edges(data=True):\n",
    "                    if u in graph and v in graph:  # Only add edges if both nodes exist\n",
    "                        graph.add_edge(u, v, **data)\n",
    "    \n",
    "    # Ensure all nodes have a type\n",
    "    for node in graph.nodes():\n",
    "        if 'type' not in graph.nodes[node]:\n",
    "            if any(node.startswith(prefix) for prefix in ['s3://', 'http://', 'https://']):\n",
    "                graph.nodes[node]['type'] = 'IMAGE'\n",
    "            else:\n",
    "                graph.nodes[node]['type'] = 'CONCEPT'\n",
    "    \n",
    "    # Ensure all edges have a relationship\n",
    "    for u, v in graph.edges():\n",
    "        if 'relationship' not in graph.edges[u, v]:\n",
    "            graph.edges[u, v]['relationship'] = 'related_to'\n",
    "    \n",
    "    return graph"
   ]
  },
  {
   "cell_type": "code",
   "execution_count": 254,
   "id": "ca5a7e1c",
   "metadata": {
    "lines_to_next_cell": 1
   },
   "outputs": [],
   "source": [
    "# S3 Configuration\n",
    "def configure_s3_client(aws_access_key_id=None, aws_secret_access_key=None, region_name='eu-west-2'):\n",
    "    \"\"\"\n",
    "    Configure and return an S3 client\n",
    "    If no credentials are provided, boto3 will use the default credential chain\n",
    "    \"\"\"\n",
    "    return boto3.client(\n",
    "        's3',\n",
    "        aws_access_key_id=aws_access_key_id,\n",
    "        aws_secret_access_key=aws_secret_access_key,\n",
    "        region_name=region_name\n",
    "    )"
   ]
  },
  {
   "cell_type": "code",
   "execution_count": 255,
   "id": "4665e835",
   "metadata": {
    "lines_to_next_cell": 1
   },
   "outputs": [],
   "source": [
    "def list_pdfs_in_s3(s3_client, bucket_name, prefix=''):\n",
    "    \"\"\"\n",
    "    List all PDF files in the specified S3 bucket and prefix\n",
    "    \n",
    "    Returns:\n",
    "        list: List of dictionaries containing file info\n",
    "    \"\"\"\n",
    "    pdf_files = []\n",
    "    try:\n",
    "        paginator = s3_client.get_paginator('list_objects_v2')\n",
    "        for page in paginator.paginate(Bucket=bucket_name, Prefix=prefix):\n",
    "            if 'Contents' in page:\n",
    "                for obj in page['Contents']:\n",
    "                    if obj['Key'].lower().endswith('.pdf'):\n",
    "                        size_mb = obj['Size'] / (1024 * 1024)  # Convert to MB\n",
    "                        pdf_files.append({\n",
    "                            'key': obj['Key'],\n",
    "                            'size': size_mb,\n",
    "                            'last_modified': obj['LastModified']\n",
    "                        })\n",
    "    except ClientError as e:\n",
    "        logger.error(f\"Error listing PDFs in S3: {str(e)}\")\n",
    "    \n",
    "    return pdf_files"
   ]
  },
  {
   "cell_type": "code",
   "execution_count": 256,
   "id": "0bc10626",
   "metadata": {
    "lines_to_next_cell": 1
   },
   "outputs": [],
   "source": [
    "def download_from_s3(s3_client, bucket_name, s3_key, local_path):\n",
    "    \"\"\"\n",
    "    Download a file from S3\n",
    "    \"\"\"\n",
    "    try:\n",
    "        s3_client.download_file(bucket_name, s3_key, local_path)\n",
    "        return True\n",
    "    except ClientError as e:\n",
    "        logger.error(f\"Failed to download {s3_key} from S3: {str(e)}\")\n",
    "        return False"
   ]
  },
  {
   "cell_type": "code",
   "execution_count": 257,
   "id": "3c6dd9f1",
   "metadata": {
    "lines_to_next_cell": 1
   },
   "outputs": [],
   "source": [
    "def upload_to_s3(s3_client, file_path, bucket_name, s3_key):\n",
    "    \"\"\"\n",
    "    Upload a file to S3\n",
    "    \"\"\"\n",
    "    try:\n",
    "        s3_client.upload_file(file_path, bucket_name, s3_key)\n",
    "        return True\n",
    "    except ClientError as e:\n",
    "        logger.error(f\"Failed to upload {file_path} to S3: {str(e)}\")\n",
    "        return False"
   ]
  },
  {
   "cell_type": "code",
   "execution_count": 258,
   "id": "0cdc7462",
   "metadata": {
    "lines_to_next_cell": 1
   },
   "outputs": [],
   "source": [
    "def process_pdf(pdf_path, output_dir=None):\n",
    "    \"\"\"\n",
    "    Process a PDF file using the PDFExtractor and save results.\n",
    "    \"\"\"\n",
    "    result = {\n",
    "        \"filename\": os.path.basename(pdf_path),\n",
    "        \"success\": False,\n",
    "        \"text_extracted\": False,\n",
    "        \"image_count\": 0,\n",
    "        \"error\": None,\n",
    "        \"output_dir\": None,\n",
    "        \"image_analyses\": []\n",
    "    }\n",
    "    \n",
    "    try:\n",
    "        # Create output directory if specified\n",
    "        pdf_basename = os.path.basename(pdf_path).replace(\".\", \"_\")\n",
    "        \n",
    "        if output_dir:\n",
    "            result_dir = os.path.join(output_dir, pdf_basename)\n",
    "            os.makedirs(result_dir, exist_ok=True)\n",
    "            result[\"output_dir\"] = result_dir\n",
    "        \n",
    "        # Create attachment and process it\n",
    "        attachment = Attachment(AttachmentTypes.FILE, pdf_path, True)\n",
    "        attachment.extract()\n",
    "        \n",
    "        # Get extracted images\n",
    "        extracted_images = attachment.pop_extra_attachments()\n",
    "        result[\"image_count\"] = len(extracted_images)\n",
    "        \n",
    "        # Get extracted text\n",
    "        extracted_text = attachment.attachment_data\n",
    "        result[\"text_extracted\"] = len(extracted_text) > 0\n",
    "        \n",
    "        # Save results if output directory is specified\n",
    "        if output_dir:\n",
    "            # Save text content\n",
    "            if result[\"text_extracted\"]:\n",
    "                text_path = os.path.join(result_dir, \"extracted_text.txt\")\n",
    "                with open(text_path, \"w\", encoding=\"utf-8\") as f:\n",
    "                    f.write(extracted_text)\n",
    "            \n",
    "            # Save extracted images and analyze them\n",
    "            images_dir = os.path.join(result_dir, \"images\")\n",
    "            os.makedirs(images_dir, exist_ok=True)\n",
    "            \n",
    "            for i, img in enumerate(extracted_images):\n",
    "                try:\n",
    "                    # Convert base64 to image\n",
    "                    img_data = img.attachment_data\n",
    "                    img_bytes = base64.b64decode(img_data)\n",
    "                    \n",
    "                    # Save the image\n",
    "                    img_path = os.path.join(images_dir, f\"image_{i+1}.jpg\")\n",
    "                    with open(img_path, \"wb\") as f:\n",
    "                        f.write(img_bytes)\n",
    "                        \n",
    "                    # Store image analysis\n",
    "                    result[\"image_analyses\"].append({\n",
    "                        \"image_path\": img_path,\n",
    "                        \"page_number\": img.metadata.get(\"page_number\", \"unknown\"),\n",
    "                        \"page_text\": img.metadata.get(\"page_text\", \"\")\n",
    "                    })\n",
    "                except Exception as e:\n",
    "                    logger.warning(f\"Failed to save image {i+1}: {str(e)}\")\n",
    "            \n",
    "            # Save metadata\n",
    "            metadata = {\n",
    "                \"filename\": os.path.basename(pdf_path),\n",
    "                \"text_length\": len(extracted_text),\n",
    "                \"image_count\": len(extracted_images),\n",
    "                \"processed_at\": str(datetime.now())\n",
    "            }\n",
    "            \n",
    "            metadata_path = os.path.join(result_dir, \"metadata.json\")\n",
    "            with open(metadata_path, \"w\") as f:\n",
    "                json.dump(metadata, f, indent=2)\n",
    "        \n",
    "        result[\"success\"] = True\n",
    "        \n",
    "    except FailedExtraction as e:\n",
    "        result[\"success\"] = False\n",
    "        result[\"error\"] = str(e)\n",
    "        logger.error(f\"Failed extraction for {pdf_path}: {str(e)}\")\n",
    "    except Exception as e:\n",
    "        result[\"success\"] = False\n",
    "        result[\"error\"] = str(e)\n",
    "        logger.error(f\"Error processing {pdf_path}: {str(e)}\")\n",
    "    \n",
    "    return result"
   ]
  },
  {
   "cell_type": "code",
   "execution_count": 259,
   "id": "e9a71be3",
   "metadata": {
    "lines_to_next_cell": 1
   },
   "outputs": [],
   "source": [
    "def process_pdf_from_s3(s3_client, bucket_name, s3_key, output_dir, model=None):\n",
    "    \"\"\"\n",
    "    Download a PDF from S3, process it, and upload results back to S3\n",
    "    \n",
    "    Args:\n",
    "        s3_client: Boto3 S3 client\n",
    "        bucket_name: Source bucket name\n",
    "        s3_key: Key of the PDF file in S3\n",
    "        output_dir: Local directory to store processed files\n",
    "        model: Optional model instance to use for image analysis\n",
    "    \"\"\"\n",
    "    # Create a temporary directory for downloading\n",
    "    with tempfile.TemporaryDirectory() as temp_dir:\n",
    "        # Download PDF from S3\n",
    "        local_pdf_path = os.path.join(temp_dir, os.path.basename(s3_key))\n",
    "        if download_from_s3(s3_client, bucket_name, s3_key, local_pdf_path):\n",
    "            # Process the PDF\n",
    "            start_time = datetime.now()\n",
    "            result = process_pdf(local_pdf_path, output_dir)\n",
    "            processing_time = datetime.now() - start_time\n",
    "            \n",
    "            print(f\"\\nProcessing completed in {processing_time.total_seconds():.2f} seconds\")\n",
    "            print(f\"Success: {result['success']}\")\n",
    "            print(f\"Extracted text: {'Yes' if result['text_extracted'] else 'No'}\")\n",
    "            print(f\"Images extracted: {result['image_count']}\")\n",
    "            \n",
    "            if result['output_dir']:\n",
    "                print(f\"Results saved to: {result['output_dir']}\")\n",
    "                \n",
    "                # Upload results back to S3\n",
    "                pdf_name = os.path.basename(s3_key).replace('.pdf', '')\n",
    "                results_prefix = f\"processed/{pdf_name}\"\n",
    "                doc_s3_url = f\"s3://{bucket_name}/{s3_key}\"\n",
    "                \n",
    "                # Upload extracted text\n",
    "                if result['text_extracted']:\n",
    "                    text_path = os.path.join(result['output_dir'], \"extracted_text.txt\")\n",
    "                    upload_to_s3(s3_client, text_path, bucket_name, f\"{results_prefix}/extracted_text.txt\")\n",
    "                \n",
    "                # Upload metadata\n",
    "                metadata_path = os.path.join(result['output_dir'], \"metadata.json\")\n",
    "                upload_to_s3(s3_client, metadata_path, bucket_name, f\"{results_prefix}/metadata.json\")\n",
    "                \n",
    "                # Process and upload images\n",
    "                images_dir = os.path.join(result['output_dir'], \"images\")\n",
    "                image_analyses = []\n",
    "                \n",
    "                if os.path.exists(images_dir):\n",
    "                    for img_file in os.listdir(images_dir):\n",
    "                        img_path = os.path.join(images_dir, img_file)\n",
    "                        # Upload to the dedicated images bucket with PDF name as prefix\n",
    "                        image_key = f\"{pdf_name}/{img_file}\"\n",
    "                        image_s3_url = f\"s3://{IMAGES_BUCKET}/{image_key}\"\n",
    "                        \n",
    "                        if upload_to_s3(s3_client, img_path, IMAGES_BUCKET, image_key):\n",
    "                            print(f\"Uploaded image to: {image_s3_url}\")\n",
    "                            \n",
    "                            # Analyze image with model\n",
    "                            analysis = analyze_image_with_llm(img_path, image_s3_url, doc_s3_url, model)\n",
    "                            image_analyses.append(analysis)\n",
    "                \n",
    "                # Save image analyses\n",
    "                analyses_path = os.path.join(result['output_dir'], \"image_analyses.json\")\n",
    "                with open(analyses_path, \"w\") as f:\n",
    "                    json.dump(image_analyses, f, indent=2)\n",
    "                upload_to_s3(s3_client, analyses_path, bucket_name, f\"{results_prefix}/image_analyses.json\")\n",
    "                \n",
    "                # Extract knowledge graph\n",
    "                if result['text_extracted']:\n",
    "                    with open(text_path, 'r', encoding='utf-8') as f:\n",
    "                        doc_text = f.read()\n",
    "                    \n",
    "                    # Create knowledge graph\n",
    "                    graph = extract_knowledge_graph(doc_text, image_analyses)\n",
    "                    \n",
    "                    # Save graph data\n",
    "                    graph_data = {\n",
    "                        \"nodes\": [\n",
    "                            {\n",
    "                                \"id\": n,\n",
    "                                \"type\": graph.nodes[n].get('type', 'UNKNOWN'),\n",
    "                                \"label\": n.split('/')[-1] if '/' in n else n  # Use last part of URL for images\n",
    "                            } for n in graph.nodes()\n",
    "                        ],\n",
    "                        \"edges\": [\n",
    "                            {\n",
    "                                \"source\": u,\n",
    "                                \"target\": v,\n",
    "                                \"relationship\": graph.edges[u, v].get('relationship', 'related_to'),\n",
    "                                \"weight\": 1.0\n",
    "                            } for u, v in graph.edges()\n",
    "                        ],\n",
    "                        \"metadata\": {\n",
    "                            \"model_used\": str(model.model_type) if model else \"default\",\n",
    "                            \"processed_at\": str(datetime.now()),\n",
    "                            \"source_document\": doc_s3_url,\n",
    "                            \"node_count\": len(graph.nodes()),\n",
    "                            \"edge_count\": len(graph.edges()),\n",
    "                            \"node_types\": list(set(data.get('type', 'UNKNOWN') \n",
    "                                                 for _, data in graph.nodes(data=True))),\n",
    "                            \"relationship_types\": list(set(data.get('relationship', 'related_to') \n",
    "                                                        for _, _, data in graph.edges(data=True)))\n",
    "                        }\n",
    "                    }\n",
    "                    \n",
    "                    graph_path = os.path.join(result['output_dir'], \"knowledge_graph.json\")\n",
    "                    with open(graph_path, \"w\") as f:\n",
    "                        json.dump(graph_data, f, indent=2)\n",
    "                    \n",
    "                    # Upload to graphs bucket\n",
    "                    upload_to_s3(s3_client, graph_path, GRAPHS_BUCKET, f\"{pdf_name}/knowledge_graph.json\")\n",
    "                    print(f\"Uploaded knowledge graph to: s3://{GRAPHS_BUCKET}/{pdf_name}/knowledge_graph.json\")\n",
    "            \n",
    "            return result\n",
    "        else:\n",
    "            print(f\"Failed to download PDF from S3: {s3_key}\")\n",
    "            return None"
   ]
  },
  {
   "cell_type": "code",
   "execution_count": 260,
   "id": "f17fe5e8",
   "metadata": {},
   "outputs": [],
   "source": [
    "# Initialize S3 client\n",
    "s3_client = configure_s3_client()"
   ]
  },
  {
   "cell_type": "code",
   "execution_count": 261,
   "id": "7a987ed1",
   "metadata": {},
   "outputs": [],
   "source": [
    "# List PDFs in S3\n",
    "pdf_files = list_pdfs_in_s3(s3_client, SOURCE_BUCKET)"
   ]
  },
  {
   "cell_type": "code",
   "execution_count": 262,
   "id": "30a1b9aa",
   "metadata": {},
   "outputs": [
    {
     "name": "stdout",
     "output_type": "stream",
     "text": [
      "Found 75 PDF files in S3:\n",
      "1. 18-02311-01_SCCP_-_Synthesis_Report_v5_March_2020__1_.pdf (1.80 MB)\n",
      "   Last modified: 2025-04-02 12:10:01+00:00\n",
      "2. 18-049091-01_LFFN_Wave_1_final_evaluation_TPI_project.pdf (3.08 MB)\n",
      "   Last modified: 2025-04-02 12:10:02+00:00\n",
      "3. 18-049091-01_LFFN_Wave_1_final_evaluation_technical_annex.pdf (1.39 MB)\n",
      "   Last modified: 2025-04-02 12:10:02+00:00\n",
      "4. 18-049091_01_LFFN_Wave_1_final_evaluation_Schools_PSBU_project.pdf (1.37 MB)\n",
      "   Last modified: 2025-04-02 12:10:03+00:00\n",
      "5. 18-049091_01_LFFN_Wave_1_final_evaluation_Synthesis_report.pdf (1.43 MB)\n",
      "   Last modified: 2025-04-02 12:10:03+00:00\n",
      "6. 18-049091_01_LFFN_Wave_1_final_evaluation_Tameside_PSAR_project.pdf (2.81 MB)\n",
      "   Last modified: 2025-04-02 12:10:04+00:00\n",
      "7. 18-049091_01_LFFN_Wave_1_final_evaluation_West_Sussex_PSAT_project.pdf (2.53 MB)\n",
      "   Last modified: 2025-04-02 12:10:04+00:00\n",
      "8. 20201222_-_Planning_for_Gigabit_Delivery_in_2021_V2.pdf (3.41 MB)\n",
      "   Last modified: 2025-04-02 12:10:05+00:00\n",
      "9. 20201222_-_Planning_for_Gigabit_Delivery_in_2021_V2_1.pdf (3.41 MB)\n",
      "   Last modified: 2025-04-02 12:10:06+00:00\n",
      "10. 2021.01.20_External__Outside_In_Type_C_engagement_v1.pdf (0.43 MB)\n",
      "   Last modified: 2025-04-02 12:10:06+00:00\n",
      "11. 20210325_Open_Market_Review_RFI_Phase_1b.pdf (0.76 MB)\n",
      "   Last modified: 2025-04-02 12:10:06+00:00\n",
      "12. 21-087286-01_Economic_and_Social_Impacts_2022_V4_CLIENT_USE_Clean.pdf (27.30 MB)\n",
      "   Last modified: 2025-04-02 12:09:36+00:00\n",
      "13. 21-087286-01_Superfast_State_Aid_Evaluation_-_Main_State_Aid_Report_-_FINAL_VERSION_RedactedV2.pdf (1.40 MB)\n",
      "   Last modified: 2025-04-02 12:10:07+00:00\n",
      "14. 21-087286-01_Superfast_State_Aid_Technical_Annex_1__Reducing_the_Digital_Divide_-_FINAL_VERSION.pdf (1.10 MB)\n",
      "   Last modified: 2025-04-02 12:10:07+00:00\n",
      "15. 2119012201_Superfast_State_Aid_Technical_Annex_2_CLIENT_USE_Redacted.pdf (0.66 MB)\n",
      "   Last modified: 2025-04-02 12:10:07+00:00\n",
      "16. 22-036458-01_GIS_early_process_evaluation_Accessible_CLIENT_USE.pdf (0.49 MB)\n",
      "   Last modified: 2025-04-02 12:10:08+00:00\n",
      "17. 23_June_BDUK_Outside_In_Market_Engagement_Event_Slides.pdf (1.62 MB)\n",
      "   Last modified: 2025-04-02 12:10:08+00:00\n",
      "18. 2B_OMR_RFI_Template_V3.1._1_.pdf (1.65 MB)\n",
      "   Last modified: 2025-04-02 12:10:08+00:00\n",
      "19. 30th_June_Outside_In_Market_Engagement_Event_Slides.pdf (2.15 MB)\n",
      "   Last modified: 2025-04-02 12:10:09+00:00\n",
      "20. 3rd_February_Market_Engagement_Presentation_-_DCP.pptx.pdf (1.33 MB)\n",
      "   Last modified: 2025-04-02 12:10:09+00:00\n",
      "21. 5%2053%20Cllr%20guide%20to%20digital%20connectivity_WEB_FINAL.pdf (0.94 MB)\n",
      "   Last modified: 2025-04-02 12:10:10+00:00\n",
      "22. Amended_Annex_C_-_Document_for_gov.uk.pdf (0.15 MB)\n",
      "   Last modified: 2025-04-02 12:10:10+00:00\n",
      "23. BDUK_Annual_Reports-Accounts_2024_-_Certified_copy.pdf (5.19 MB)\n",
      "   Last modified: 2025-04-02 12:10:11+00:00\n",
      "24. BDUK_Rural_Gigabit_Connectivity_Hubs_Evaluation.pdf (3.93 MB)\n",
      "   Last modified: 2025-04-02 12:10:12+00:00\n",
      "25. BDUK_SF_EVAL_ANNEX_A_REDUCING_THE_DIGITAL_DIVIDE.pdf (1.44 MB)\n",
      "   Last modified: 2025-04-02 12:09:48+00:00\n",
      "26. BDUK_SF_EVAL_ANNEX_B_ECONOMIC_IMPACTS.pdf (3.04 MB)\n",
      "   Last modified: 2025-04-02 12:09:49+00:00\n",
      "27. BDUK_SF_EVAL_ANNEX_C_-_SUBJECTIVE_WELLBEING_ANALYSIS_-_EXECUTIVE_SUMMARY.pdf (0.60 MB)\n",
      "   Last modified: 2025-04-02 12:09:49+00:00\n",
      "28. BDUK_SF_EVAL_ANNEX_C_-_SUBJECTIVE_WELLBEING_ANALYSIS_-_TECHNICAL_REPORT.pdf (1.34 MB)\n",
      "   Last modified: 2025-04-02 12:09:50+00:00\n",
      "29. BDUK_SF_EVAL_ANNEX_D_PUBLIC_VALUE.pdf (3.40 MB)\n",
      "   Last modified: 2025-04-02 12:09:51+00:00\n",
      "30. BDUK_SF_EVAL_ANNEX_E_CBA.pdf (0.32 MB)\n",
      "   Last modified: 2025-04-02 12:09:51+00:00\n",
      "31. BDUK_Vouchers_Evaluation_Impacts_and_Value_for_Money_Assessment_-_Full_Technical_Report.pdf (3.44 MB)\n",
      "   Last modified: 2025-04-02 12:09:52+00:00\n",
      "32. BDUK_Vouchers_Evaluation_Impacts_and_Value_for_Money_Assessment_-_Summary_Report.pdf (0.42 MB)\n",
      "   Last modified: 2025-04-02 12:09:52+00:00\n",
      "33. BDUK_Vouchers_Evaluation_Report_v9.0_FINAL__1_-_accessible__1_.pdf (3.89 MB)\n",
      "   Last modified: 2025-04-02 12:09:53+00:00\n",
      "34. BDUK_pilot_report_WorkstreamD_V7.pdf (1.48 MB)\n",
      "   Last modified: 2025-04-02 12:10:11+00:00\n",
      "35. Broadband_Delivery_UK_State_aid_consultation_Market_Testing_Pilot_Intervention_Areas_Second_Wave.pdf (1.29 MB)\n",
      "   Last modified: 2025-04-02 12:09:54+00:00\n",
      "36. CYM_-_GigaHubs_Assurance_Overview__Welsh_.pdf (0.13 MB)\n",
      "   Last modified: 2025-04-02 12:09:55+00:00\n",
      "37. CYM_-_Gigahubs_Toolkit__-_Initiation_Checklist__Welsh_.pdf (0.10 MB)\n",
      "   Last modified: 2025-04-02 12:09:55+00:00\n",
      "38. Callflow_Extension_-_state_aid_consultation_document_v1-1_FINAL2.pdf (1.40 MB)\n",
      "   Last modified: 2025-04-02 12:09:54+00:00\n",
      "39. Connection_Voucher_Scheme_Impact_and_Benefit_Study_-_August_2017_PDF.pdf (0.58 MB)\n",
      "   Last modified: 2025-04-02 12:09:55+00:00\n",
      "40. DCMS_Gigahubs_Toolkit_SEPT21_v3..pdf (0.77 MB)\n",
      "   Last modified: 2025-04-02 12:09:55+00:00\n",
      "41. DCMS_Gigahubs_Toolkit_SEPT21_v3__Welsh_.pdf (6.23 MB)\n",
      "   Last modified: 2025-04-02 12:09:57+00:00\n",
      "42. DCMS_Superfast_Findings_Briefing_v1.pdf (0.50 MB)\n",
      "   Last modified: 2025-04-02 12:09:58+00:00\n",
      "43. DPS_supplier_guide.pdf (0.69 MB)\n",
      "   Last modified: 2025-04-02 12:09:58+00:00\n",
      "44. First_Release_of_Phase_2_-_OMR_RFI_Template_V3.0.pdf (0.46 MB)\n",
      "   Last modified: 2025-04-02 12:09:58+00:00\n",
      "45. Future_Telecoms_Infrastructure_Review.pdf (1.94 MB)\n",
      "   Last modified: 2025-04-02 12:09:59+00:00\n",
      "46. GigaHubs_Assurance_Overview.pdf (0.25 MB)\n",
      "   Last modified: 2025-04-02 12:09:59+00:00\n",
      "47. GigaHubs_Subsidy_Control_v0.5_18.08.21.pdf (0.18 MB)\n",
      "   Last modified: 2025-04-02 12:09:59+00:00\n",
      "48. Gigahubs_Toolkit_Initiation_Checklist_.pdf (0.15 MB)\n",
      "   Last modified: 2025-04-02 12:09:59+00:00\n",
      "49. Gov.uk_upload_-_Superfast_Broadband_State_Aid_Evaluation_main_report_redacted_for_publication_with_alt_text_v1.pdf (2.68 MB)\n",
      "   Last modified: 2025-04-02 12:10:00+00:00\n",
      "50. Gov.uk_upload_-_Superfast_Broadband_State_Aid_Evaluation_main_report_redacted_for_publication_with_alt_text_v1_1.pdf (2.68 MB)\n",
      "   Last modified: 2025-04-02 12:10:01+00:00\n",
      "51. Hampshire_and_Isle_of_Wight_Public_Review_PR_RFI_Launch_-_Template_V2.pdf (0.66 MB)\n",
      "   Last modified: 2025-04-02 12:09:36+00:00\n",
      "52. LFFN_interim_evaluation_combined_report_revisedV4.3__upload_version_.pdf (4.56 MB)\n",
      "   Last modified: 2025-04-02 12:09:37+00:00\n",
      "53. MIP_Impact_and_Benefits_Report.pdf (0.95 MB)\n",
      "   Last modified: 2025-04-02 12:09:38+00:00\n",
      "54. MTP_state_aid_consultation_document_Fourth_Wave_v1-1.pdf (0.69 MB)\n",
      "   Last modified: 2025-04-02 12:09:38+00:00\n",
      "55. MTP_state_aid_consultation_document_Third_Wave_v1-1.pdf (1.98 MB)\n",
      "   Last modified: 2025-04-02 12:09:39+00:00\n",
      "56. MTP_state_aid_consultation_document_v1-1.pdf (2.56 MB)\n",
      "   Last modified: 2025-04-02 12:09:39+00:00\n",
      "57. New_Build_Developments_Impact_Assessment_FINAL.pdf (1.04 MB)\n",
      "   Last modified: 2025-04-02 12:09:40+00:00\n",
      "58. New_Build_Developments__HMG_consultation_response.pdf (0.25 MB)\n",
      "   Last modified: 2025-04-02 12:09:40+00:00\n",
      "59. Norfolk_Public_Review_PR_RFI_Launch__Template_V2_.pdf (0.56 MB)\n",
      "   Last modified: 2025-04-02 12:09:40+00:00\n",
      "60. Project_Gigabit__Autumn_Update-complete.pdf (1.35 MB)\n",
      "   Last modified: 2025-04-02 12:09:41+00:00\n",
      "61. Project_Gigabit__PHASE_ONE_DELIVERY_PLAN_v3.pdf (1.72 MB)\n",
      "   Last modified: 2025-04-02 12:09:42+00:00\n",
      "62. Project_Gigabit__Summer_Update_Accessible_PDF_2_Aug_2021__1_.pdf (1.08 MB)\n",
      "   Last modified: 2025-04-02 12:09:42+00:00\n",
      "63. SlidePack_HubsSchoolSurvey_20231212_Accessible__1_.pdf (0.53 MB)\n",
      "   Last modified: 2025-04-02 12:09:42+00:00\n",
      "64. Street_Works_Toolkit_2.0.pdf (1.04 MB)\n",
      "   Last modified: 2025-04-02 12:09:43+00:00\n",
      "65. Street_Works_Toolkit_2.0_1.pdf (1.04 MB)\n",
      "   Last modified: 2025-04-02 12:09:43+00:00\n",
      "66. Superfast_Broadband_Programme_final_process_evaluation.pdf (1.41 MB)\n",
      "   Last modified: 2025-04-02 12:09:44+00:00\n",
      "67. Superfast_Broadband_evaluation_sythesis_report.pdf (1.60 MB)\n",
      "   Last modified: 2025-04-02 12:09:44+00:00\n",
      "68. Superfast_Broadband_summary_slidepack.pdf (0.67 MB)\n",
      "   Last modified: 2025-04-02 12:09:45+00:00\n",
      "69. Superfast_Integrated_Report.pdf (1.43 MB)\n",
      "   Last modified: 2025-04-02 12:09:45+00:00\n",
      "70. Technical_Appendix_1_Reducing_the_Digital_Divide_V2.pdf (1.71 MB)\n",
      "   Last modified: 2025-04-02 12:09:46+00:00\n",
      "71. Technical_Appendix_2_Financial_Analysis_V2.pdf (0.59 MB)\n",
      "   Last modified: 2025-04-02 12:09:46+00:00\n",
      "72. Technical_Appendix_3_Cost_Benefit_Analysis_V2.pdf (1.14 MB)\n",
      "   Last modified: 2025-04-02 12:09:46+00:00\n",
      "73. Technical_Appendix_4_Initial_Market_Analysis_V2.pdf (0.62 MB)\n",
      "   Last modified: 2025-04-02 12:09:47+00:00\n",
      "74. The_UK_s_National_Broadband_Scheme_-_an_independent_evaluation.pdf (1.50 MB)\n",
      "   Last modified: 2025-04-02 12:09:47+00:00\n",
      "75. UK_Broadband_Impact_Study_-_Impact_Report_-_Nov_2013_-_Final.pdf (1.26 MB)\n",
      "   Last modified: 2025-04-02 12:09:48+00:00\n",
      "\n",
      "Using model: <src.model.model_catalogue.LocalModelType object at 0x000001C7E22DD6D0>\n",
      "\n",
      "Starting batch processing of all PDFs...\n",
      "\n",
      "Processing PDF 1/75: 18-02311-01_SCCP_-_Synthesis_Report_v5_March_2020__1_.pdf\n",
      "\n",
      "Processing completed in 0.30 seconds\n",
      "Success: True\n",
      "Extracted text: Yes\n",
      "Images extracted: 2\n",
      "Results saved to: c:\\Users\\Student\\Documents\\University\\Fifth Year\\COM4520\\Psycore\\jupyter_testing\\processed_pdfs\\18-02311-01_SCCP_-_Synthesis_Report_v5_March_2020__1__pdf\n",
      "Uploaded image to: s3://psycore-document-images-445644858344/18-02311-01_SCCP_-_Synthesis_Report_v5_March_2020__1_/image_1.jpg\n"
     ]
    },
    {
     "name": "stderr",
     "output_type": "stream",
     "text": [
      "2025-04-23 10:56:33,100 - httpx - INFO - HTTP Request: POST http://127.0.0.1:11434/api/chat \"HTTP/1.1 200 OK\"\n"
     ]
    },
    {
     "name": "stdout",
     "output_type": "stream",
     "text": [
      "Uploaded image to: s3://psycore-document-images-445644858344/18-02311-01_SCCP_-_Synthesis_Report_v5_March_2020__1_/image_2.jpg\n"
     ]
    },
    {
     "name": "stderr",
     "output_type": "stream",
     "text": [
      "2025-04-23 10:56:40,341 - httpx - INFO - HTTP Request: POST http://127.0.0.1:11434/api/chat \"HTTP/1.1 200 OK\"\n",
      "Some weights of the model checkpoint at dbmdz/bert-large-cased-finetuned-conll03-english were not used when initializing BertForTokenClassification: ['bert.pooler.dense.bias', 'bert.pooler.dense.weight']\n",
      "- This IS expected if you are initializing BertForTokenClassification from the checkpoint of a model trained on another task or with another architecture (e.g. initializing a BertForSequenceClassification model from a BertForPreTraining model).\n",
      "- This IS NOT expected if you are initializing BertForTokenClassification from the checkpoint of a model that you expect to be exactly identical (initializing a BertForSequenceClassification model from a BertForSequenceClassification model).\n",
      "Device set to use cpu\n"
     ]
    },
    {
     "name": "stdout",
     "output_type": "stream",
     "text": [
      "Uploaded knowledge graph to: s3://psycore-document-graphs-445644858344/18-02311-01_SCCP_-_Synthesis_Report_v5_March_2020__1_/knowledge_graph.json\n",
      "✓ Successfully processed 18-02311-01_SCCP_-_Synthesis_Report_v5_March_2020__1_.pdf\n",
      "  - 2 images uploaded to psycore-document-images-445644858344\n",
      "\n",
      "Processing PDF 2/75: 18-049091-01_LFFN_Wave_1_final_evaluation_TPI_project.pdf\n",
      "\n",
      "Processing completed in 0.54 seconds\n",
      "Success: True\n",
      "Extracted text: Yes\n",
      "Images extracted: 12\n",
      "Results saved to: c:\\Users\\Student\\Documents\\University\\Fifth Year\\COM4520\\Psycore\\jupyter_testing\\processed_pdfs\\18-049091-01_LFFN_Wave_1_final_evaluation_TPI_project_pdf\n",
      "Uploaded image to: s3://psycore-document-images-445644858344/18-049091-01_LFFN_Wave_1_final_evaluation_TPI_project/image_1.jpg\n"
     ]
    },
    {
     "name": "stderr",
     "output_type": "stream",
     "text": [
      "2025-04-23 10:58:21,983 - httpx - INFO - HTTP Request: POST http://127.0.0.1:11434/api/chat \"HTTP/1.1 200 OK\"\n"
     ]
    },
    {
     "name": "stdout",
     "output_type": "stream",
     "text": [
      "Uploaded image to: s3://psycore-document-images-445644858344/18-049091-01_LFFN_Wave_1_final_evaluation_TPI_project/image_10.jpg\n"
     ]
    },
    {
     "name": "stderr",
     "output_type": "stream",
     "text": [
      "2025-04-23 10:58:24,653 - httpx - INFO - HTTP Request: POST http://127.0.0.1:11434/api/chat \"HTTP/1.1 200 OK\"\n"
     ]
    },
    {
     "name": "stdout",
     "output_type": "stream",
     "text": [
      "Uploaded image to: s3://psycore-document-images-445644858344/18-049091-01_LFFN_Wave_1_final_evaluation_TPI_project/image_11.jpg\n"
     ]
    },
    {
     "name": "stderr",
     "output_type": "stream",
     "text": [
      "2025-04-23 10:58:32,228 - httpx - INFO - HTTP Request: POST http://127.0.0.1:11434/api/chat \"HTTP/1.1 200 OK\"\n"
     ]
    },
    {
     "name": "stdout",
     "output_type": "stream",
     "text": [
      "Uploaded image to: s3://psycore-document-images-445644858344/18-049091-01_LFFN_Wave_1_final_evaluation_TPI_project/image_12.jpg\n"
     ]
    },
    {
     "name": "stderr",
     "output_type": "stream",
     "text": [
      "2025-04-23 10:58:37,579 - httpx - INFO - HTTP Request: POST http://127.0.0.1:11434/api/chat \"HTTP/1.1 200 OK\"\n"
     ]
    },
    {
     "name": "stdout",
     "output_type": "stream",
     "text": [
      "Uploaded image to: s3://psycore-document-images-445644858344/18-049091-01_LFFN_Wave_1_final_evaluation_TPI_project/image_2.jpg\n"
     ]
    },
    {
     "name": "stderr",
     "output_type": "stream",
     "text": [
      "2025-04-23 10:58:45,375 - httpx - INFO - HTTP Request: POST http://127.0.0.1:11434/api/chat \"HTTP/1.1 200 OK\"\n"
     ]
    },
    {
     "name": "stdout",
     "output_type": "stream",
     "text": [
      "Uploaded image to: s3://psycore-document-images-445644858344/18-049091-01_LFFN_Wave_1_final_evaluation_TPI_project/image_3.jpg\n"
     ]
    },
    {
     "name": "stderr",
     "output_type": "stream",
     "text": [
      "2025-04-23 10:58:52,634 - httpx - INFO - HTTP Request: POST http://127.0.0.1:11434/api/chat \"HTTP/1.1 200 OK\"\n"
     ]
    },
    {
     "name": "stdout",
     "output_type": "stream",
     "text": [
      "Uploaded image to: s3://psycore-document-images-445644858344/18-049091-01_LFFN_Wave_1_final_evaluation_TPI_project/image_4.jpg\n"
     ]
    },
    {
     "name": "stderr",
     "output_type": "stream",
     "text": [
      "2025-04-23 10:58:57,849 - httpx - INFO - HTTP Request: POST http://127.0.0.1:11434/api/chat \"HTTP/1.1 200 OK\"\n"
     ]
    },
    {
     "name": "stdout",
     "output_type": "stream",
     "text": [
      "Uploaded image to: s3://psycore-document-images-445644858344/18-049091-01_LFFN_Wave_1_final_evaluation_TPI_project/image_5.jpg\n"
     ]
    },
    {
     "name": "stderr",
     "output_type": "stream",
     "text": [
      "2025-04-23 10:59:05,784 - httpx - INFO - HTTP Request: POST http://127.0.0.1:11434/api/chat \"HTTP/1.1 200 OK\"\n"
     ]
    },
    {
     "name": "stdout",
     "output_type": "stream",
     "text": [
      "Uploaded image to: s3://psycore-document-images-445644858344/18-049091-01_LFFN_Wave_1_final_evaluation_TPI_project/image_6.jpg\n"
     ]
    },
    {
     "name": "stderr",
     "output_type": "stream",
     "text": [
      "2025-04-23 10:59:13,014 - httpx - INFO - HTTP Request: POST http://127.0.0.1:11434/api/chat \"HTTP/1.1 200 OK\"\n"
     ]
    },
    {
     "name": "stdout",
     "output_type": "stream",
     "text": [
      "Uploaded image to: s3://psycore-document-images-445644858344/18-049091-01_LFFN_Wave_1_final_evaluation_TPI_project/image_7.jpg\n"
     ]
    },
    {
     "name": "stderr",
     "output_type": "stream",
     "text": [
      "2025-04-23 10:59:19,783 - httpx - INFO - HTTP Request: POST http://127.0.0.1:11434/api/chat \"HTTP/1.1 200 OK\"\n"
     ]
    },
    {
     "name": "stdout",
     "output_type": "stream",
     "text": [
      "Uploaded image to: s3://psycore-document-images-445644858344/18-049091-01_LFFN_Wave_1_final_evaluation_TPI_project/image_8.jpg\n"
     ]
    },
    {
     "name": "stderr",
     "output_type": "stream",
     "text": [
      "2025-04-23 10:59:26,482 - httpx - INFO - HTTP Request: POST http://127.0.0.1:11434/api/chat \"HTTP/1.1 200 OK\"\n"
     ]
    },
    {
     "name": "stdout",
     "output_type": "stream",
     "text": [
      "Uploaded image to: s3://psycore-document-images-445644858344/18-049091-01_LFFN_Wave_1_final_evaluation_TPI_project/image_9.jpg\n"
     ]
    },
    {
     "name": "stderr",
     "output_type": "stream",
     "text": [
      "2025-04-23 10:59:31,650 - httpx - INFO - HTTP Request: POST http://127.0.0.1:11434/api/chat \"HTTP/1.1 200 OK\"\n",
      "Some weights of the model checkpoint at dbmdz/bert-large-cased-finetuned-conll03-english were not used when initializing BertForTokenClassification: ['bert.pooler.dense.bias', 'bert.pooler.dense.weight']\n",
      "- This IS expected if you are initializing BertForTokenClassification from the checkpoint of a model trained on another task or with another architecture (e.g. initializing a BertForSequenceClassification model from a BertForPreTraining model).\n",
      "- This IS NOT expected if you are initializing BertForTokenClassification from the checkpoint of a model that you expect to be exactly identical (initializing a BertForSequenceClassification model from a BertForSequenceClassification model).\n",
      "Device set to use cpu\n"
     ]
    },
    {
     "name": "stdout",
     "output_type": "stream",
     "text": [
      "Uploaded knowledge graph to: s3://psycore-document-graphs-445644858344/18-049091-01_LFFN_Wave_1_final_evaluation_TPI_project/knowledge_graph.json\n",
      "✓ Successfully processed 18-049091-01_LFFN_Wave_1_final_evaluation_TPI_project.pdf\n",
      "  - 12 images uploaded to psycore-document-images-445644858344\n",
      "\n",
      "Processing PDF 3/75: 18-049091-01_LFFN_Wave_1_final_evaluation_technical_annex.pdf\n",
      "\n",
      "Processing completed in 0.21 seconds\n",
      "Success: True\n",
      "Extracted text: Yes\n",
      "Images extracted: 4\n",
      "Results saved to: c:\\Users\\Student\\Documents\\University\\Fifth Year\\COM4520\\Psycore\\jupyter_testing\\processed_pdfs\\18-049091-01_LFFN_Wave_1_final_evaluation_technical_annex_pdf\n",
      "Uploaded image to: s3://psycore-document-images-445644858344/18-049091-01_LFFN_Wave_1_final_evaluation_technical_annex/image_1.jpg\n"
     ]
    },
    {
     "name": "stderr",
     "output_type": "stream",
     "text": [
      "2025-04-23 11:01:03,743 - httpx - INFO - HTTP Request: POST http://127.0.0.1:11434/api/chat \"HTTP/1.1 200 OK\"\n"
     ]
    },
    {
     "name": "stdout",
     "output_type": "stream",
     "text": [
      "Uploaded image to: s3://psycore-document-images-445644858344/18-049091-01_LFFN_Wave_1_final_evaluation_technical_annex/image_2.jpg\n"
     ]
    },
    {
     "name": "stderr",
     "output_type": "stream",
     "text": [
      "2025-04-23 11:01:13,548 - httpx - INFO - HTTP Request: POST http://127.0.0.1:11434/api/chat \"HTTP/1.1 200 OK\"\n"
     ]
    },
    {
     "name": "stdout",
     "output_type": "stream",
     "text": [
      "Uploaded image to: s3://psycore-document-images-445644858344/18-049091-01_LFFN_Wave_1_final_evaluation_technical_annex/image_3.jpg\n"
     ]
    },
    {
     "name": "stderr",
     "output_type": "stream",
     "text": [
      "2025-04-23 11:01:18,595 - httpx - INFO - HTTP Request: POST http://127.0.0.1:11434/api/chat \"HTTP/1.1 200 OK\"\n"
     ]
    },
    {
     "name": "stdout",
     "output_type": "stream",
     "text": [
      "Uploaded image to: s3://psycore-document-images-445644858344/18-049091-01_LFFN_Wave_1_final_evaluation_technical_annex/image_4.jpg\n"
     ]
    },
    {
     "name": "stderr",
     "output_type": "stream",
     "text": [
      "2025-04-23 11:01:25,779 - httpx - INFO - HTTP Request: POST http://127.0.0.1:11434/api/chat \"HTTP/1.1 200 OK\"\n",
      "Some weights of the model checkpoint at dbmdz/bert-large-cased-finetuned-conll03-english were not used when initializing BertForTokenClassification: ['bert.pooler.dense.bias', 'bert.pooler.dense.weight']\n",
      "- This IS expected if you are initializing BertForTokenClassification from the checkpoint of a model trained on another task or with another architecture (e.g. initializing a BertForSequenceClassification model from a BertForPreTraining model).\n",
      "- This IS NOT expected if you are initializing BertForTokenClassification from the checkpoint of a model that you expect to be exactly identical (initializing a BertForSequenceClassification model from a BertForSequenceClassification model).\n",
      "Device set to use cpu\n"
     ]
    },
    {
     "name": "stdout",
     "output_type": "stream",
     "text": [
      "Uploaded knowledge graph to: s3://psycore-document-graphs-445644858344/18-049091-01_LFFN_Wave_1_final_evaluation_technical_annex/knowledge_graph.json\n",
      "✓ Successfully processed 18-049091-01_LFFN_Wave_1_final_evaluation_technical_annex.pdf\n",
      "  - 4 images uploaded to psycore-document-images-445644858344\n",
      "\n",
      "Processing PDF 4/75: 18-049091_01_LFFN_Wave_1_final_evaluation_Schools_PSBU_project.pdf\n",
      "\n",
      "Processing completed in 0.33 seconds\n",
      "Success: True\n",
      "Extracted text: Yes\n",
      "Images extracted: 7\n",
      "Results saved to: c:\\Users\\Student\\Documents\\University\\Fifth Year\\COM4520\\Psycore\\jupyter_testing\\processed_pdfs\\18-049091_01_LFFN_Wave_1_final_evaluation_Schools_PSBU_project_pdf\n",
      "Uploaded image to: s3://psycore-document-images-445644858344/18-049091_01_LFFN_Wave_1_final_evaluation_Schools_PSBU_project/image_1.jpg\n"
     ]
    },
    {
     "name": "stderr",
     "output_type": "stream",
     "text": [
      "2025-04-23 11:02:36,672 - httpx - INFO - HTTP Request: POST http://127.0.0.1:11434/api/chat \"HTTP/1.1 200 OK\"\n"
     ]
    },
    {
     "name": "stdout",
     "output_type": "stream",
     "text": [
      "Uploaded image to: s3://psycore-document-images-445644858344/18-049091_01_LFFN_Wave_1_final_evaluation_Schools_PSBU_project/image_2.jpg\n"
     ]
    },
    {
     "name": "stderr",
     "output_type": "stream",
     "text": [
      "2025-04-23 11:02:43,295 - httpx - INFO - HTTP Request: POST http://127.0.0.1:11434/api/chat \"HTTP/1.1 200 OK\"\n"
     ]
    },
    {
     "name": "stdout",
     "output_type": "stream",
     "text": [
      "Uploaded image to: s3://psycore-document-images-445644858344/18-049091_01_LFFN_Wave_1_final_evaluation_Schools_PSBU_project/image_3.jpg\n"
     ]
    },
    {
     "name": "stderr",
     "output_type": "stream",
     "text": [
      "2025-04-23 11:02:49,949 - httpx - INFO - HTTP Request: POST http://127.0.0.1:11434/api/chat \"HTTP/1.1 200 OK\"\n"
     ]
    },
    {
     "name": "stdout",
     "output_type": "stream",
     "text": [
      "Uploaded image to: s3://psycore-document-images-445644858344/18-049091_01_LFFN_Wave_1_final_evaluation_Schools_PSBU_project/image_4.jpg\n"
     ]
    },
    {
     "name": "stderr",
     "output_type": "stream",
     "text": [
      "2025-04-23 11:02:56,537 - httpx - INFO - HTTP Request: POST http://127.0.0.1:11434/api/chat \"HTTP/1.1 200 OK\"\n"
     ]
    },
    {
     "name": "stdout",
     "output_type": "stream",
     "text": [
      "Uploaded image to: s3://psycore-document-images-445644858344/18-049091_01_LFFN_Wave_1_final_evaluation_Schools_PSBU_project/image_5.jpg\n"
     ]
    },
    {
     "name": "stderr",
     "output_type": "stream",
     "text": [
      "2025-04-23 11:03:01,252 - httpx - INFO - HTTP Request: POST http://127.0.0.1:11434/api/chat \"HTTP/1.1 200 OK\"\n"
     ]
    },
    {
     "name": "stdout",
     "output_type": "stream",
     "text": [
      "Uploaded image to: s3://psycore-document-images-445644858344/18-049091_01_LFFN_Wave_1_final_evaluation_Schools_PSBU_project/image_6.jpg\n"
     ]
    },
    {
     "name": "stderr",
     "output_type": "stream",
     "text": [
      "2025-04-23 11:03:07,292 - httpx - INFO - HTTP Request: POST http://127.0.0.1:11434/api/chat \"HTTP/1.1 200 OK\"\n"
     ]
    },
    {
     "name": "stdout",
     "output_type": "stream",
     "text": [
      "Uploaded image to: s3://psycore-document-images-445644858344/18-049091_01_LFFN_Wave_1_final_evaluation_Schools_PSBU_project/image_7.jpg\n"
     ]
    },
    {
     "name": "stderr",
     "output_type": "stream",
     "text": [
      "2025-04-23 11:03:13,076 - httpx - INFO - HTTP Request: POST http://127.0.0.1:11434/api/chat \"HTTP/1.1 200 OK\"\n",
      "Some weights of the model checkpoint at dbmdz/bert-large-cased-finetuned-conll03-english were not used when initializing BertForTokenClassification: ['bert.pooler.dense.bias', 'bert.pooler.dense.weight']\n",
      "- This IS expected if you are initializing BertForTokenClassification from the checkpoint of a model trained on another task or with another architecture (e.g. initializing a BertForSequenceClassification model from a BertForPreTraining model).\n",
      "- This IS NOT expected if you are initializing BertForTokenClassification from the checkpoint of a model that you expect to be exactly identical (initializing a BertForSequenceClassification model from a BertForSequenceClassification model).\n",
      "Device set to use cpu\n"
     ]
    },
    {
     "name": "stdout",
     "output_type": "stream",
     "text": [
      "Uploaded knowledge graph to: s3://psycore-document-graphs-445644858344/18-049091_01_LFFN_Wave_1_final_evaluation_Schools_PSBU_project/knowledge_graph.json\n",
      "✓ Successfully processed 18-049091_01_LFFN_Wave_1_final_evaluation_Schools_PSBU_project.pdf\n",
      "  - 7 images uploaded to psycore-document-images-445644858344\n",
      "\n",
      "Processing PDF 5/75: 18-049091_01_LFFN_Wave_1_final_evaluation_Synthesis_report.pdf\n",
      "\n",
      "Processing completed in 0.28 seconds\n",
      "Success: True\n",
      "Extracted text: Yes\n",
      "Images extracted: 5\n",
      "Results saved to: c:\\Users\\Student\\Documents\\University\\Fifth Year\\COM4520\\Psycore\\jupyter_testing\\processed_pdfs\\18-049091_01_LFFN_Wave_1_final_evaluation_Synthesis_report_pdf\n",
      "Uploaded image to: s3://psycore-document-images-445644858344/18-049091_01_LFFN_Wave_1_final_evaluation_Synthesis_report/image_1.jpg\n"
     ]
    },
    {
     "name": "stderr",
     "output_type": "stream",
     "text": [
      "2025-04-23 11:04:36,649 - httpx - INFO - HTTP Request: POST http://127.0.0.1:11434/api/chat \"HTTP/1.1 200 OK\"\n"
     ]
    },
    {
     "name": "stdout",
     "output_type": "stream",
     "text": [
      "Uploaded image to: s3://psycore-document-images-445644858344/18-049091_01_LFFN_Wave_1_final_evaluation_Synthesis_report/image_2.jpg\n"
     ]
    },
    {
     "name": "stderr",
     "output_type": "stream",
     "text": [
      "2025-04-23 11:04:44,185 - httpx - INFO - HTTP Request: POST http://127.0.0.1:11434/api/chat \"HTTP/1.1 200 OK\"\n"
     ]
    },
    {
     "name": "stdout",
     "output_type": "stream",
     "text": [
      "Uploaded image to: s3://psycore-document-images-445644858344/18-049091_01_LFFN_Wave_1_final_evaluation_Synthesis_report/image_3.jpg\n"
     ]
    },
    {
     "name": "stderr",
     "output_type": "stream",
     "text": [
      "2025-04-23 11:04:50,798 - httpx - INFO - HTTP Request: POST http://127.0.0.1:11434/api/chat \"HTTP/1.1 200 OK\"\n"
     ]
    },
    {
     "name": "stdout",
     "output_type": "stream",
     "text": [
      "Uploaded image to: s3://psycore-document-images-445644858344/18-049091_01_LFFN_Wave_1_final_evaluation_Synthesis_report/image_4.jpg\n"
     ]
    },
    {
     "name": "stderr",
     "output_type": "stream",
     "text": [
      "2025-04-23 11:05:00,758 - httpx - INFO - HTTP Request: POST http://127.0.0.1:11434/api/chat \"HTTP/1.1 200 OK\"\n"
     ]
    },
    {
     "name": "stdout",
     "output_type": "stream",
     "text": [
      "Uploaded image to: s3://psycore-document-images-445644858344/18-049091_01_LFFN_Wave_1_final_evaluation_Synthesis_report/image_5.jpg\n"
     ]
    },
    {
     "name": "stderr",
     "output_type": "stream",
     "text": [
      "2025-04-23 11:05:06,304 - httpx - INFO - HTTP Request: POST http://127.0.0.1:11434/api/chat \"HTTP/1.1 200 OK\"\n",
      "Some weights of the model checkpoint at dbmdz/bert-large-cased-finetuned-conll03-english were not used when initializing BertForTokenClassification: ['bert.pooler.dense.bias', 'bert.pooler.dense.weight']\n",
      "- This IS expected if you are initializing BertForTokenClassification from the checkpoint of a model trained on another task or with another architecture (e.g. initializing a BertForSequenceClassification model from a BertForPreTraining model).\n",
      "- This IS NOT expected if you are initializing BertForTokenClassification from the checkpoint of a model that you expect to be exactly identical (initializing a BertForSequenceClassification model from a BertForSequenceClassification model).\n",
      "Device set to use cpu\n"
     ]
    },
    {
     "name": "stdout",
     "output_type": "stream",
     "text": [
      "Uploaded knowledge graph to: s3://psycore-document-graphs-445644858344/18-049091_01_LFFN_Wave_1_final_evaluation_Synthesis_report/knowledge_graph.json\n",
      "✓ Successfully processed 18-049091_01_LFFN_Wave_1_final_evaluation_Synthesis_report.pdf\n",
      "  - 5 images uploaded to psycore-document-images-445644858344\n",
      "\n",
      "Processing PDF 6/75: 18-049091_01_LFFN_Wave_1_final_evaluation_Tameside_PSAR_project.pdf\n",
      "\n",
      "Processing completed in 0.74 seconds\n",
      "Success: True\n",
      "Extracted text: Yes\n",
      "Images extracted: 10\n",
      "Results saved to: c:\\Users\\Student\\Documents\\University\\Fifth Year\\COM4520\\Psycore\\jupyter_testing\\processed_pdfs\\18-049091_01_LFFN_Wave_1_final_evaluation_Tameside_PSAR_project_pdf\n",
      "Uploaded image to: s3://psycore-document-images-445644858344/18-049091_01_LFFN_Wave_1_final_evaluation_Tameside_PSAR_project/image_1.jpg\n"
     ]
    },
    {
     "name": "stderr",
     "output_type": "stream",
     "text": [
      "2025-04-23 11:06:47,631 - httpx - INFO - HTTP Request: POST http://127.0.0.1:11434/api/chat \"HTTP/1.1 200 OK\"\n"
     ]
    },
    {
     "name": "stdout",
     "output_type": "stream",
     "text": [
      "Uploaded image to: s3://psycore-document-images-445644858344/18-049091_01_LFFN_Wave_1_final_evaluation_Tameside_PSAR_project/image_10.jpg\n"
     ]
    },
    {
     "name": "stderr",
     "output_type": "stream",
     "text": [
      "2025-04-23 11:06:59,426 - httpx - INFO - HTTP Request: POST http://127.0.0.1:11434/api/chat \"HTTP/1.1 200 OK\"\n"
     ]
    },
    {
     "name": "stdout",
     "output_type": "stream",
     "text": [
      "Uploaded image to: s3://psycore-document-images-445644858344/18-049091_01_LFFN_Wave_1_final_evaluation_Tameside_PSAR_project/image_2.jpg\n"
     ]
    },
    {
     "name": "stderr",
     "output_type": "stream",
     "text": [
      "2025-04-23 11:07:06,783 - httpx - INFO - HTTP Request: POST http://127.0.0.1:11434/api/chat \"HTTP/1.1 200 OK\"\n"
     ]
    },
    {
     "name": "stdout",
     "output_type": "stream",
     "text": [
      "Uploaded image to: s3://psycore-document-images-445644858344/18-049091_01_LFFN_Wave_1_final_evaluation_Tameside_PSAR_project/image_3.jpg\n"
     ]
    },
    {
     "name": "stderr",
     "output_type": "stream",
     "text": [
      "2025-04-23 11:07:14,295 - httpx - INFO - HTTP Request: POST http://127.0.0.1:11434/api/chat \"HTTP/1.1 200 OK\"\n"
     ]
    },
    {
     "name": "stdout",
     "output_type": "stream",
     "text": [
      "Uploaded image to: s3://psycore-document-images-445644858344/18-049091_01_LFFN_Wave_1_final_evaluation_Tameside_PSAR_project/image_4.jpg\n"
     ]
    },
    {
     "name": "stderr",
     "output_type": "stream",
     "text": [
      "2025-04-23 11:07:17,335 - httpx - INFO - HTTP Request: POST http://127.0.0.1:11434/api/chat \"HTTP/1.1 200 OK\"\n"
     ]
    },
    {
     "name": "stdout",
     "output_type": "stream",
     "text": [
      "Uploaded image to: s3://psycore-document-images-445644858344/18-049091_01_LFFN_Wave_1_final_evaluation_Tameside_PSAR_project/image_5.jpg\n"
     ]
    },
    {
     "name": "stderr",
     "output_type": "stream",
     "text": [
      "2025-04-23 11:07:24,357 - httpx - INFO - HTTP Request: POST http://127.0.0.1:11434/api/chat \"HTTP/1.1 200 OK\"\n"
     ]
    },
    {
     "name": "stdout",
     "output_type": "stream",
     "text": [
      "Uploaded image to: s3://psycore-document-images-445644858344/18-049091_01_LFFN_Wave_1_final_evaluation_Tameside_PSAR_project/image_6.jpg\n"
     ]
    },
    {
     "name": "stderr",
     "output_type": "stream",
     "text": [
      "2025-04-23 11:07:29,729 - httpx - INFO - HTTP Request: POST http://127.0.0.1:11434/api/chat \"HTTP/1.1 200 OK\"\n"
     ]
    },
    {
     "name": "stdout",
     "output_type": "stream",
     "text": [
      "Uploaded image to: s3://psycore-document-images-445644858344/18-049091_01_LFFN_Wave_1_final_evaluation_Tameside_PSAR_project/image_7.jpg\n"
     ]
    },
    {
     "name": "stderr",
     "output_type": "stream",
     "text": [
      "2025-04-23 11:07:40,549 - httpx - INFO - HTTP Request: POST http://127.0.0.1:11434/api/chat \"HTTP/1.1 200 OK\"\n"
     ]
    },
    {
     "name": "stdout",
     "output_type": "stream",
     "text": [
      "Uploaded image to: s3://psycore-document-images-445644858344/18-049091_01_LFFN_Wave_1_final_evaluation_Tameside_PSAR_project/image_8.jpg\n"
     ]
    },
    {
     "name": "stderr",
     "output_type": "stream",
     "text": [
      "2025-04-23 11:07:48,248 - httpx - INFO - HTTP Request: POST http://127.0.0.1:11434/api/chat \"HTTP/1.1 200 OK\"\n"
     ]
    },
    {
     "name": "stdout",
     "output_type": "stream",
     "text": [
      "Uploaded image to: s3://psycore-document-images-445644858344/18-049091_01_LFFN_Wave_1_final_evaluation_Tameside_PSAR_project/image_9.jpg\n"
     ]
    },
    {
     "name": "stderr",
     "output_type": "stream",
     "text": [
      "2025-04-23 11:07:57,135 - httpx - INFO - HTTP Request: POST http://127.0.0.1:11434/api/chat \"HTTP/1.1 200 OK\"\n",
      "Some weights of the model checkpoint at dbmdz/bert-large-cased-finetuned-conll03-english were not used when initializing BertForTokenClassification: ['bert.pooler.dense.bias', 'bert.pooler.dense.weight']\n",
      "- This IS expected if you are initializing BertForTokenClassification from the checkpoint of a model trained on another task or with another architecture (e.g. initializing a BertForSequenceClassification model from a BertForPreTraining model).\n",
      "- This IS NOT expected if you are initializing BertForTokenClassification from the checkpoint of a model that you expect to be exactly identical (initializing a BertForSequenceClassification model from a BertForSequenceClassification model).\n",
      "Device set to use cpu\n"
     ]
    },
    {
     "name": "stdout",
     "output_type": "stream",
     "text": [
      "Uploaded knowledge graph to: s3://psycore-document-graphs-445644858344/18-049091_01_LFFN_Wave_1_final_evaluation_Tameside_PSAR_project/knowledge_graph.json\n",
      "✓ Successfully processed 18-049091_01_LFFN_Wave_1_final_evaluation_Tameside_PSAR_project.pdf\n",
      "  - 10 images uploaded to psycore-document-images-445644858344\n",
      "\n",
      "Processing PDF 7/75: 18-049091_01_LFFN_Wave_1_final_evaluation_West_Sussex_PSAT_project.pdf\n",
      "\n",
      "Processing completed in 0.91 seconds\n",
      "Success: True\n",
      "Extracted text: Yes\n",
      "Images extracted: 12\n",
      "Results saved to: c:\\Users\\Student\\Documents\\University\\Fifth Year\\COM4520\\Psycore\\jupyter_testing\\processed_pdfs\\18-049091_01_LFFN_Wave_1_final_evaluation_West_Sussex_PSAT_project_pdf\n",
      "Uploaded image to: s3://psycore-document-images-445644858344/18-049091_01_LFFN_Wave_1_final_evaluation_West_Sussex_PSAT_project/image_1.jpg\n"
     ]
    },
    {
     "name": "stderr",
     "output_type": "stream",
     "text": [
      "2025-04-23 11:09:53,899 - httpx - INFO - HTTP Request: POST http://127.0.0.1:11434/api/chat \"HTTP/1.1 200 OK\"\n"
     ]
    },
    {
     "name": "stdout",
     "output_type": "stream",
     "text": [
      "Uploaded image to: s3://psycore-document-images-445644858344/18-049091_01_LFFN_Wave_1_final_evaluation_West_Sussex_PSAT_project/image_10.jpg\n"
     ]
    },
    {
     "name": "stderr",
     "output_type": "stream",
     "text": [
      "2025-04-23 11:10:01,542 - httpx - INFO - HTTP Request: POST http://127.0.0.1:11434/api/chat \"HTTP/1.1 200 OK\"\n"
     ]
    },
    {
     "name": "stdout",
     "output_type": "stream",
     "text": [
      "Uploaded image to: s3://psycore-document-images-445644858344/18-049091_01_LFFN_Wave_1_final_evaluation_West_Sussex_PSAT_project/image_11.jpg\n"
     ]
    },
    {
     "name": "stderr",
     "output_type": "stream",
     "text": [
      "2025-04-23 11:10:08,935 - httpx - INFO - HTTP Request: POST http://127.0.0.1:11434/api/chat \"HTTP/1.1 200 OK\"\n"
     ]
    },
    {
     "name": "stdout",
     "output_type": "stream",
     "text": [
      "Uploaded image to: s3://psycore-document-images-445644858344/18-049091_01_LFFN_Wave_1_final_evaluation_West_Sussex_PSAT_project/image_12.jpg\n"
     ]
    },
    {
     "name": "stderr",
     "output_type": "stream",
     "text": [
      "2025-04-23 11:10:25,560 - httpx - INFO - HTTP Request: POST http://127.0.0.1:11434/api/chat \"HTTP/1.1 200 OK\"\n"
     ]
    },
    {
     "name": "stdout",
     "output_type": "stream",
     "text": [
      "Uploaded image to: s3://psycore-document-images-445644858344/18-049091_01_LFFN_Wave_1_final_evaluation_West_Sussex_PSAT_project/image_2.jpg\n"
     ]
    },
    {
     "name": "stderr",
     "output_type": "stream",
     "text": [
      "2025-04-23 11:10:38,155 - httpx - INFO - HTTP Request: POST http://127.0.0.1:11434/api/chat \"HTTP/1.1 200 OK\"\n"
     ]
    },
    {
     "name": "stdout",
     "output_type": "stream",
     "text": [
      "Uploaded image to: s3://psycore-document-images-445644858344/18-049091_01_LFFN_Wave_1_final_evaluation_West_Sussex_PSAT_project/image_3.jpg\n"
     ]
    },
    {
     "name": "stderr",
     "output_type": "stream",
     "text": [
      "2025-04-23 11:10:46,913 - httpx - INFO - HTTP Request: POST http://127.0.0.1:11434/api/chat \"HTTP/1.1 200 OK\"\n"
     ]
    },
    {
     "name": "stdout",
     "output_type": "stream",
     "text": [
      "Uploaded image to: s3://psycore-document-images-445644858344/18-049091_01_LFFN_Wave_1_final_evaluation_West_Sussex_PSAT_project/image_4.jpg\n"
     ]
    },
    {
     "name": "stderr",
     "output_type": "stream",
     "text": [
      "2025-04-23 11:11:00,217 - httpx - INFO - HTTP Request: POST http://127.0.0.1:11434/api/chat \"HTTP/1.1 200 OK\"\n"
     ]
    },
    {
     "name": "stdout",
     "output_type": "stream",
     "text": [
      "Uploaded image to: s3://psycore-document-images-445644858344/18-049091_01_LFFN_Wave_1_final_evaluation_West_Sussex_PSAT_project/image_5.jpg\n"
     ]
    },
    {
     "name": "stderr",
     "output_type": "stream",
     "text": [
      "2025-04-23 11:11:06,801 - httpx - INFO - HTTP Request: POST http://127.0.0.1:11434/api/chat \"HTTP/1.1 200 OK\"\n"
     ]
    },
    {
     "name": "stdout",
     "output_type": "stream",
     "text": [
      "Uploaded image to: s3://psycore-document-images-445644858344/18-049091_01_LFFN_Wave_1_final_evaluation_West_Sussex_PSAT_project/image_6.jpg\n"
     ]
    },
    {
     "name": "stderr",
     "output_type": "stream",
     "text": [
      "2025-04-23 11:11:13,189 - httpx - INFO - HTTP Request: POST http://127.0.0.1:11434/api/chat \"HTTP/1.1 200 OK\"\n"
     ]
    },
    {
     "name": "stdout",
     "output_type": "stream",
     "text": [
      "Uploaded image to: s3://psycore-document-images-445644858344/18-049091_01_LFFN_Wave_1_final_evaluation_West_Sussex_PSAT_project/image_7.jpg\n"
     ]
    },
    {
     "name": "stderr",
     "output_type": "stream",
     "text": [
      "2025-04-23 11:11:21,035 - httpx - INFO - HTTP Request: POST http://127.0.0.1:11434/api/chat \"HTTP/1.1 200 OK\"\n"
     ]
    },
    {
     "name": "stdout",
     "output_type": "stream",
     "text": [
      "Uploaded image to: s3://psycore-document-images-445644858344/18-049091_01_LFFN_Wave_1_final_evaluation_West_Sussex_PSAT_project/image_8.jpg\n"
     ]
    },
    {
     "name": "stderr",
     "output_type": "stream",
     "text": [
      "2025-04-23 11:11:26,983 - httpx - INFO - HTTP Request: POST http://127.0.0.1:11434/api/chat \"HTTP/1.1 200 OK\"\n"
     ]
    },
    {
     "name": "stdout",
     "output_type": "stream",
     "text": [
      "Uploaded image to: s3://psycore-document-images-445644858344/18-049091_01_LFFN_Wave_1_final_evaluation_West_Sussex_PSAT_project/image_9.jpg\n"
     ]
    },
    {
     "name": "stderr",
     "output_type": "stream",
     "text": [
      "2025-04-23 11:11:35,612 - httpx - INFO - HTTP Request: POST http://127.0.0.1:11434/api/chat \"HTTP/1.1 200 OK\"\n",
      "Some weights of the model checkpoint at dbmdz/bert-large-cased-finetuned-conll03-english were not used when initializing BertForTokenClassification: ['bert.pooler.dense.bias', 'bert.pooler.dense.weight']\n",
      "- This IS expected if you are initializing BertForTokenClassification from the checkpoint of a model trained on another task or with another architecture (e.g. initializing a BertForSequenceClassification model from a BertForPreTraining model).\n",
      "- This IS NOT expected if you are initializing BertForTokenClassification from the checkpoint of a model that you expect to be exactly identical (initializing a BertForSequenceClassification model from a BertForSequenceClassification model).\n",
      "Device set to use cpu\n"
     ]
    },
    {
     "name": "stdout",
     "output_type": "stream",
     "text": [
      "Uploaded knowledge graph to: s3://psycore-document-graphs-445644858344/18-049091_01_LFFN_Wave_1_final_evaluation_West_Sussex_PSAT_project/knowledge_graph.json\n",
      "✓ Successfully processed 18-049091_01_LFFN_Wave_1_final_evaluation_West_Sussex_PSAT_project.pdf\n",
      "  - 12 images uploaded to psycore-document-images-445644858344\n",
      "\n",
      "Processing PDF 8/75: 20201222_-_Planning_for_Gigabit_Delivery_in_2021_V2.pdf\n",
      "\n",
      "Processing completed in 0.42 seconds\n",
      "Success: True\n",
      "Extracted text: Yes\n",
      "Images extracted: 14\n",
      "Results saved to: c:\\Users\\Student\\Documents\\University\\Fifth Year\\COM4520\\Psycore\\jupyter_testing\\processed_pdfs\\20201222_-_Planning_for_Gigabit_Delivery_in_2021_V2_pdf\n",
      "Uploaded image to: s3://psycore-document-images-445644858344/20201222_-_Planning_for_Gigabit_Delivery_in_2021_V2/image_1.jpg\n"
     ]
    },
    {
     "name": "stderr",
     "output_type": "stream",
     "text": [
      "2025-04-23 11:13:14,090 - httpx - INFO - HTTP Request: POST http://127.0.0.1:11434/api/chat \"HTTP/1.1 200 OK\"\n"
     ]
    },
    {
     "name": "stdout",
     "output_type": "stream",
     "text": [
      "Uploaded image to: s3://psycore-document-images-445644858344/20201222_-_Planning_for_Gigabit_Delivery_in_2021_V2/image_10.jpg\n"
     ]
    },
    {
     "name": "stderr",
     "output_type": "stream",
     "text": [
      "2025-04-23 11:13:24,673 - httpx - INFO - HTTP Request: POST http://127.0.0.1:11434/api/chat \"HTTP/1.1 200 OK\"\n"
     ]
    },
    {
     "name": "stdout",
     "output_type": "stream",
     "text": [
      "Uploaded image to: s3://psycore-document-images-445644858344/20201222_-_Planning_for_Gigabit_Delivery_in_2021_V2/image_11.jpg\n"
     ]
    },
    {
     "name": "stderr",
     "output_type": "stream",
     "text": [
      "2025-04-23 11:13:31,206 - httpx - INFO - HTTP Request: POST http://127.0.0.1:11434/api/chat \"HTTP/1.1 200 OK\"\n"
     ]
    },
    {
     "name": "stdout",
     "output_type": "stream",
     "text": [
      "Uploaded image to: s3://psycore-document-images-445644858344/20201222_-_Planning_for_Gigabit_Delivery_in_2021_V2/image_12.jpg\n"
     ]
    },
    {
     "name": "stderr",
     "output_type": "stream",
     "text": [
      "2025-04-23 11:13:38,407 - httpx - INFO - HTTP Request: POST http://127.0.0.1:11434/api/chat \"HTTP/1.1 200 OK\"\n"
     ]
    },
    {
     "name": "stdout",
     "output_type": "stream",
     "text": [
      "Uploaded image to: s3://psycore-document-images-445644858344/20201222_-_Planning_for_Gigabit_Delivery_in_2021_V2/image_13.jpg\n"
     ]
    },
    {
     "name": "stderr",
     "output_type": "stream",
     "text": [
      "2025-04-23 11:13:43,970 - httpx - INFO - HTTP Request: POST http://127.0.0.1:11434/api/chat \"HTTP/1.1 200 OK\"\n"
     ]
    },
    {
     "name": "stdout",
     "output_type": "stream",
     "text": [
      "Uploaded image to: s3://psycore-document-images-445644858344/20201222_-_Planning_for_Gigabit_Delivery_in_2021_V2/image_14.jpg\n"
     ]
    },
    {
     "name": "stderr",
     "output_type": "stream",
     "text": [
      "2025-04-23 11:13:47,740 - httpx - INFO - HTTP Request: POST http://127.0.0.1:11434/api/chat \"HTTP/1.1 200 OK\"\n"
     ]
    },
    {
     "name": "stdout",
     "output_type": "stream",
     "text": [
      "Uploaded image to: s3://psycore-document-images-445644858344/20201222_-_Planning_for_Gigabit_Delivery_in_2021_V2/image_2.jpg\n"
     ]
    },
    {
     "name": "stderr",
     "output_type": "stream",
     "text": [
      "2025-04-23 11:13:55,069 - httpx - INFO - HTTP Request: POST http://127.0.0.1:11434/api/chat \"HTTP/1.1 200 OK\"\n"
     ]
    },
    {
     "name": "stdout",
     "output_type": "stream",
     "text": [
      "Uploaded image to: s3://psycore-document-images-445644858344/20201222_-_Planning_for_Gigabit_Delivery_in_2021_V2/image_3.jpg\n"
     ]
    },
    {
     "name": "stderr",
     "output_type": "stream",
     "text": [
      "2025-04-23 11:14:04,658 - httpx - INFO - HTTP Request: POST http://127.0.0.1:11434/api/chat \"HTTP/1.1 200 OK\"\n"
     ]
    },
    {
     "name": "stdout",
     "output_type": "stream",
     "text": [
      "Uploaded image to: s3://psycore-document-images-445644858344/20201222_-_Planning_for_Gigabit_Delivery_in_2021_V2/image_4.jpg\n"
     ]
    },
    {
     "name": "stderr",
     "output_type": "stream",
     "text": [
      "2025-04-23 11:14:11,378 - httpx - INFO - HTTP Request: POST http://127.0.0.1:11434/api/chat \"HTTP/1.1 200 OK\"\n"
     ]
    },
    {
     "name": "stdout",
     "output_type": "stream",
     "text": [
      "Uploaded image to: s3://psycore-document-images-445644858344/20201222_-_Planning_for_Gigabit_Delivery_in_2021_V2/image_5.jpg\n"
     ]
    },
    {
     "name": "stderr",
     "output_type": "stream",
     "text": [
      "2025-04-23 11:14:16,309 - httpx - INFO - HTTP Request: POST http://127.0.0.1:11434/api/chat \"HTTP/1.1 200 OK\"\n"
     ]
    },
    {
     "name": "stdout",
     "output_type": "stream",
     "text": [
      "Uploaded image to: s3://psycore-document-images-445644858344/20201222_-_Planning_for_Gigabit_Delivery_in_2021_V2/image_6.jpg\n"
     ]
    },
    {
     "name": "stderr",
     "output_type": "stream",
     "text": [
      "2025-04-23 11:14:24,368 - httpx - INFO - HTTP Request: POST http://127.0.0.1:11434/api/chat \"HTTP/1.1 200 OK\"\n"
     ]
    },
    {
     "name": "stdout",
     "output_type": "stream",
     "text": [
      "Uploaded image to: s3://psycore-document-images-445644858344/20201222_-_Planning_for_Gigabit_Delivery_in_2021_V2/image_7.jpg\n"
     ]
    },
    {
     "name": "stderr",
     "output_type": "stream",
     "text": [
      "2025-04-23 11:14:34,271 - httpx - INFO - HTTP Request: POST http://127.0.0.1:11434/api/chat \"HTTP/1.1 200 OK\"\n"
     ]
    },
    {
     "name": "stdout",
     "output_type": "stream",
     "text": [
      "Uploaded image to: s3://psycore-document-images-445644858344/20201222_-_Planning_for_Gigabit_Delivery_in_2021_V2/image_8.jpg\n"
     ]
    },
    {
     "name": "stderr",
     "output_type": "stream",
     "text": [
      "2025-04-23 11:14:47,136 - httpx - INFO - HTTP Request: POST http://127.0.0.1:11434/api/chat \"HTTP/1.1 200 OK\"\n"
     ]
    },
    {
     "name": "stdout",
     "output_type": "stream",
     "text": [
      "Uploaded image to: s3://psycore-document-images-445644858344/20201222_-_Planning_for_Gigabit_Delivery_in_2021_V2/image_9.jpg\n"
     ]
    },
    {
     "name": "stderr",
     "output_type": "stream",
     "text": [
      "2025-04-23 11:14:53,966 - httpx - INFO - HTTP Request: POST http://127.0.0.1:11434/api/chat \"HTTP/1.1 200 OK\"\n",
      "Some weights of the model checkpoint at dbmdz/bert-large-cased-finetuned-conll03-english were not used when initializing BertForTokenClassification: ['bert.pooler.dense.bias', 'bert.pooler.dense.weight']\n",
      "- This IS expected if you are initializing BertForTokenClassification from the checkpoint of a model trained on another task or with another architecture (e.g. initializing a BertForSequenceClassification model from a BertForPreTraining model).\n",
      "- This IS NOT expected if you are initializing BertForTokenClassification from the checkpoint of a model that you expect to be exactly identical (initializing a BertForSequenceClassification model from a BertForSequenceClassification model).\n",
      "Device set to use cpu\n"
     ]
    },
    {
     "name": "stdout",
     "output_type": "stream",
     "text": [
      "Uploaded knowledge graph to: s3://psycore-document-graphs-445644858344/20201222_-_Planning_for_Gigabit_Delivery_in_2021_V2/knowledge_graph.json\n",
      "✓ Successfully processed 20201222_-_Planning_for_Gigabit_Delivery_in_2021_V2.pdf\n",
      "  - 14 images uploaded to psycore-document-images-445644858344\n",
      "\n",
      "Processing PDF 9/75: 20201222_-_Planning_for_Gigabit_Delivery_in_2021_V2_1.pdf\n",
      "\n",
      "Processing completed in 0.65 seconds\n",
      "Success: True\n",
      "Extracted text: Yes\n",
      "Images extracted: 14\n",
      "Results saved to: c:\\Users\\Student\\Documents\\University\\Fifth Year\\COM4520\\Psycore\\jupyter_testing\\processed_pdfs\\20201222_-_Planning_for_Gigabit_Delivery_in_2021_V2_1_pdf\n",
      "Uploaded image to: s3://psycore-document-images-445644858344/20201222_-_Planning_for_Gigabit_Delivery_in_2021_V2_1/image_1.jpg\n"
     ]
    },
    {
     "name": "stderr",
     "output_type": "stream",
     "text": [
      "2025-04-23 11:15:38,348 - httpx - INFO - HTTP Request: POST http://127.0.0.1:11434/api/chat \"HTTP/1.1 200 OK\"\n"
     ]
    },
    {
     "name": "stdout",
     "output_type": "stream",
     "text": [
      "Uploaded image to: s3://psycore-document-images-445644858344/20201222_-_Planning_for_Gigabit_Delivery_in_2021_V2_1/image_10.jpg\n"
     ]
    },
    {
     "name": "stderr",
     "output_type": "stream",
     "text": [
      "2025-04-23 11:15:43,999 - httpx - INFO - HTTP Request: POST http://127.0.0.1:11434/api/chat \"HTTP/1.1 200 OK\"\n"
     ]
    },
    {
     "name": "stdout",
     "output_type": "stream",
     "text": [
      "Uploaded image to: s3://psycore-document-images-445644858344/20201222_-_Planning_for_Gigabit_Delivery_in_2021_V2_1/image_11.jpg\n"
     ]
    },
    {
     "name": "stderr",
     "output_type": "stream",
     "text": [
      "2025-04-23 11:15:50,167 - httpx - INFO - HTTP Request: POST http://127.0.0.1:11434/api/chat \"HTTP/1.1 200 OK\"\n"
     ]
    },
    {
     "name": "stdout",
     "output_type": "stream",
     "text": [
      "Uploaded image to: s3://psycore-document-images-445644858344/20201222_-_Planning_for_Gigabit_Delivery_in_2021_V2_1/image_12.jpg\n"
     ]
    },
    {
     "name": "stderr",
     "output_type": "stream",
     "text": [
      "2025-04-23 11:15:56,257 - httpx - INFO - HTTP Request: POST http://127.0.0.1:11434/api/chat \"HTTP/1.1 200 OK\"\n"
     ]
    },
    {
     "name": "stdout",
     "output_type": "stream",
     "text": [
      "Uploaded image to: s3://psycore-document-images-445644858344/20201222_-_Planning_for_Gigabit_Delivery_in_2021_V2_1/image_13.jpg\n"
     ]
    },
    {
     "name": "stderr",
     "output_type": "stream",
     "text": [
      "2025-04-23 11:16:06,486 - httpx - INFO - HTTP Request: POST http://127.0.0.1:11434/api/chat \"HTTP/1.1 200 OK\"\n"
     ]
    },
    {
     "name": "stdout",
     "output_type": "stream",
     "text": [
      "Uploaded image to: s3://psycore-document-images-445644858344/20201222_-_Planning_for_Gigabit_Delivery_in_2021_V2_1/image_14.jpg\n"
     ]
    },
    {
     "name": "stderr",
     "output_type": "stream",
     "text": [
      "2025-04-23 11:16:10,977 - httpx - INFO - HTTP Request: POST http://127.0.0.1:11434/api/chat \"HTTP/1.1 200 OK\"\n"
     ]
    },
    {
     "name": "stdout",
     "output_type": "stream",
     "text": [
      "Uploaded image to: s3://psycore-document-images-445644858344/20201222_-_Planning_for_Gigabit_Delivery_in_2021_V2_1/image_2.jpg\n"
     ]
    },
    {
     "name": "stderr",
     "output_type": "stream",
     "text": [
      "2025-04-23 11:16:16,354 - httpx - INFO - HTTP Request: POST http://127.0.0.1:11434/api/chat \"HTTP/1.1 200 OK\"\n"
     ]
    },
    {
     "name": "stdout",
     "output_type": "stream",
     "text": [
      "Uploaded image to: s3://psycore-document-images-445644858344/20201222_-_Planning_for_Gigabit_Delivery_in_2021_V2_1/image_3.jpg\n"
     ]
    },
    {
     "name": "stderr",
     "output_type": "stream",
     "text": [
      "2025-04-23 11:16:23,134 - httpx - INFO - HTTP Request: POST http://127.0.0.1:11434/api/chat \"HTTP/1.1 200 OK\"\n"
     ]
    },
    {
     "name": "stdout",
     "output_type": "stream",
     "text": [
      "Uploaded image to: s3://psycore-document-images-445644858344/20201222_-_Planning_for_Gigabit_Delivery_in_2021_V2_1/image_4.jpg\n"
     ]
    },
    {
     "name": "stderr",
     "output_type": "stream",
     "text": [
      "2025-04-23 11:16:28,331 - httpx - INFO - HTTP Request: POST http://127.0.0.1:11434/api/chat \"HTTP/1.1 200 OK\"\n"
     ]
    },
    {
     "name": "stdout",
     "output_type": "stream",
     "text": [
      "Uploaded image to: s3://psycore-document-images-445644858344/20201222_-_Planning_for_Gigabit_Delivery_in_2021_V2_1/image_5.jpg\n"
     ]
    },
    {
     "name": "stderr",
     "output_type": "stream",
     "text": [
      "2025-04-23 11:16:33,370 - httpx - INFO - HTTP Request: POST http://127.0.0.1:11434/api/chat \"HTTP/1.1 200 OK\"\n"
     ]
    },
    {
     "name": "stdout",
     "output_type": "stream",
     "text": [
      "Uploaded image to: s3://psycore-document-images-445644858344/20201222_-_Planning_for_Gigabit_Delivery_in_2021_V2_1/image_6.jpg\n"
     ]
    },
    {
     "name": "stderr",
     "output_type": "stream",
     "text": [
      "2025-04-23 11:16:40,018 - httpx - INFO - HTTP Request: POST http://127.0.0.1:11434/api/chat \"HTTP/1.1 200 OK\"\n"
     ]
    },
    {
     "name": "stdout",
     "output_type": "stream",
     "text": [
      "Uploaded image to: s3://psycore-document-images-445644858344/20201222_-_Planning_for_Gigabit_Delivery_in_2021_V2_1/image_7.jpg\n"
     ]
    },
    {
     "name": "stderr",
     "output_type": "stream",
     "text": [
      "2025-04-23 11:16:51,459 - httpx - INFO - HTTP Request: POST http://127.0.0.1:11434/api/chat \"HTTP/1.1 200 OK\"\n"
     ]
    },
    {
     "name": "stdout",
     "output_type": "stream",
     "text": [
      "Uploaded image to: s3://psycore-document-images-445644858344/20201222_-_Planning_for_Gigabit_Delivery_in_2021_V2_1/image_8.jpg\n"
     ]
    },
    {
     "name": "stderr",
     "output_type": "stream",
     "text": [
      "2025-04-23 11:16:59,266 - httpx - INFO - HTTP Request: POST http://127.0.0.1:11434/api/chat \"HTTP/1.1 200 OK\"\n"
     ]
    },
    {
     "name": "stdout",
     "output_type": "stream",
     "text": [
      "Uploaded image to: s3://psycore-document-images-445644858344/20201222_-_Planning_for_Gigabit_Delivery_in_2021_V2_1/image_9.jpg\n"
     ]
    },
    {
     "name": "stderr",
     "output_type": "stream",
     "text": [
      "2025-04-23 11:17:13,534 - httpx - INFO - HTTP Request: POST http://127.0.0.1:11434/api/chat \"HTTP/1.1 200 OK\"\n",
      "Some weights of the model checkpoint at dbmdz/bert-large-cased-finetuned-conll03-english were not used when initializing BertForTokenClassification: ['bert.pooler.dense.bias', 'bert.pooler.dense.weight']\n",
      "- This IS expected if you are initializing BertForTokenClassification from the checkpoint of a model trained on another task or with another architecture (e.g. initializing a BertForSequenceClassification model from a BertForPreTraining model).\n",
      "- This IS NOT expected if you are initializing BertForTokenClassification from the checkpoint of a model that you expect to be exactly identical (initializing a BertForSequenceClassification model from a BertForSequenceClassification model).\n",
      "Device set to use cpu\n"
     ]
    },
    {
     "name": "stdout",
     "output_type": "stream",
     "text": [
      "Uploaded knowledge graph to: s3://psycore-document-graphs-445644858344/20201222_-_Planning_for_Gigabit_Delivery_in_2021_V2_1/knowledge_graph.json\n",
      "✓ Successfully processed 20201222_-_Planning_for_Gigabit_Delivery_in_2021_V2_1.pdf\n",
      "  - 14 images uploaded to psycore-document-images-445644858344\n",
      "\n",
      "Processing PDF 10/75: 2021.01.20_External__Outside_In_Type_C_engagement_v1.pdf\n",
      "\n",
      "Processing completed in 0.08 seconds\n",
      "Success: True\n",
      "Extracted text: Yes\n",
      "Images extracted: 2\n",
      "Results saved to: c:\\Users\\Student\\Documents\\University\\Fifth Year\\COM4520\\Psycore\\jupyter_testing\\processed_pdfs\\2021_01_20_External__Outside_In_Type_C_engagement_v1_pdf\n",
      "Uploaded image to: s3://psycore-document-images-445644858344/2021.01.20_External__Outside_In_Type_C_engagement_v1/image_1.jpg\n"
     ]
    },
    {
     "name": "stderr",
     "output_type": "stream",
     "text": [
      "2025-04-23 11:17:54,378 - httpx - INFO - HTTP Request: POST http://127.0.0.1:11434/api/chat \"HTTP/1.1 200 OK\"\n"
     ]
    },
    {
     "name": "stdout",
     "output_type": "stream",
     "text": [
      "Uploaded image to: s3://psycore-document-images-445644858344/2021.01.20_External__Outside_In_Type_C_engagement_v1/image_2.jpg\n"
     ]
    },
    {
     "name": "stderr",
     "output_type": "stream",
     "text": [
      "2025-04-23 11:18:02,845 - httpx - INFO - HTTP Request: POST http://127.0.0.1:11434/api/chat \"HTTP/1.1 200 OK\"\n",
      "Some weights of the model checkpoint at dbmdz/bert-large-cased-finetuned-conll03-english were not used when initializing BertForTokenClassification: ['bert.pooler.dense.bias', 'bert.pooler.dense.weight']\n",
      "- This IS expected if you are initializing BertForTokenClassification from the checkpoint of a model trained on another task or with another architecture (e.g. initializing a BertForSequenceClassification model from a BertForPreTraining model).\n",
      "- This IS NOT expected if you are initializing BertForTokenClassification from the checkpoint of a model that you expect to be exactly identical (initializing a BertForSequenceClassification model from a BertForSequenceClassification model).\n",
      "Device set to use cpu\n"
     ]
    },
    {
     "name": "stdout",
     "output_type": "stream",
     "text": [
      "Uploaded knowledge graph to: s3://psycore-document-graphs-445644858344/2021.01.20_External__Outside_In_Type_C_engagement_v1/knowledge_graph.json\n",
      "✓ Successfully processed 2021.01.20_External__Outside_In_Type_C_engagement_v1.pdf\n",
      "  - 2 images uploaded to psycore-document-images-445644858344\n",
      "\n",
      "Processing PDF 11/75: 20210325_Open_Market_Review_RFI_Phase_1b.pdf\n",
      "\n",
      "Processing completed in 0.16 seconds\n",
      "Success: True\n",
      "Extracted text: Yes\n",
      "Images extracted: 5\n",
      "Results saved to: c:\\Users\\Student\\Documents\\University\\Fifth Year\\COM4520\\Psycore\\jupyter_testing\\processed_pdfs\\20210325_Open_Market_Review_RFI_Phase_1b_pdf\n",
      "Uploaded image to: s3://psycore-document-images-445644858344/20210325_Open_Market_Review_RFI_Phase_1b/image_1.jpg\n"
     ]
    },
    {
     "name": "stderr",
     "output_type": "stream",
     "text": [
      "2025-04-23 11:18:26,286 - httpx - INFO - HTTP Request: POST http://127.0.0.1:11434/api/chat \"HTTP/1.1 200 OK\"\n"
     ]
    },
    {
     "name": "stdout",
     "output_type": "stream",
     "text": [
      "Uploaded image to: s3://psycore-document-images-445644858344/20210325_Open_Market_Review_RFI_Phase_1b/image_2.jpg\n"
     ]
    },
    {
     "name": "stderr",
     "output_type": "stream",
     "text": [
      "2025-04-23 11:18:38,477 - httpx - INFO - HTTP Request: POST http://127.0.0.1:11434/api/chat \"HTTP/1.1 200 OK\"\n"
     ]
    },
    {
     "name": "stdout",
     "output_type": "stream",
     "text": [
      "Uploaded image to: s3://psycore-document-images-445644858344/20210325_Open_Market_Review_RFI_Phase_1b/image_3.jpg\n"
     ]
    },
    {
     "name": "stderr",
     "output_type": "stream",
     "text": [
      "2025-04-23 11:18:47,403 - httpx - INFO - HTTP Request: POST http://127.0.0.1:11434/api/chat \"HTTP/1.1 200 OK\"\n"
     ]
    },
    {
     "name": "stdout",
     "output_type": "stream",
     "text": [
      "Uploaded image to: s3://psycore-document-images-445644858344/20210325_Open_Market_Review_RFI_Phase_1b/image_4.jpg\n"
     ]
    },
    {
     "name": "stderr",
     "output_type": "stream",
     "text": [
      "2025-04-23 11:18:51,219 - httpx - INFO - HTTP Request: POST http://127.0.0.1:11434/api/chat \"HTTP/1.1 200 OK\"\n"
     ]
    },
    {
     "name": "stdout",
     "output_type": "stream",
     "text": [
      "Uploaded image to: s3://psycore-document-images-445644858344/20210325_Open_Market_Review_RFI_Phase_1b/image_5.jpg\n"
     ]
    },
    {
     "name": "stderr",
     "output_type": "stream",
     "text": [
      "2025-04-23 11:18:59,411 - httpx - INFO - HTTP Request: POST http://127.0.0.1:11434/api/chat \"HTTP/1.1 200 OK\"\n",
      "Some weights of the model checkpoint at dbmdz/bert-large-cased-finetuned-conll03-english were not used when initializing BertForTokenClassification: ['bert.pooler.dense.bias', 'bert.pooler.dense.weight']\n",
      "- This IS expected if you are initializing BertForTokenClassification from the checkpoint of a model trained on another task or with another architecture (e.g. initializing a BertForSequenceClassification model from a BertForPreTraining model).\n",
      "- This IS NOT expected if you are initializing BertForTokenClassification from the checkpoint of a model that you expect to be exactly identical (initializing a BertForSequenceClassification model from a BertForSequenceClassification model).\n",
      "Device set to use cpu\n"
     ]
    },
    {
     "name": "stdout",
     "output_type": "stream",
     "text": [
      "Uploaded knowledge graph to: s3://psycore-document-graphs-445644858344/20210325_Open_Market_Review_RFI_Phase_1b/knowledge_graph.json\n",
      "✓ Successfully processed 20210325_Open_Market_Review_RFI_Phase_1b.pdf\n",
      "  - 5 images uploaded to psycore-document-images-445644858344\n",
      "\n",
      "Processing PDF 12/75: 21-087286-01_Economic_and_Social_Impacts_2022_V4_CLIENT_USE_Clean.pdf\n",
      "\n",
      "Processing completed in 0.56 seconds\n",
      "Success: True\n",
      "Extracted text: Yes\n",
      "Images extracted: 7\n",
      "Results saved to: c:\\Users\\Student\\Documents\\University\\Fifth Year\\COM4520\\Psycore\\jupyter_testing\\processed_pdfs\\21-087286-01_Economic_and_Social_Impacts_2022_V4_CLIENT_USE_Clean_pdf\n",
      "Uploaded image to: s3://psycore-document-images-445644858344/21-087286-01_Economic_and_Social_Impacts_2022_V4_CLIENT_USE_Clean/image_1.jpg\n"
     ]
    },
    {
     "name": "stderr",
     "output_type": "stream",
     "text": [
      "2025-04-23 11:19:24,433 - httpx - INFO - HTTP Request: POST http://127.0.0.1:11434/api/chat \"HTTP/1.1 200 OK\"\n"
     ]
    },
    {
     "name": "stdout",
     "output_type": "stream",
     "text": [
      "Uploaded image to: s3://psycore-document-images-445644858344/21-087286-01_Economic_and_Social_Impacts_2022_V4_CLIENT_USE_Clean/image_2.jpg\n"
     ]
    },
    {
     "name": "stderr",
     "output_type": "stream",
     "text": [
      "2025-04-23 11:19:28,350 - httpx - INFO - HTTP Request: POST http://127.0.0.1:11434/api/chat \"HTTP/1.1 200 OK\"\n"
     ]
    },
    {
     "name": "stdout",
     "output_type": "stream",
     "text": [
      "Uploaded image to: s3://psycore-document-images-445644858344/21-087286-01_Economic_and_Social_Impacts_2022_V4_CLIENT_USE_Clean/image_3.jpg\n"
     ]
    },
    {
     "name": "stderr",
     "output_type": "stream",
     "text": [
      "2025-04-23 11:19:31,015 - httpx - INFO - HTTP Request: POST http://127.0.0.1:11434/api/chat \"HTTP/1.1 200 OK\"\n"
     ]
    },
    {
     "name": "stdout",
     "output_type": "stream",
     "text": [
      "Uploaded image to: s3://psycore-document-images-445644858344/21-087286-01_Economic_and_Social_Impacts_2022_V4_CLIENT_USE_Clean/image_4.jpg\n"
     ]
    },
    {
     "name": "stderr",
     "output_type": "stream",
     "text": [
      "2025-04-23 11:19:31,822 - httpx - INFO - HTTP Request: POST http://127.0.0.1:11434/api/chat \"HTTP/1.1 200 OK\"\n"
     ]
    },
    {
     "name": "stdout",
     "output_type": "stream",
     "text": [
      "Uploaded image to: s3://psycore-document-images-445644858344/21-087286-01_Economic_and_Social_Impacts_2022_V4_CLIENT_USE_Clean/image_5.jpg\n"
     ]
    },
    {
     "name": "stderr",
     "output_type": "stream",
     "text": [
      "2025-04-23 11:19:32,628 - httpx - INFO - HTTP Request: POST http://127.0.0.1:11434/api/chat \"HTTP/1.1 200 OK\"\n"
     ]
    },
    {
     "name": "stdout",
     "output_type": "stream",
     "text": [
      "Uploaded image to: s3://psycore-document-images-445644858344/21-087286-01_Economic_and_Social_Impacts_2022_V4_CLIENT_USE_Clean/image_6.jpg\n"
     ]
    },
    {
     "name": "stderr",
     "output_type": "stream",
     "text": [
      "2025-04-23 11:19:33,444 - httpx - INFO - HTTP Request: POST http://127.0.0.1:11434/api/chat \"HTTP/1.1 200 OK\"\n"
     ]
    },
    {
     "name": "stdout",
     "output_type": "stream",
     "text": [
      "Uploaded image to: s3://psycore-document-images-445644858344/21-087286-01_Economic_and_Social_Impacts_2022_V4_CLIENT_USE_Clean/image_7.jpg\n"
     ]
    },
    {
     "name": "stderr",
     "output_type": "stream",
     "text": [
      "2025-04-23 11:19:39,466 - httpx - INFO - HTTP Request: POST http://127.0.0.1:11434/api/chat \"HTTP/1.1 200 OK\"\n",
      "Some weights of the model checkpoint at dbmdz/bert-large-cased-finetuned-conll03-english were not used when initializing BertForTokenClassification: ['bert.pooler.dense.bias', 'bert.pooler.dense.weight']\n",
      "- This IS expected if you are initializing BertForTokenClassification from the checkpoint of a model trained on another task or with another architecture (e.g. initializing a BertForSequenceClassification model from a BertForPreTraining model).\n",
      "- This IS NOT expected if you are initializing BertForTokenClassification from the checkpoint of a model that you expect to be exactly identical (initializing a BertForSequenceClassification model from a BertForSequenceClassification model).\n",
      "Device set to use cpu\n"
     ]
    },
    {
     "name": "stdout",
     "output_type": "stream",
     "text": [
      "Uploaded knowledge graph to: s3://psycore-document-graphs-445644858344/21-087286-01_Economic_and_Social_Impacts_2022_V4_CLIENT_USE_Clean/knowledge_graph.json\n",
      "✓ Successfully processed 21-087286-01_Economic_and_Social_Impacts_2022_V4_CLIENT_USE_Clean.pdf\n",
      "  - 7 images uploaded to psycore-document-images-445644858344\n",
      "\n",
      "Processing PDF 13/75: 21-087286-01_Superfast_State_Aid_Evaluation_-_Main_State_Aid_Report_-_FINAL_VERSION_RedactedV2.pdf\n",
      "\n",
      "Processing completed in 0.47 seconds\n",
      "Success: True\n",
      "Extracted text: Yes\n",
      "Images extracted: 6\n",
      "Results saved to: c:\\Users\\Student\\Documents\\University\\Fifth Year\\COM4520\\Psycore\\jupyter_testing\\processed_pdfs\\21-087286-01_Superfast_State_Aid_Evaluation_-_Main_State_Aid_Report_-_FINAL_VERSION_RedactedV2_pdf\n",
      "Uploaded image to: s3://psycore-document-images-445644858344/21-087286-01_Superfast_State_Aid_Evaluation_-_Main_State_Aid_Report_-_FINAL_VERSION_RedactedV2/image_1.jpg\n"
     ]
    },
    {
     "name": "stderr",
     "output_type": "stream",
     "text": [
      "2025-04-23 11:22:36,645 - httpx - INFO - HTTP Request: POST http://127.0.0.1:11434/api/chat \"HTTP/1.1 200 OK\"\n"
     ]
    },
    {
     "name": "stdout",
     "output_type": "stream",
     "text": [
      "Uploaded image to: s3://psycore-document-images-445644858344/21-087286-01_Superfast_State_Aid_Evaluation_-_Main_State_Aid_Report_-_FINAL_VERSION_RedactedV2/image_2.jpg\n"
     ]
    },
    {
     "name": "stderr",
     "output_type": "stream",
     "text": [
      "2025-04-23 11:22:41,544 - httpx - INFO - HTTP Request: POST http://127.0.0.1:11434/api/chat \"HTTP/1.1 200 OK\"\n"
     ]
    },
    {
     "name": "stdout",
     "output_type": "stream",
     "text": [
      "Uploaded image to: s3://psycore-document-images-445644858344/21-087286-01_Superfast_State_Aid_Evaluation_-_Main_State_Aid_Report_-_FINAL_VERSION_RedactedV2/image_3.jpg\n"
     ]
    },
    {
     "name": "stderr",
     "output_type": "stream",
     "text": [
      "2025-04-23 11:22:46,435 - httpx - INFO - HTTP Request: POST http://127.0.0.1:11434/api/chat \"HTTP/1.1 200 OK\"\n"
     ]
    },
    {
     "name": "stdout",
     "output_type": "stream",
     "text": [
      "Uploaded image to: s3://psycore-document-images-445644858344/21-087286-01_Superfast_State_Aid_Evaluation_-_Main_State_Aid_Report_-_FINAL_VERSION_RedactedV2/image_4.jpg\n"
     ]
    },
    {
     "name": "stderr",
     "output_type": "stream",
     "text": [
      "2025-04-23 11:22:49,291 - httpx - INFO - HTTP Request: POST http://127.0.0.1:11434/api/chat \"HTTP/1.1 200 OK\"\n"
     ]
    },
    {
     "name": "stdout",
     "output_type": "stream",
     "text": [
      "Uploaded image to: s3://psycore-document-images-445644858344/21-087286-01_Superfast_State_Aid_Evaluation_-_Main_State_Aid_Report_-_FINAL_VERSION_RedactedV2/image_5.jpg\n"
     ]
    },
    {
     "name": "stderr",
     "output_type": "stream",
     "text": [
      "2025-04-23 11:22:58,561 - httpx - INFO - HTTP Request: POST http://127.0.0.1:11434/api/chat \"HTTP/1.1 200 OK\"\n"
     ]
    },
    {
     "name": "stdout",
     "output_type": "stream",
     "text": [
      "Uploaded image to: s3://psycore-document-images-445644858344/21-087286-01_Superfast_State_Aid_Evaluation_-_Main_State_Aid_Report_-_FINAL_VERSION_RedactedV2/image_6.jpg\n"
     ]
    },
    {
     "name": "stderr",
     "output_type": "stream",
     "text": [
      "2025-04-23 11:23:06,229 - httpx - INFO - HTTP Request: POST http://127.0.0.1:11434/api/chat \"HTTP/1.1 200 OK\"\n",
      "Some weights of the model checkpoint at dbmdz/bert-large-cased-finetuned-conll03-english were not used when initializing BertForTokenClassification: ['bert.pooler.dense.bias', 'bert.pooler.dense.weight']\n",
      "- This IS expected if you are initializing BertForTokenClassification from the checkpoint of a model trained on another task or with another architecture (e.g. initializing a BertForSequenceClassification model from a BertForPreTraining model).\n",
      "- This IS NOT expected if you are initializing BertForTokenClassification from the checkpoint of a model that you expect to be exactly identical (initializing a BertForSequenceClassification model from a BertForSequenceClassification model).\n",
      "Device set to use cpu\n"
     ]
    },
    {
     "name": "stdout",
     "output_type": "stream",
     "text": [
      "Uploaded knowledge graph to: s3://psycore-document-graphs-445644858344/21-087286-01_Superfast_State_Aid_Evaluation_-_Main_State_Aid_Report_-_FINAL_VERSION_RedactedV2/knowledge_graph.json\n",
      "✓ Successfully processed 21-087286-01_Superfast_State_Aid_Evaluation_-_Main_State_Aid_Report_-_FINAL_VERSION_RedactedV2.pdf\n",
      "  - 6 images uploaded to psycore-document-images-445644858344\n",
      "\n",
      "Processing PDF 14/75: 21-087286-01_Superfast_State_Aid_Technical_Annex_1__Reducing_the_Digital_Divide_-_FINAL_VERSION.pdf\n",
      "\n",
      "Processing completed in 0.44 seconds\n",
      "Success: True\n",
      "Extracted text: Yes\n",
      "Images extracted: 4\n",
      "Results saved to: c:\\Users\\Student\\Documents\\University\\Fifth Year\\COM4520\\Psycore\\jupyter_testing\\processed_pdfs\\21-087286-01_Superfast_State_Aid_Technical_Annex_1__Reducing_the_Digital_Divide_-_FINAL_VERSION_pdf\n",
      "Uploaded image to: s3://psycore-document-images-445644858344/21-087286-01_Superfast_State_Aid_Technical_Annex_1__Reducing_the_Digital_Divide_-_FINAL_VERSION/image_1.jpg\n"
     ]
    },
    {
     "name": "stderr",
     "output_type": "stream",
     "text": [
      "2025-04-23 11:26:09,612 - httpx - INFO - HTTP Request: POST http://127.0.0.1:11434/api/chat \"HTTP/1.1 200 OK\"\n"
     ]
    },
    {
     "name": "stdout",
     "output_type": "stream",
     "text": [
      "Uploaded image to: s3://psycore-document-images-445644858344/21-087286-01_Superfast_State_Aid_Technical_Annex_1__Reducing_the_Digital_Divide_-_FINAL_VERSION/image_2.jpg\n"
     ]
    },
    {
     "name": "stderr",
     "output_type": "stream",
     "text": [
      "2025-04-23 11:26:13,917 - httpx - INFO - HTTP Request: POST http://127.0.0.1:11434/api/chat \"HTTP/1.1 200 OK\"\n"
     ]
    },
    {
     "name": "stdout",
     "output_type": "stream",
     "text": [
      "Uploaded image to: s3://psycore-document-images-445644858344/21-087286-01_Superfast_State_Aid_Technical_Annex_1__Reducing_the_Digital_Divide_-_FINAL_VERSION/image_3.jpg\n"
     ]
    },
    {
     "name": "stderr",
     "output_type": "stream",
     "text": [
      "2025-04-23 11:26:19,352 - httpx - INFO - HTTP Request: POST http://127.0.0.1:11434/api/chat \"HTTP/1.1 200 OK\"\n"
     ]
    },
    {
     "name": "stdout",
     "output_type": "stream",
     "text": [
      "Uploaded image to: s3://psycore-document-images-445644858344/21-087286-01_Superfast_State_Aid_Technical_Annex_1__Reducing_the_Digital_Divide_-_FINAL_VERSION/image_4.jpg\n"
     ]
    },
    {
     "name": "stderr",
     "output_type": "stream",
     "text": [
      "2025-04-23 11:26:26,610 - httpx - INFO - HTTP Request: POST http://127.0.0.1:11434/api/chat \"HTTP/1.1 200 OK\"\n",
      "Some weights of the model checkpoint at dbmdz/bert-large-cased-finetuned-conll03-english were not used when initializing BertForTokenClassification: ['bert.pooler.dense.bias', 'bert.pooler.dense.weight']\n",
      "- This IS expected if you are initializing BertForTokenClassification from the checkpoint of a model trained on another task or with another architecture (e.g. initializing a BertForSequenceClassification model from a BertForPreTraining model).\n",
      "- This IS NOT expected if you are initializing BertForTokenClassification from the checkpoint of a model that you expect to be exactly identical (initializing a BertForSequenceClassification model from a BertForSequenceClassification model).\n",
      "Device set to use cpu\n"
     ]
    },
    {
     "name": "stdout",
     "output_type": "stream",
     "text": [
      "Uploaded knowledge graph to: s3://psycore-document-graphs-445644858344/21-087286-01_Superfast_State_Aid_Technical_Annex_1__Reducing_the_Digital_Divide_-_FINAL_VERSION/knowledge_graph.json\n",
      "✓ Successfully processed 21-087286-01_Superfast_State_Aid_Technical_Annex_1__Reducing_the_Digital_Divide_-_FINAL_VERSION.pdf\n",
      "  - 4 images uploaded to psycore-document-images-445644858344\n",
      "\n",
      "Processing PDF 15/75: 2119012201_Superfast_State_Aid_Technical_Annex_2_CLIENT_USE_Redacted.pdf\n",
      "\n",
      "Processing completed in 0.24 seconds\n",
      "Success: True\n",
      "Extracted text: Yes\n",
      "Images extracted: 4\n",
      "Results saved to: c:\\Users\\Student\\Documents\\University\\Fifth Year\\COM4520\\Psycore\\jupyter_testing\\processed_pdfs\\2119012201_Superfast_State_Aid_Technical_Annex_2_CLIENT_USE_Redacted_pdf\n",
      "Uploaded image to: s3://psycore-document-images-445644858344/2119012201_Superfast_State_Aid_Technical_Annex_2_CLIENT_USE_Redacted/image_1.jpg\n"
     ]
    },
    {
     "name": "stderr",
     "output_type": "stream",
     "text": [
      "2025-04-23 11:28:15,116 - httpx - INFO - HTTP Request: POST http://127.0.0.1:11434/api/chat \"HTTP/1.1 200 OK\"\n"
     ]
    },
    {
     "name": "stdout",
     "output_type": "stream",
     "text": [
      "Uploaded image to: s3://psycore-document-images-445644858344/2119012201_Superfast_State_Aid_Technical_Annex_2_CLIENT_USE_Redacted/image_2.jpg\n"
     ]
    },
    {
     "name": "stderr",
     "output_type": "stream",
     "text": [
      "2025-04-23 11:28:20,752 - httpx - INFO - HTTP Request: POST http://127.0.0.1:11434/api/chat \"HTTP/1.1 200 OK\"\n"
     ]
    },
    {
     "name": "stdout",
     "output_type": "stream",
     "text": [
      "Uploaded image to: s3://psycore-document-images-445644858344/2119012201_Superfast_State_Aid_Technical_Annex_2_CLIENT_USE_Redacted/image_3.jpg\n"
     ]
    },
    {
     "name": "stderr",
     "output_type": "stream",
     "text": [
      "2025-04-23 11:28:28,095 - httpx - INFO - HTTP Request: POST http://127.0.0.1:11434/api/chat \"HTTP/1.1 200 OK\"\n"
     ]
    },
    {
     "name": "stdout",
     "output_type": "stream",
     "text": [
      "Uploaded image to: s3://psycore-document-images-445644858344/2119012201_Superfast_State_Aid_Technical_Annex_2_CLIENT_USE_Redacted/image_4.jpg\n"
     ]
    },
    {
     "name": "stderr",
     "output_type": "stream",
     "text": [
      "2025-04-23 11:28:35,097 - httpx - INFO - HTTP Request: POST http://127.0.0.1:11434/api/chat \"HTTP/1.1 200 OK\"\n",
      "Some weights of the model checkpoint at dbmdz/bert-large-cased-finetuned-conll03-english were not used when initializing BertForTokenClassification: ['bert.pooler.dense.bias', 'bert.pooler.dense.weight']\n",
      "- This IS expected if you are initializing BertForTokenClassification from the checkpoint of a model trained on another task or with another architecture (e.g. initializing a BertForSequenceClassification model from a BertForPreTraining model).\n",
      "- This IS NOT expected if you are initializing BertForTokenClassification from the checkpoint of a model that you expect to be exactly identical (initializing a BertForSequenceClassification model from a BertForSequenceClassification model).\n",
      "Device set to use cpu\n"
     ]
    },
    {
     "name": "stdout",
     "output_type": "stream",
     "text": [
      "Uploaded knowledge graph to: s3://psycore-document-graphs-445644858344/2119012201_Superfast_State_Aid_Technical_Annex_2_CLIENT_USE_Redacted/knowledge_graph.json\n",
      "✓ Successfully processed 2119012201_Superfast_State_Aid_Technical_Annex_2_CLIENT_USE_Redacted.pdf\n",
      "  - 4 images uploaded to psycore-document-images-445644858344\n",
      "\n",
      "Processing PDF 16/75: 22-036458-01_GIS_early_process_evaluation_Accessible_CLIENT_USE.pdf\n",
      "\n",
      "Processing completed in 0.23 seconds\n",
      "Success: True\n",
      "Extracted text: Yes\n",
      "Images extracted: 16\n",
      "Results saved to: c:\\Users\\Student\\Documents\\University\\Fifth Year\\COM4520\\Psycore\\jupyter_testing\\processed_pdfs\\22-036458-01_GIS_early_process_evaluation_Accessible_CLIENT_USE_pdf\n",
      "Uploaded image to: s3://psycore-document-images-445644858344/22-036458-01_GIS_early_process_evaluation_Accessible_CLIENT_USE/image_1.jpg\n"
     ]
    },
    {
     "name": "stderr",
     "output_type": "stream",
     "text": [
      "2025-04-23 11:29:50,134 - httpx - INFO - HTTP Request: POST http://127.0.0.1:11434/api/chat \"HTTP/1.1 200 OK\"\n"
     ]
    },
    {
     "name": "stdout",
     "output_type": "stream",
     "text": [
      "Uploaded image to: s3://psycore-document-images-445644858344/22-036458-01_GIS_early_process_evaluation_Accessible_CLIENT_USE/image_10.jpg\n"
     ]
    },
    {
     "name": "stderr",
     "output_type": "stream",
     "text": [
      "2025-04-23 11:29:56,662 - httpx - INFO - HTTP Request: POST http://127.0.0.1:11434/api/chat \"HTTP/1.1 200 OK\"\n"
     ]
    },
    {
     "name": "stdout",
     "output_type": "stream",
     "text": [
      "Uploaded image to: s3://psycore-document-images-445644858344/22-036458-01_GIS_early_process_evaluation_Accessible_CLIENT_USE/image_11.jpg\n"
     ]
    },
    {
     "name": "stderr",
     "output_type": "stream",
     "text": [
      "2025-04-23 11:30:01,789 - httpx - INFO - HTTP Request: POST http://127.0.0.1:11434/api/chat \"HTTP/1.1 200 OK\"\n"
     ]
    },
    {
     "name": "stdout",
     "output_type": "stream",
     "text": [
      "Uploaded image to: s3://psycore-document-images-445644858344/22-036458-01_GIS_early_process_evaluation_Accessible_CLIENT_USE/image_12.jpg\n"
     ]
    },
    {
     "name": "stderr",
     "output_type": "stream",
     "text": [
      "2025-04-23 11:30:08,618 - httpx - INFO - HTTP Request: POST http://127.0.0.1:11434/api/chat \"HTTP/1.1 200 OK\"\n"
     ]
    },
    {
     "name": "stdout",
     "output_type": "stream",
     "text": [
      "Uploaded image to: s3://psycore-document-images-445644858344/22-036458-01_GIS_early_process_evaluation_Accessible_CLIENT_USE/image_13.jpg\n"
     ]
    },
    {
     "name": "stderr",
     "output_type": "stream",
     "text": [
      "2025-04-23 11:30:15,956 - httpx - INFO - HTTP Request: POST http://127.0.0.1:11434/api/chat \"HTTP/1.1 200 OK\"\n"
     ]
    },
    {
     "name": "stdout",
     "output_type": "stream",
     "text": [
      "Uploaded image to: s3://psycore-document-images-445644858344/22-036458-01_GIS_early_process_evaluation_Accessible_CLIENT_USE/image_14.jpg\n"
     ]
    },
    {
     "name": "stderr",
     "output_type": "stream",
     "text": [
      "2025-04-23 11:30:21,514 - httpx - INFO - HTTP Request: POST http://127.0.0.1:11434/api/chat \"HTTP/1.1 200 OK\"\n"
     ]
    },
    {
     "name": "stdout",
     "output_type": "stream",
     "text": [
      "Uploaded image to: s3://psycore-document-images-445644858344/22-036458-01_GIS_early_process_evaluation_Accessible_CLIENT_USE/image_15.jpg\n"
     ]
    },
    {
     "name": "stderr",
     "output_type": "stream",
     "text": [
      "2025-04-23 11:30:26,986 - httpx - INFO - HTTP Request: POST http://127.0.0.1:11434/api/chat \"HTTP/1.1 200 OK\"\n"
     ]
    },
    {
     "name": "stdout",
     "output_type": "stream",
     "text": [
      "Uploaded image to: s3://psycore-document-images-445644858344/22-036458-01_GIS_early_process_evaluation_Accessible_CLIENT_USE/image_16.jpg\n"
     ]
    },
    {
     "name": "stderr",
     "output_type": "stream",
     "text": [
      "2025-04-23 11:30:35,824 - httpx - INFO - HTTP Request: POST http://127.0.0.1:11434/api/chat \"HTTP/1.1 200 OK\"\n"
     ]
    },
    {
     "name": "stdout",
     "output_type": "stream",
     "text": [
      "Uploaded image to: s3://psycore-document-images-445644858344/22-036458-01_GIS_early_process_evaluation_Accessible_CLIENT_USE/image_2.jpg\n"
     ]
    },
    {
     "name": "stderr",
     "output_type": "stream",
     "text": [
      "2025-04-23 11:30:42,503 - httpx - INFO - HTTP Request: POST http://127.0.0.1:11434/api/chat \"HTTP/1.1 200 OK\"\n"
     ]
    },
    {
     "name": "stdout",
     "output_type": "stream",
     "text": [
      "Uploaded image to: s3://psycore-document-images-445644858344/22-036458-01_GIS_early_process_evaluation_Accessible_CLIENT_USE/image_3.jpg\n"
     ]
    },
    {
     "name": "stderr",
     "output_type": "stream",
     "text": [
      "2025-04-23 11:30:53,348 - httpx - INFO - HTTP Request: POST http://127.0.0.1:11434/api/chat \"HTTP/1.1 200 OK\"\n"
     ]
    },
    {
     "name": "stdout",
     "output_type": "stream",
     "text": [
      "Uploaded image to: s3://psycore-document-images-445644858344/22-036458-01_GIS_early_process_evaluation_Accessible_CLIENT_USE/image_4.jpg\n"
     ]
    },
    {
     "name": "stderr",
     "output_type": "stream",
     "text": [
      "2025-04-23 11:30:58,868 - httpx - INFO - HTTP Request: POST http://127.0.0.1:11434/api/chat \"HTTP/1.1 200 OK\"\n"
     ]
    },
    {
     "name": "stdout",
     "output_type": "stream",
     "text": [
      "Uploaded image to: s3://psycore-document-images-445644858344/22-036458-01_GIS_early_process_evaluation_Accessible_CLIENT_USE/image_5.jpg\n"
     ]
    },
    {
     "name": "stderr",
     "output_type": "stream",
     "text": [
      "2025-04-23 11:31:11,036 - httpx - INFO - HTTP Request: POST http://127.0.0.1:11434/api/chat \"HTTP/1.1 200 OK\"\n"
     ]
    },
    {
     "name": "stdout",
     "output_type": "stream",
     "text": [
      "Uploaded image to: s3://psycore-document-images-445644858344/22-036458-01_GIS_early_process_evaluation_Accessible_CLIENT_USE/image_6.jpg\n"
     ]
    },
    {
     "name": "stderr",
     "output_type": "stream",
     "text": [
      "2025-04-23 11:31:16,692 - httpx - INFO - HTTP Request: POST http://127.0.0.1:11434/api/chat \"HTTP/1.1 200 OK\"\n"
     ]
    },
    {
     "name": "stdout",
     "output_type": "stream",
     "text": [
      "Uploaded image to: s3://psycore-document-images-445644858344/22-036458-01_GIS_early_process_evaluation_Accessible_CLIENT_USE/image_7.jpg\n"
     ]
    },
    {
     "name": "stderr",
     "output_type": "stream",
     "text": [
      "2025-04-23 11:31:22,020 - httpx - INFO - HTTP Request: POST http://127.0.0.1:11434/api/chat \"HTTP/1.1 200 OK\"\n"
     ]
    },
    {
     "name": "stdout",
     "output_type": "stream",
     "text": [
      "Uploaded image to: s3://psycore-document-images-445644858344/22-036458-01_GIS_early_process_evaluation_Accessible_CLIENT_USE/image_8.jpg\n"
     ]
    },
    {
     "name": "stderr",
     "output_type": "stream",
     "text": [
      "2025-04-23 11:31:26,507 - httpx - INFO - HTTP Request: POST http://127.0.0.1:11434/api/chat \"HTTP/1.1 200 OK\"\n"
     ]
    },
    {
     "name": "stdout",
     "output_type": "stream",
     "text": [
      "Uploaded image to: s3://psycore-document-images-445644858344/22-036458-01_GIS_early_process_evaluation_Accessible_CLIENT_USE/image_9.jpg\n"
     ]
    },
    {
     "name": "stderr",
     "output_type": "stream",
     "text": [
      "2025-04-23 11:31:31,441 - httpx - INFO - HTTP Request: POST http://127.0.0.1:11434/api/chat \"HTTP/1.1 200 OK\"\n",
      "Some weights of the model checkpoint at dbmdz/bert-large-cased-finetuned-conll03-english were not used when initializing BertForTokenClassification: ['bert.pooler.dense.bias', 'bert.pooler.dense.weight']\n",
      "- This IS expected if you are initializing BertForTokenClassification from the checkpoint of a model trained on another task or with another architecture (e.g. initializing a BertForSequenceClassification model from a BertForPreTraining model).\n",
      "- This IS NOT expected if you are initializing BertForTokenClassification from the checkpoint of a model that you expect to be exactly identical (initializing a BertForSequenceClassification model from a BertForSequenceClassification model).\n",
      "Device set to use cpu\n"
     ]
    },
    {
     "name": "stdout",
     "output_type": "stream",
     "text": [
      "Uploaded knowledge graph to: s3://psycore-document-graphs-445644858344/22-036458-01_GIS_early_process_evaluation_Accessible_CLIENT_USE/knowledge_graph.json\n",
      "✓ Successfully processed 22-036458-01_GIS_early_process_evaluation_Accessible_CLIENT_USE.pdf\n",
      "  - 16 images uploaded to psycore-document-images-445644858344\n",
      "\n",
      "Processing PDF 17/75: 23_June_BDUK_Outside_In_Market_Engagement_Event_Slides.pdf\n",
      "\n",
      "Processing completed in 0.25 seconds\n",
      "Success: True\n",
      "Extracted text: Yes\n",
      "Images extracted: 11\n",
      "Results saved to: c:\\Users\\Student\\Documents\\University\\Fifth Year\\COM4520\\Psycore\\jupyter_testing\\processed_pdfs\\23_June_BDUK_Outside_In_Market_Engagement_Event_Slides_pdf\n",
      "Uploaded image to: s3://psycore-document-images-445644858344/23_June_BDUK_Outside_In_Market_Engagement_Event_Slides/image_1.jpg\n"
     ]
    },
    {
     "name": "stderr",
     "output_type": "stream",
     "text": [
      "2025-04-23 11:32:51,399 - httpx - INFO - HTTP Request: POST http://127.0.0.1:11434/api/chat \"HTTP/1.1 200 OK\"\n"
     ]
    },
    {
     "name": "stdout",
     "output_type": "stream",
     "text": [
      "Uploaded image to: s3://psycore-document-images-445644858344/23_June_BDUK_Outside_In_Market_Engagement_Event_Slides/image_10.jpg\n"
     ]
    },
    {
     "name": "stderr",
     "output_type": "stream",
     "text": [
      "2025-04-23 11:32:55,375 - httpx - INFO - HTTP Request: POST http://127.0.0.1:11434/api/chat \"HTTP/1.1 200 OK\"\n"
     ]
    },
    {
     "name": "stdout",
     "output_type": "stream",
     "text": [
      "Uploaded image to: s3://psycore-document-images-445644858344/23_June_BDUK_Outside_In_Market_Engagement_Event_Slides/image_11.jpg\n"
     ]
    },
    {
     "name": "stderr",
     "output_type": "stream",
     "text": [
      "2025-04-23 11:32:59,920 - httpx - INFO - HTTP Request: POST http://127.0.0.1:11434/api/chat \"HTTP/1.1 200 OK\"\n"
     ]
    },
    {
     "name": "stdout",
     "output_type": "stream",
     "text": [
      "Uploaded image to: s3://psycore-document-images-445644858344/23_June_BDUK_Outside_In_Market_Engagement_Event_Slides/image_2.jpg\n"
     ]
    },
    {
     "name": "stderr",
     "output_type": "stream",
     "text": [
      "2025-04-23 11:33:07,219 - httpx - INFO - HTTP Request: POST http://127.0.0.1:11434/api/chat \"HTTP/1.1 200 OK\"\n"
     ]
    },
    {
     "name": "stdout",
     "output_type": "stream",
     "text": [
      "Uploaded image to: s3://psycore-document-images-445644858344/23_June_BDUK_Outside_In_Market_Engagement_Event_Slides/image_3.jpg\n"
     ]
    },
    {
     "name": "stderr",
     "output_type": "stream",
     "text": [
      "2025-04-23 11:33:12,894 - httpx - INFO - HTTP Request: POST http://127.0.0.1:11434/api/chat \"HTTP/1.1 200 OK\"\n"
     ]
    },
    {
     "name": "stdout",
     "output_type": "stream",
     "text": [
      "Uploaded image to: s3://psycore-document-images-445644858344/23_June_BDUK_Outside_In_Market_Engagement_Event_Slides/image_4.jpg\n"
     ]
    },
    {
     "name": "stderr",
     "output_type": "stream",
     "text": [
      "2025-04-23 11:33:16,905 - httpx - INFO - HTTP Request: POST http://127.0.0.1:11434/api/chat \"HTTP/1.1 200 OK\"\n"
     ]
    },
    {
     "name": "stdout",
     "output_type": "stream",
     "text": [
      "Uploaded image to: s3://psycore-document-images-445644858344/23_June_BDUK_Outside_In_Market_Engagement_Event_Slides/image_5.jpg\n"
     ]
    },
    {
     "name": "stderr",
     "output_type": "stream",
     "text": [
      "2025-04-23 11:33:21,124 - httpx - INFO - HTTP Request: POST http://127.0.0.1:11434/api/chat \"HTTP/1.1 200 OK\"\n"
     ]
    },
    {
     "name": "stdout",
     "output_type": "stream",
     "text": [
      "Uploaded image to: s3://psycore-document-images-445644858344/23_June_BDUK_Outside_In_Market_Engagement_Event_Slides/image_6.jpg\n"
     ]
    },
    {
     "name": "stderr",
     "output_type": "stream",
     "text": [
      "2025-04-23 11:33:23,650 - httpx - INFO - HTTP Request: POST http://127.0.0.1:11434/api/chat \"HTTP/1.1 200 OK\"\n"
     ]
    },
    {
     "name": "stdout",
     "output_type": "stream",
     "text": [
      "Uploaded image to: s3://psycore-document-images-445644858344/23_June_BDUK_Outside_In_Market_Engagement_Event_Slides/image_7.jpg\n"
     ]
    },
    {
     "name": "stderr",
     "output_type": "stream",
     "text": [
      "2025-04-23 11:33:32,476 - httpx - INFO - HTTP Request: POST http://127.0.0.1:11434/api/chat \"HTTP/1.1 200 OK\"\n"
     ]
    },
    {
     "name": "stdout",
     "output_type": "stream",
     "text": [
      "Uploaded image to: s3://psycore-document-images-445644858344/23_June_BDUK_Outside_In_Market_Engagement_Event_Slides/image_8.jpg\n"
     ]
    },
    {
     "name": "stderr",
     "output_type": "stream",
     "text": [
      "2025-04-23 11:33:38,655 - httpx - INFO - HTTP Request: POST http://127.0.0.1:11434/api/chat \"HTTP/1.1 200 OK\"\n"
     ]
    },
    {
     "name": "stdout",
     "output_type": "stream",
     "text": [
      "Uploaded image to: s3://psycore-document-images-445644858344/23_June_BDUK_Outside_In_Market_Engagement_Event_Slides/image_9.jpg\n"
     ]
    },
    {
     "name": "stderr",
     "output_type": "stream",
     "text": [
      "2025-04-23 11:33:45,280 - httpx - INFO - HTTP Request: POST http://127.0.0.1:11434/api/chat \"HTTP/1.1 200 OK\"\n",
      "Some weights of the model checkpoint at dbmdz/bert-large-cased-finetuned-conll03-english were not used when initializing BertForTokenClassification: ['bert.pooler.dense.bias', 'bert.pooler.dense.weight']\n",
      "- This IS expected if you are initializing BertForTokenClassification from the checkpoint of a model trained on another task or with another architecture (e.g. initializing a BertForSequenceClassification model from a BertForPreTraining model).\n",
      "- This IS NOT expected if you are initializing BertForTokenClassification from the checkpoint of a model that you expect to be exactly identical (initializing a BertForSequenceClassification model from a BertForSequenceClassification model).\n",
      "Device set to use cpu\n"
     ]
    },
    {
     "name": "stdout",
     "output_type": "stream",
     "text": [
      "Uploaded knowledge graph to: s3://psycore-document-graphs-445644858344/23_June_BDUK_Outside_In_Market_Engagement_Event_Slides/knowledge_graph.json\n",
      "✓ Successfully processed 23_June_BDUK_Outside_In_Market_Engagement_Event_Slides.pdf\n",
      "  - 11 images uploaded to psycore-document-images-445644858344\n",
      "\n",
      "Processing PDF 18/75: 2B_OMR_RFI_Template_V3.1._1_.pdf\n",
      "\n",
      "Processing completed in 0.33 seconds\n",
      "Success: True\n",
      "Extracted text: Yes\n",
      "Images extracted: 4\n",
      "Results saved to: c:\\Users\\Student\\Documents\\University\\Fifth Year\\COM4520\\Psycore\\jupyter_testing\\processed_pdfs\\2B_OMR_RFI_Template_V3_1__1__pdf\n",
      "Uploaded image to: s3://psycore-document-images-445644858344/2B_OMR_RFI_Template_V3.1._1_/image_1.jpg\n"
     ]
    },
    {
     "name": "stderr",
     "output_type": "stream",
     "text": [
      "2025-04-23 11:34:19,405 - httpx - INFO - HTTP Request: POST http://127.0.0.1:11434/api/chat \"HTTP/1.1 200 OK\"\n"
     ]
    },
    {
     "name": "stdout",
     "output_type": "stream",
     "text": [
      "Uploaded image to: s3://psycore-document-images-445644858344/2B_OMR_RFI_Template_V3.1._1_/image_2.jpg\n"
     ]
    },
    {
     "name": "stderr",
     "output_type": "stream",
     "text": [
      "2025-04-23 11:34:26,806 - httpx - INFO - HTTP Request: POST http://127.0.0.1:11434/api/chat \"HTTP/1.1 200 OK\"\n"
     ]
    },
    {
     "name": "stdout",
     "output_type": "stream",
     "text": [
      "Uploaded image to: s3://psycore-document-images-445644858344/2B_OMR_RFI_Template_V3.1._1_/image_3.jpg\n"
     ]
    },
    {
     "name": "stderr",
     "output_type": "stream",
     "text": [
      "2025-04-23 11:34:31,046 - httpx - INFO - HTTP Request: POST http://127.0.0.1:11434/api/chat \"HTTP/1.1 200 OK\"\n"
     ]
    },
    {
     "name": "stdout",
     "output_type": "stream",
     "text": [
      "Uploaded image to: s3://psycore-document-images-445644858344/2B_OMR_RFI_Template_V3.1._1_/image_4.jpg\n"
     ]
    },
    {
     "name": "stderr",
     "output_type": "stream",
     "text": [
      "2025-04-23 11:34:36,292 - httpx - INFO - HTTP Request: POST http://127.0.0.1:11434/api/chat \"HTTP/1.1 200 OK\"\n",
      "Some weights of the model checkpoint at dbmdz/bert-large-cased-finetuned-conll03-english were not used when initializing BertForTokenClassification: ['bert.pooler.dense.bias', 'bert.pooler.dense.weight']\n",
      "- This IS expected if you are initializing BertForTokenClassification from the checkpoint of a model trained on another task or with another architecture (e.g. initializing a BertForSequenceClassification model from a BertForPreTraining model).\n",
      "- This IS NOT expected if you are initializing BertForTokenClassification from the checkpoint of a model that you expect to be exactly identical (initializing a BertForSequenceClassification model from a BertForSequenceClassification model).\n",
      "Device set to use cpu\n"
     ]
    },
    {
     "name": "stdout",
     "output_type": "stream",
     "text": [
      "Uploaded knowledge graph to: s3://psycore-document-graphs-445644858344/2B_OMR_RFI_Template_V3.1._1_/knowledge_graph.json\n",
      "✓ Successfully processed 2B_OMR_RFI_Template_V3.1._1_.pdf\n",
      "  - 4 images uploaded to psycore-document-images-445644858344\n",
      "\n",
      "Processing PDF 19/75: 30th_June_Outside_In_Market_Engagement_Event_Slides.pdf\n",
      "\n",
      "Processing completed in 0.73 seconds\n",
      "Success: True\n",
      "Extracted text: Yes\n",
      "Images extracted: 77\n",
      "Results saved to: c:\\Users\\Student\\Documents\\University\\Fifth Year\\COM4520\\Psycore\\jupyter_testing\\processed_pdfs\\30th_June_Outside_In_Market_Engagement_Event_Slides_pdf\n",
      "Uploaded image to: s3://psycore-document-images-445644858344/30th_June_Outside_In_Market_Engagement_Event_Slides/image_1.jpg\n"
     ]
    },
    {
     "name": "stderr",
     "output_type": "stream",
     "text": [
      "2025-04-23 11:35:08,839 - httpx - INFO - HTTP Request: POST http://127.0.0.1:11434/api/chat \"HTTP/1.1 200 OK\"\n"
     ]
    },
    {
     "name": "stdout",
     "output_type": "stream",
     "text": [
      "Uploaded image to: s3://psycore-document-images-445644858344/30th_June_Outside_In_Market_Engagement_Event_Slides/image_10.jpg\n"
     ]
    },
    {
     "name": "stderr",
     "output_type": "stream",
     "text": [
      "2025-04-23 11:35:12,620 - httpx - INFO - HTTP Request: POST http://127.0.0.1:11434/api/chat \"HTTP/1.1 200 OK\"\n"
     ]
    },
    {
     "name": "stdout",
     "output_type": "stream",
     "text": [
      "Uploaded image to: s3://psycore-document-images-445644858344/30th_June_Outside_In_Market_Engagement_Event_Slides/image_11.jpg\n"
     ]
    },
    {
     "name": "stderr",
     "output_type": "stream",
     "text": [
      "2025-04-23 11:35:15,003 - httpx - INFO - HTTP Request: POST http://127.0.0.1:11434/api/chat \"HTTP/1.1 200 OK\"\n"
     ]
    },
    {
     "name": "stdout",
     "output_type": "stream",
     "text": [
      "Uploaded image to: s3://psycore-document-images-445644858344/30th_June_Outside_In_Market_Engagement_Event_Slides/image_12.jpg\n"
     ]
    },
    {
     "name": "stderr",
     "output_type": "stream",
     "text": [
      "2025-04-23 11:35:17,978 - httpx - INFO - HTTP Request: POST http://127.0.0.1:11434/api/chat \"HTTP/1.1 200 OK\"\n"
     ]
    },
    {
     "name": "stdout",
     "output_type": "stream",
     "text": [
      "Uploaded image to: s3://psycore-document-images-445644858344/30th_June_Outside_In_Market_Engagement_Event_Slides/image_13.jpg\n"
     ]
    },
    {
     "name": "stderr",
     "output_type": "stream",
     "text": [
      "2025-04-23 11:35:20,424 - httpx - INFO - HTTP Request: POST http://127.0.0.1:11434/api/chat \"HTTP/1.1 200 OK\"\n"
     ]
    },
    {
     "name": "stdout",
     "output_type": "stream",
     "text": [
      "Uploaded image to: s3://psycore-document-images-445644858344/30th_June_Outside_In_Market_Engagement_Event_Slides/image_14.jpg\n"
     ]
    },
    {
     "name": "stderr",
     "output_type": "stream",
     "text": [
      "2025-04-23 11:35:24,600 - httpx - INFO - HTTP Request: POST http://127.0.0.1:11434/api/chat \"HTTP/1.1 200 OK\"\n"
     ]
    },
    {
     "name": "stdout",
     "output_type": "stream",
     "text": [
      "Uploaded image to: s3://psycore-document-images-445644858344/30th_June_Outside_In_Market_Engagement_Event_Slides/image_15.jpg\n"
     ]
    },
    {
     "name": "stderr",
     "output_type": "stream",
     "text": [
      "2025-04-23 11:35:25,441 - httpx - INFO - HTTP Request: POST http://127.0.0.1:11434/api/chat \"HTTP/1.1 200 OK\"\n"
     ]
    },
    {
     "name": "stdout",
     "output_type": "stream",
     "text": [
      "Uploaded image to: s3://psycore-document-images-445644858344/30th_June_Outside_In_Market_Engagement_Event_Slides/image_16.jpg\n"
     ]
    },
    {
     "name": "stderr",
     "output_type": "stream",
     "text": [
      "2025-04-23 11:35:28,756 - httpx - INFO - HTTP Request: POST http://127.0.0.1:11434/api/chat \"HTTP/1.1 200 OK\"\n"
     ]
    },
    {
     "name": "stdout",
     "output_type": "stream",
     "text": [
      "Uploaded image to: s3://psycore-document-images-445644858344/30th_June_Outside_In_Market_Engagement_Event_Slides/image_17.jpg\n"
     ]
    },
    {
     "name": "stderr",
     "output_type": "stream",
     "text": [
      "2025-04-23 11:35:32,027 - httpx - INFO - HTTP Request: POST http://127.0.0.1:11434/api/chat \"HTTP/1.1 200 OK\"\n"
     ]
    },
    {
     "name": "stdout",
     "output_type": "stream",
     "text": [
      "Uploaded image to: s3://psycore-document-images-445644858344/30th_June_Outside_In_Market_Engagement_Event_Slides/image_18.jpg\n"
     ]
    },
    {
     "name": "stderr",
     "output_type": "stream",
     "text": [
      "2025-04-23 11:35:34,603 - httpx - INFO - HTTP Request: POST http://127.0.0.1:11434/api/chat \"HTTP/1.1 200 OK\"\n"
     ]
    },
    {
     "name": "stdout",
     "output_type": "stream",
     "text": [
      "Uploaded image to: s3://psycore-document-images-445644858344/30th_June_Outside_In_Market_Engagement_Event_Slides/image_19.jpg\n"
     ]
    },
    {
     "name": "stderr",
     "output_type": "stream",
     "text": [
      "2025-04-23 11:35:37,235 - httpx - INFO - HTTP Request: POST http://127.0.0.1:11434/api/chat \"HTTP/1.1 200 OK\"\n"
     ]
    },
    {
     "name": "stdout",
     "output_type": "stream",
     "text": [
      "Uploaded image to: s3://psycore-document-images-445644858344/30th_June_Outside_In_Market_Engagement_Event_Slides/image_2.jpg\n"
     ]
    },
    {
     "name": "stderr",
     "output_type": "stream",
     "text": [
      "2025-04-23 11:35:43,194 - httpx - INFO - HTTP Request: POST http://127.0.0.1:11434/api/chat \"HTTP/1.1 200 OK\"\n"
     ]
    },
    {
     "name": "stdout",
     "output_type": "stream",
     "text": [
      "Uploaded image to: s3://psycore-document-images-445644858344/30th_June_Outside_In_Market_Engagement_Event_Slides/image_20.jpg\n"
     ]
    },
    {
     "name": "stderr",
     "output_type": "stream",
     "text": [
      "2025-04-23 11:35:48,741 - httpx - INFO - HTTP Request: POST http://127.0.0.1:11434/api/chat \"HTTP/1.1 200 OK\"\n"
     ]
    },
    {
     "name": "stdout",
     "output_type": "stream",
     "text": [
      "Uploaded image to: s3://psycore-document-images-445644858344/30th_June_Outside_In_Market_Engagement_Event_Slides/image_21.jpg\n"
     ]
    },
    {
     "name": "stderr",
     "output_type": "stream",
     "text": [
      "2025-04-23 11:35:53,640 - httpx - INFO - HTTP Request: POST http://127.0.0.1:11434/api/chat \"HTTP/1.1 200 OK\"\n"
     ]
    },
    {
     "name": "stdout",
     "output_type": "stream",
     "text": [
      "Uploaded image to: s3://psycore-document-images-445644858344/30th_June_Outside_In_Market_Engagement_Event_Slides/image_22.jpg\n"
     ]
    },
    {
     "name": "stderr",
     "output_type": "stream",
     "text": [
      "2025-04-23 11:35:57,684 - httpx - INFO - HTTP Request: POST http://127.0.0.1:11434/api/chat \"HTTP/1.1 200 OK\"\n"
     ]
    },
    {
     "name": "stdout",
     "output_type": "stream",
     "text": [
      "Uploaded image to: s3://psycore-document-images-445644858344/30th_June_Outside_In_Market_Engagement_Event_Slides/image_23.jpg\n"
     ]
    },
    {
     "name": "stderr",
     "output_type": "stream",
     "text": [
      "2025-04-23 11:36:00,842 - httpx - INFO - HTTP Request: POST http://127.0.0.1:11434/api/chat \"HTTP/1.1 200 OK\"\n"
     ]
    },
    {
     "name": "stdout",
     "output_type": "stream",
     "text": [
      "Uploaded image to: s3://psycore-document-images-445644858344/30th_June_Outside_In_Market_Engagement_Event_Slides/image_24.jpg\n"
     ]
    },
    {
     "name": "stderr",
     "output_type": "stream",
     "text": [
      "2025-04-23 11:36:03,202 - httpx - INFO - HTTP Request: POST http://127.0.0.1:11434/api/chat \"HTTP/1.1 200 OK\"\n"
     ]
    },
    {
     "name": "stdout",
     "output_type": "stream",
     "text": [
      "Uploaded image to: s3://psycore-document-images-445644858344/30th_June_Outside_In_Market_Engagement_Event_Slides/image_25.jpg\n"
     ]
    },
    {
     "name": "stderr",
     "output_type": "stream",
     "text": [
      "2025-04-23 11:36:06,139 - httpx - INFO - HTTP Request: POST http://127.0.0.1:11434/api/chat \"HTTP/1.1 200 OK\"\n"
     ]
    },
    {
     "name": "stdout",
     "output_type": "stream",
     "text": [
      "Uploaded image to: s3://psycore-document-images-445644858344/30th_June_Outside_In_Market_Engagement_Event_Slides/image_26.jpg\n"
     ]
    },
    {
     "name": "stderr",
     "output_type": "stream",
     "text": [
      "2025-04-23 11:36:09,422 - httpx - INFO - HTTP Request: POST http://127.0.0.1:11434/api/chat \"HTTP/1.1 200 OK\"\n"
     ]
    },
    {
     "name": "stdout",
     "output_type": "stream",
     "text": [
      "Uploaded image to: s3://psycore-document-images-445644858344/30th_June_Outside_In_Market_Engagement_Event_Slides/image_27.jpg\n"
     ]
    },
    {
     "name": "stderr",
     "output_type": "stream",
     "text": [
      "2025-04-23 11:36:10,869 - httpx - INFO - HTTP Request: POST http://127.0.0.1:11434/api/chat \"HTTP/1.1 200 OK\"\n"
     ]
    },
    {
     "name": "stdout",
     "output_type": "stream",
     "text": [
      "Uploaded image to: s3://psycore-document-images-445644858344/30th_June_Outside_In_Market_Engagement_Event_Slides/image_28.jpg\n"
     ]
    },
    {
     "name": "stderr",
     "output_type": "stream",
     "text": [
      "2025-04-23 11:36:16,135 - httpx - INFO - HTTP Request: POST http://127.0.0.1:11434/api/chat \"HTTP/1.1 200 OK\"\n"
     ]
    },
    {
     "name": "stdout",
     "output_type": "stream",
     "text": [
      "Uploaded image to: s3://psycore-document-images-445644858344/30th_June_Outside_In_Market_Engagement_Event_Slides/image_29.jpg\n"
     ]
    },
    {
     "name": "stderr",
     "output_type": "stream",
     "text": [
      "2025-04-23 11:36:20,534 - httpx - INFO - HTTP Request: POST http://127.0.0.1:11434/api/chat \"HTTP/1.1 200 OK\"\n"
     ]
    },
    {
     "name": "stdout",
     "output_type": "stream",
     "text": [
      "Uploaded image to: s3://psycore-document-images-445644858344/30th_June_Outside_In_Market_Engagement_Event_Slides/image_3.jpg\n"
     ]
    },
    {
     "name": "stderr",
     "output_type": "stream",
     "text": [
      "2025-04-23 11:36:25,722 - httpx - INFO - HTTP Request: POST http://127.0.0.1:11434/api/chat \"HTTP/1.1 200 OK\"\n"
     ]
    },
    {
     "name": "stdout",
     "output_type": "stream",
     "text": [
      "Uploaded image to: s3://psycore-document-images-445644858344/30th_June_Outside_In_Market_Engagement_Event_Slides/image_30.jpg\n"
     ]
    },
    {
     "name": "stderr",
     "output_type": "stream",
     "text": [
      "2025-04-23 11:36:30,789 - httpx - INFO - HTTP Request: POST http://127.0.0.1:11434/api/chat \"HTTP/1.1 200 OK\"\n"
     ]
    },
    {
     "name": "stdout",
     "output_type": "stream",
     "text": [
      "Uploaded image to: s3://psycore-document-images-445644858344/30th_June_Outside_In_Market_Engagement_Event_Slides/image_31.jpg\n"
     ]
    },
    {
     "name": "stderr",
     "output_type": "stream",
     "text": [
      "2025-04-23 11:36:34,686 - httpx - INFO - HTTP Request: POST http://127.0.0.1:11434/api/chat \"HTTP/1.1 200 OK\"\n"
     ]
    },
    {
     "name": "stdout",
     "output_type": "stream",
     "text": [
      "Uploaded image to: s3://psycore-document-images-445644858344/30th_June_Outside_In_Market_Engagement_Event_Slides/image_32.jpg\n"
     ]
    },
    {
     "name": "stderr",
     "output_type": "stream",
     "text": [
      "2025-04-23 11:36:37,552 - httpx - INFO - HTTP Request: POST http://127.0.0.1:11434/api/chat \"HTTP/1.1 200 OK\"\n"
     ]
    },
    {
     "name": "stdout",
     "output_type": "stream",
     "text": [
      "Uploaded image to: s3://psycore-document-images-445644858344/30th_June_Outside_In_Market_Engagement_Event_Slides/image_33.jpg\n"
     ]
    },
    {
     "name": "stderr",
     "output_type": "stream",
     "text": [
      "2025-04-23 11:36:40,879 - httpx - INFO - HTTP Request: POST http://127.0.0.1:11434/api/chat \"HTTP/1.1 200 OK\"\n"
     ]
    },
    {
     "name": "stdout",
     "output_type": "stream",
     "text": [
      "Uploaded image to: s3://psycore-document-images-445644858344/30th_June_Outside_In_Market_Engagement_Event_Slides/image_34.jpg\n"
     ]
    },
    {
     "name": "stderr",
     "output_type": "stream",
     "text": [
      "2025-04-23 11:36:44,038 - httpx - INFO - HTTP Request: POST http://127.0.0.1:11434/api/chat \"HTTP/1.1 200 OK\"\n"
     ]
    },
    {
     "name": "stdout",
     "output_type": "stream",
     "text": [
      "Uploaded image to: s3://psycore-document-images-445644858344/30th_June_Outside_In_Market_Engagement_Event_Slides/image_35.jpg\n"
     ]
    },
    {
     "name": "stderr",
     "output_type": "stream",
     "text": [
      "2025-04-23 11:36:47,734 - httpx - INFO - HTTP Request: POST http://127.0.0.1:11434/api/chat \"HTTP/1.1 200 OK\"\n"
     ]
    },
    {
     "name": "stdout",
     "output_type": "stream",
     "text": [
      "Uploaded image to: s3://psycore-document-images-445644858344/30th_June_Outside_In_Market_Engagement_Event_Slides/image_36.jpg\n"
     ]
    },
    {
     "name": "stderr",
     "output_type": "stream",
     "text": [
      "2025-04-23 11:36:50,787 - httpx - INFO - HTTP Request: POST http://127.0.0.1:11434/api/chat \"HTTP/1.1 200 OK\"\n"
     ]
    },
    {
     "name": "stdout",
     "output_type": "stream",
     "text": [
      "Uploaded image to: s3://psycore-document-images-445644858344/30th_June_Outside_In_Market_Engagement_Event_Slides/image_37.jpg\n"
     ]
    },
    {
     "name": "stderr",
     "output_type": "stream",
     "text": [
      "2025-04-23 11:36:52,182 - httpx - INFO - HTTP Request: POST http://127.0.0.1:11434/api/chat \"HTTP/1.1 200 OK\"\n"
     ]
    },
    {
     "name": "stdout",
     "output_type": "stream",
     "text": [
      "Uploaded image to: s3://psycore-document-images-445644858344/30th_June_Outside_In_Market_Engagement_Event_Slides/image_38.jpg\n"
     ]
    },
    {
     "name": "stderr",
     "output_type": "stream",
     "text": [
      "2025-04-23 11:36:56,053 - httpx - INFO - HTTP Request: POST http://127.0.0.1:11434/api/chat \"HTTP/1.1 200 OK\"\n"
     ]
    },
    {
     "name": "stdout",
     "output_type": "stream",
     "text": [
      "Uploaded image to: s3://psycore-document-images-445644858344/30th_June_Outside_In_Market_Engagement_Event_Slides/image_39.jpg\n"
     ]
    },
    {
     "name": "stderr",
     "output_type": "stream",
     "text": [
      "2025-04-23 11:37:02,658 - httpx - INFO - HTTP Request: POST http://127.0.0.1:11434/api/chat \"HTTP/1.1 200 OK\"\n"
     ]
    },
    {
     "name": "stdout",
     "output_type": "stream",
     "text": [
      "Uploaded image to: s3://psycore-document-images-445644858344/30th_June_Outside_In_Market_Engagement_Event_Slides/image_4.jpg\n"
     ]
    },
    {
     "name": "stderr",
     "output_type": "stream",
     "text": [
      "2025-04-23 11:37:08,139 - httpx - INFO - HTTP Request: POST http://127.0.0.1:11434/api/chat \"HTTP/1.1 200 OK\"\n"
     ]
    },
    {
     "name": "stdout",
     "output_type": "stream",
     "text": [
      "Uploaded image to: s3://psycore-document-images-445644858344/30th_June_Outside_In_Market_Engagement_Event_Slides/image_40.jpg\n"
     ]
    },
    {
     "name": "stderr",
     "output_type": "stream",
     "text": [
      "2025-04-23 11:37:11,796 - httpx - INFO - HTTP Request: POST http://127.0.0.1:11434/api/chat \"HTTP/1.1 200 OK\"\n"
     ]
    },
    {
     "name": "stdout",
     "output_type": "stream",
     "text": [
      "Uploaded image to: s3://psycore-document-images-445644858344/30th_June_Outside_In_Market_Engagement_Event_Slides/image_41.jpg\n"
     ]
    },
    {
     "name": "stderr",
     "output_type": "stream",
     "text": [
      "2025-04-23 11:37:14,020 - httpx - INFO - HTTP Request: POST http://127.0.0.1:11434/api/chat \"HTTP/1.1 200 OK\"\n"
     ]
    },
    {
     "name": "stdout",
     "output_type": "stream",
     "text": [
      "Uploaded image to: s3://psycore-document-images-445644858344/30th_June_Outside_In_Market_Engagement_Event_Slides/image_42.jpg\n"
     ]
    },
    {
     "name": "stderr",
     "output_type": "stream",
     "text": [
      "2025-04-23 11:37:16,570 - httpx - INFO - HTTP Request: POST http://127.0.0.1:11434/api/chat \"HTTP/1.1 200 OK\"\n"
     ]
    },
    {
     "name": "stdout",
     "output_type": "stream",
     "text": [
      "Uploaded image to: s3://psycore-document-images-445644858344/30th_June_Outside_In_Market_Engagement_Event_Slides/image_43.jpg\n"
     ]
    },
    {
     "name": "stderr",
     "output_type": "stream",
     "text": [
      "2025-04-23 11:37:20,638 - httpx - INFO - HTTP Request: POST http://127.0.0.1:11434/api/chat \"HTTP/1.1 200 OK\"\n"
     ]
    },
    {
     "name": "stdout",
     "output_type": "stream",
     "text": [
      "Uploaded image to: s3://psycore-document-images-445644858344/30th_June_Outside_In_Market_Engagement_Event_Slides/image_44.jpg\n"
     ]
    },
    {
     "name": "stderr",
     "output_type": "stream",
     "text": [
      "2025-04-23 11:37:24,626 - httpx - INFO - HTTP Request: POST http://127.0.0.1:11434/api/chat \"HTTP/1.1 200 OK\"\n"
     ]
    },
    {
     "name": "stdout",
     "output_type": "stream",
     "text": [
      "Uploaded image to: s3://psycore-document-images-445644858344/30th_June_Outside_In_Market_Engagement_Event_Slides/image_45.jpg\n"
     ]
    },
    {
     "name": "stderr",
     "output_type": "stream",
     "text": [
      "2025-04-23 11:37:34,178 - httpx - INFO - HTTP Request: POST http://127.0.0.1:11434/api/chat \"HTTP/1.1 200 OK\"\n"
     ]
    },
    {
     "name": "stdout",
     "output_type": "stream",
     "text": [
      "Uploaded image to: s3://psycore-document-images-445644858344/30th_June_Outside_In_Market_Engagement_Event_Slides/image_46.jpg\n"
     ]
    },
    {
     "name": "stderr",
     "output_type": "stream",
     "text": [
      "2025-04-23 11:37:39,646 - httpx - INFO - HTTP Request: POST http://127.0.0.1:11434/api/chat \"HTTP/1.1 200 OK\"\n"
     ]
    },
    {
     "name": "stdout",
     "output_type": "stream",
     "text": [
      "Uploaded image to: s3://psycore-document-images-445644858344/30th_June_Outside_In_Market_Engagement_Event_Slides/image_47.jpg\n"
     ]
    },
    {
     "name": "stderr",
     "output_type": "stream",
     "text": [
      "2025-04-23 11:37:44,944 - httpx - INFO - HTTP Request: POST http://127.0.0.1:11434/api/chat \"HTTP/1.1 200 OK\"\n"
     ]
    },
    {
     "name": "stdout",
     "output_type": "stream",
     "text": [
      "Uploaded image to: s3://psycore-document-images-445644858344/30th_June_Outside_In_Market_Engagement_Event_Slides/image_48.jpg\n"
     ]
    },
    {
     "name": "stderr",
     "output_type": "stream",
     "text": [
      "2025-04-23 13:33:48,242 - httpx - INFO - HTTP Request: POST http://127.0.0.1:11434/api/chat \"HTTP/1.1 200 OK\"\n"
     ]
    },
    {
     "name": "stdout",
     "output_type": "stream",
     "text": [
      "Uploaded image to: s3://psycore-document-images-445644858344/30th_June_Outside_In_Market_Engagement_Event_Slides/image_49.jpg\n"
     ]
    },
    {
     "name": "stderr",
     "output_type": "stream",
     "text": [
      "2025-04-23 13:33:58,170 - httpx - INFO - HTTP Request: POST http://127.0.0.1:11434/api/chat \"HTTP/1.1 200 OK\"\n"
     ]
    },
    {
     "name": "stdout",
     "output_type": "stream",
     "text": [
      "Uploaded image to: s3://psycore-document-images-445644858344/30th_June_Outside_In_Market_Engagement_Event_Slides/image_5.jpg\n"
     ]
    },
    {
     "name": "stderr",
     "output_type": "stream",
     "text": [
      "2025-04-23 13:34:10,255 - httpx - INFO - HTTP Request: POST http://127.0.0.1:11434/api/chat \"HTTP/1.1 200 OK\"\n"
     ]
    },
    {
     "name": "stdout",
     "output_type": "stream",
     "text": [
      "Uploaded image to: s3://psycore-document-images-445644858344/30th_June_Outside_In_Market_Engagement_Event_Slides/image_50.jpg\n"
     ]
    },
    {
     "name": "stderr",
     "output_type": "stream",
     "text": [
      "2025-04-23 13:34:18,486 - httpx - INFO - HTTP Request: POST http://127.0.0.1:11434/api/chat \"HTTP/1.1 200 OK\"\n"
     ]
    },
    {
     "name": "stdout",
     "output_type": "stream",
     "text": [
      "Uploaded image to: s3://psycore-document-images-445644858344/30th_June_Outside_In_Market_Engagement_Event_Slides/image_51.jpg\n"
     ]
    },
    {
     "name": "stderr",
     "output_type": "stream",
     "text": [
      "2025-04-23 13:34:23,342 - httpx - INFO - HTTP Request: POST http://127.0.0.1:11434/api/chat \"HTTP/1.1 200 OK\"\n"
     ]
    },
    {
     "name": "stdout",
     "output_type": "stream",
     "text": [
      "Uploaded image to: s3://psycore-document-images-445644858344/30th_June_Outside_In_Market_Engagement_Event_Slides/image_52.jpg\n"
     ]
    },
    {
     "name": "stderr",
     "output_type": "stream",
     "text": [
      "2025-04-23 13:34:37,893 - httpx - INFO - HTTP Request: POST http://127.0.0.1:11434/api/chat \"HTTP/1.1 200 OK\"\n"
     ]
    },
    {
     "name": "stdout",
     "output_type": "stream",
     "text": [
      "Uploaded image to: s3://psycore-document-images-445644858344/30th_June_Outside_In_Market_Engagement_Event_Slides/image_53.jpg\n"
     ]
    },
    {
     "name": "stderr",
     "output_type": "stream",
     "text": [
      "2025-04-23 13:34:46,935 - httpx - INFO - HTTP Request: POST http://127.0.0.1:11434/api/chat \"HTTP/1.1 200 OK\"\n"
     ]
    },
    {
     "name": "stdout",
     "output_type": "stream",
     "text": [
      "Uploaded image to: s3://psycore-document-images-445644858344/30th_June_Outside_In_Market_Engagement_Event_Slides/image_54.jpg\n"
     ]
    },
    {
     "name": "stderr",
     "output_type": "stream",
     "text": [
      "2025-04-23 13:34:50,821 - httpx - INFO - HTTP Request: POST http://127.0.0.1:11434/api/chat \"HTTP/1.1 200 OK\"\n"
     ]
    },
    {
     "name": "stdout",
     "output_type": "stream",
     "text": [
      "Uploaded image to: s3://psycore-document-images-445644858344/30th_June_Outside_In_Market_Engagement_Event_Slides/image_55.jpg\n"
     ]
    },
    {
     "name": "stderr",
     "output_type": "stream",
     "text": [
      "2025-04-23 13:34:54,313 - httpx - INFO - HTTP Request: POST http://127.0.0.1:11434/api/chat \"HTTP/1.1 200 OK\"\n"
     ]
    },
    {
     "name": "stdout",
     "output_type": "stream",
     "text": [
      "Uploaded image to: s3://psycore-document-images-445644858344/30th_June_Outside_In_Market_Engagement_Event_Slides/image_56.jpg\n"
     ]
    },
    {
     "name": "stderr",
     "output_type": "stream",
     "text": [
      "2025-04-23 13:34:57,011 - httpx - INFO - HTTP Request: POST http://127.0.0.1:11434/api/chat \"HTTP/1.1 200 OK\"\n"
     ]
    },
    {
     "name": "stdout",
     "output_type": "stream",
     "text": [
      "Uploaded image to: s3://psycore-document-images-445644858344/30th_June_Outside_In_Market_Engagement_Event_Slides/image_57.jpg\n"
     ]
    },
    {
     "name": "stderr",
     "output_type": "stream",
     "text": [
      "2025-04-23 13:34:59,178 - httpx - INFO - HTTP Request: POST http://127.0.0.1:11434/api/chat \"HTTP/1.1 200 OK\"\n"
     ]
    },
    {
     "name": "stdout",
     "output_type": "stream",
     "text": [
      "Uploaded image to: s3://psycore-document-images-445644858344/30th_June_Outside_In_Market_Engagement_Event_Slides/image_58.jpg\n"
     ]
    },
    {
     "name": "stderr",
     "output_type": "stream",
     "text": [
      "2025-04-23 13:35:02,172 - httpx - INFO - HTTP Request: POST http://127.0.0.1:11434/api/chat \"HTTP/1.1 200 OK\"\n"
     ]
    },
    {
     "name": "stdout",
     "output_type": "stream",
     "text": [
      "Uploaded image to: s3://psycore-document-images-445644858344/30th_June_Outside_In_Market_Engagement_Event_Slides/image_59.jpg\n"
     ]
    },
    {
     "name": "stderr",
     "output_type": "stream",
     "text": [
      "2025-04-23 13:35:06,798 - httpx - INFO - HTTP Request: POST http://127.0.0.1:11434/api/chat \"HTTP/1.1 200 OK\"\n"
     ]
    },
    {
     "name": "stdout",
     "output_type": "stream",
     "text": [
      "Uploaded image to: s3://psycore-document-images-445644858344/30th_June_Outside_In_Market_Engagement_Event_Slides/image_6.jpg\n"
     ]
    },
    {
     "name": "stderr",
     "output_type": "stream",
     "text": [
      "2025-04-23 13:35:11,404 - httpx - INFO - HTTP Request: POST http://127.0.0.1:11434/api/chat \"HTTP/1.1 200 OK\"\n"
     ]
    },
    {
     "name": "stdout",
     "output_type": "stream",
     "text": [
      "Uploaded image to: s3://psycore-document-images-445644858344/30th_June_Outside_In_Market_Engagement_Event_Slides/image_60.jpg\n"
     ]
    },
    {
     "name": "stderr",
     "output_type": "stream",
     "text": [
      "2025-04-23 13:35:17,595 - httpx - INFO - HTTP Request: POST http://127.0.0.1:11434/api/chat \"HTTP/1.1 200 OK\"\n"
     ]
    },
    {
     "name": "stdout",
     "output_type": "stream",
     "text": [
      "Uploaded image to: s3://psycore-document-images-445644858344/30th_June_Outside_In_Market_Engagement_Event_Slides/image_61.jpg\n"
     ]
    },
    {
     "name": "stderr",
     "output_type": "stream",
     "text": [
      "2025-04-23 13:35:20,764 - httpx - INFO - HTTP Request: POST http://127.0.0.1:11434/api/chat \"HTTP/1.1 200 OK\"\n"
     ]
    },
    {
     "name": "stdout",
     "output_type": "stream",
     "text": [
      "Uploaded image to: s3://psycore-document-images-445644858344/30th_June_Outside_In_Market_Engagement_Event_Slides/image_62.jpg\n"
     ]
    },
    {
     "name": "stderr",
     "output_type": "stream",
     "text": [
      "2025-04-23 13:35:26,329 - httpx - INFO - HTTP Request: POST http://127.0.0.1:11434/api/chat \"HTTP/1.1 200 OK\"\n"
     ]
    },
    {
     "name": "stdout",
     "output_type": "stream",
     "text": [
      "Uploaded image to: s3://psycore-document-images-445644858344/30th_June_Outside_In_Market_Engagement_Event_Slides/image_63.jpg\n"
     ]
    },
    {
     "name": "stderr",
     "output_type": "stream",
     "text": [
      "2025-04-23 13:35:32,151 - httpx - INFO - HTTP Request: POST http://127.0.0.1:11434/api/chat \"HTTP/1.1 200 OK\"\n"
     ]
    },
    {
     "name": "stdout",
     "output_type": "stream",
     "text": [
      "Uploaded image to: s3://psycore-document-images-445644858344/30th_June_Outside_In_Market_Engagement_Event_Slides/image_64.jpg\n"
     ]
    },
    {
     "name": "stderr",
     "output_type": "stream",
     "text": [
      "2025-04-23 13:35:37,441 - httpx - INFO - HTTP Request: POST http://127.0.0.1:11434/api/chat \"HTTP/1.1 200 OK\"\n"
     ]
    },
    {
     "name": "stdout",
     "output_type": "stream",
     "text": [
      "Uploaded image to: s3://psycore-document-images-445644858344/30th_June_Outside_In_Market_Engagement_Event_Slides/image_65.jpg\n"
     ]
    },
    {
     "name": "stderr",
     "output_type": "stream",
     "text": [
      "2025-04-23 13:35:40,606 - httpx - INFO - HTTP Request: POST http://127.0.0.1:11434/api/chat \"HTTP/1.1 200 OK\"\n"
     ]
    },
    {
     "name": "stdout",
     "output_type": "stream",
     "text": [
      "Uploaded image to: s3://psycore-document-images-445644858344/30th_June_Outside_In_Market_Engagement_Event_Slides/image_66.jpg\n"
     ]
    },
    {
     "name": "stderr",
     "output_type": "stream",
     "text": [
      "2025-04-23 13:35:45,260 - httpx - INFO - HTTP Request: POST http://127.0.0.1:11434/api/chat \"HTTP/1.1 200 OK\"\n"
     ]
    },
    {
     "name": "stdout",
     "output_type": "stream",
     "text": [
      "Uploaded image to: s3://psycore-document-images-445644858344/30th_June_Outside_In_Market_Engagement_Event_Slides/image_67.jpg\n"
     ]
    },
    {
     "name": "stderr",
     "output_type": "stream",
     "text": [
      "2025-04-23 13:35:47,261 - httpx - INFO - HTTP Request: POST http://127.0.0.1:11434/api/chat \"HTTP/1.1 200 OK\"\n"
     ]
    },
    {
     "name": "stdout",
     "output_type": "stream",
     "text": [
      "Uploaded image to: s3://psycore-document-images-445644858344/30th_June_Outside_In_Market_Engagement_Event_Slides/image_68.jpg\n"
     ]
    },
    {
     "name": "stderr",
     "output_type": "stream",
     "text": [
      "2025-04-23 13:35:53,729 - httpx - INFO - HTTP Request: POST http://127.0.0.1:11434/api/chat \"HTTP/1.1 200 OK\"\n"
     ]
    },
    {
     "name": "stdout",
     "output_type": "stream",
     "text": [
      "Uploaded image to: s3://psycore-document-images-445644858344/30th_June_Outside_In_Market_Engagement_Event_Slides/image_69.jpg\n"
     ]
    },
    {
     "name": "stderr",
     "output_type": "stream",
     "text": [
      "2025-04-23 13:36:01,199 - httpx - INFO - HTTP Request: POST http://127.0.0.1:11434/api/chat \"HTTP/1.1 200 OK\"\n"
     ]
    },
    {
     "name": "stdout",
     "output_type": "stream",
     "text": [
      "Uploaded image to: s3://psycore-document-images-445644858344/30th_June_Outside_In_Market_Engagement_Event_Slides/image_7.jpg\n"
     ]
    },
    {
     "name": "stderr",
     "output_type": "stream",
     "text": [
      "2025-04-23 13:36:06,743 - httpx - INFO - HTTP Request: POST http://127.0.0.1:11434/api/chat \"HTTP/1.1 200 OK\"\n"
     ]
    },
    {
     "name": "stdout",
     "output_type": "stream",
     "text": [
      "Uploaded image to: s3://psycore-document-images-445644858344/30th_June_Outside_In_Market_Engagement_Event_Slides/image_70.jpg\n"
     ]
    },
    {
     "name": "stderr",
     "output_type": "stream",
     "text": [
      "2025-04-23 13:36:13,362 - httpx - INFO - HTTP Request: POST http://127.0.0.1:11434/api/chat \"HTTP/1.1 200 OK\"\n"
     ]
    },
    {
     "name": "stdout",
     "output_type": "stream",
     "text": [
      "Uploaded image to: s3://psycore-document-images-445644858344/30th_June_Outside_In_Market_Engagement_Event_Slides/image_71.jpg\n"
     ]
    },
    {
     "name": "stderr",
     "output_type": "stream",
     "text": [
      "2025-04-23 13:36:17,843 - httpx - INFO - HTTP Request: POST http://127.0.0.1:11434/api/chat \"HTTP/1.1 200 OK\"\n"
     ]
    },
    {
     "name": "stdout",
     "output_type": "stream",
     "text": [
      "Uploaded image to: s3://psycore-document-images-445644858344/30th_June_Outside_In_Market_Engagement_Event_Slides/image_72.jpg\n"
     ]
    },
    {
     "name": "stderr",
     "output_type": "stream",
     "text": [
      "2025-04-23 13:36:22,109 - httpx - INFO - HTTP Request: POST http://127.0.0.1:11434/api/chat \"HTTP/1.1 200 OK\"\n"
     ]
    },
    {
     "name": "stdout",
     "output_type": "stream",
     "text": [
      "Uploaded image to: s3://psycore-document-images-445644858344/30th_June_Outside_In_Market_Engagement_Event_Slides/image_73.jpg\n"
     ]
    },
    {
     "name": "stderr",
     "output_type": "stream",
     "text": [
      "2025-04-23 13:36:30,567 - httpx - INFO - HTTP Request: POST http://127.0.0.1:11434/api/chat \"HTTP/1.1 200 OK\"\n"
     ]
    },
    {
     "name": "stdout",
     "output_type": "stream",
     "text": [
      "Uploaded image to: s3://psycore-document-images-445644858344/30th_June_Outside_In_Market_Engagement_Event_Slides/image_74.jpg\n"
     ]
    },
    {
     "name": "stderr",
     "output_type": "stream",
     "text": [
      "2025-04-23 13:36:33,440 - httpx - INFO - HTTP Request: POST http://127.0.0.1:11434/api/chat \"HTTP/1.1 200 OK\"\n"
     ]
    },
    {
     "name": "stdout",
     "output_type": "stream",
     "text": [
      "Uploaded image to: s3://psycore-document-images-445644858344/30th_June_Outside_In_Market_Engagement_Event_Slides/image_75.jpg\n"
     ]
    },
    {
     "name": "stderr",
     "output_type": "stream",
     "text": [
      "2025-04-23 13:36:39,360 - httpx - INFO - HTTP Request: POST http://127.0.0.1:11434/api/chat \"HTTP/1.1 200 OK\"\n"
     ]
    },
    {
     "name": "stdout",
     "output_type": "stream",
     "text": [
      "Uploaded image to: s3://psycore-document-images-445644858344/30th_June_Outside_In_Market_Engagement_Event_Slides/image_76.jpg\n"
     ]
    },
    {
     "name": "stderr",
     "output_type": "stream",
     "text": [
      "2025-04-23 13:36:45,613 - httpx - INFO - HTTP Request: POST http://127.0.0.1:11434/api/chat \"HTTP/1.1 200 OK\"\n"
     ]
    },
    {
     "name": "stdout",
     "output_type": "stream",
     "text": [
      "Uploaded image to: s3://psycore-document-images-445644858344/30th_June_Outside_In_Market_Engagement_Event_Slides/image_77.jpg\n"
     ]
    },
    {
     "name": "stderr",
     "output_type": "stream",
     "text": [
      "2025-04-23 13:36:53,247 - httpx - INFO - HTTP Request: POST http://127.0.0.1:11434/api/chat \"HTTP/1.1 200 OK\"\n"
     ]
    },
    {
     "name": "stdout",
     "output_type": "stream",
     "text": [
      "Uploaded image to: s3://psycore-document-images-445644858344/30th_June_Outside_In_Market_Engagement_Event_Slides/image_8.jpg\n"
     ]
    },
    {
     "name": "stderr",
     "output_type": "stream",
     "text": [
      "2025-04-23 13:37:00,405 - httpx - INFO - HTTP Request: POST http://127.0.0.1:11434/api/chat \"HTTP/1.1 200 OK\"\n"
     ]
    },
    {
     "name": "stdout",
     "output_type": "stream",
     "text": [
      "Uploaded image to: s3://psycore-document-images-445644858344/30th_June_Outside_In_Market_Engagement_Event_Slides/image_9.jpg\n"
     ]
    },
    {
     "name": "stderr",
     "output_type": "stream",
     "text": [
      "2025-04-23 13:37:08,080 - httpx - INFO - HTTP Request: POST http://127.0.0.1:11434/api/chat \"HTTP/1.1 200 OK\"\n",
      "Some weights of the model checkpoint at dbmdz/bert-large-cased-finetuned-conll03-english were not used when initializing BertForTokenClassification: ['bert.pooler.dense.bias', 'bert.pooler.dense.weight']\n",
      "- This IS expected if you are initializing BertForTokenClassification from the checkpoint of a model trained on another task or with another architecture (e.g. initializing a BertForSequenceClassification model from a BertForPreTraining model).\n",
      "- This IS NOT expected if you are initializing BertForTokenClassification from the checkpoint of a model that you expect to be exactly identical (initializing a BertForSequenceClassification model from a BertForSequenceClassification model).\n",
      "Device set to use cpu\n"
     ]
    },
    {
     "name": "stdout",
     "output_type": "stream",
     "text": [
      "Uploaded knowledge graph to: s3://psycore-document-graphs-445644858344/30th_June_Outside_In_Market_Engagement_Event_Slides/knowledge_graph.json\n",
      "✓ Successfully processed 30th_June_Outside_In_Market_Engagement_Event_Slides.pdf\n",
      "  - 77 images uploaded to psycore-document-images-445644858344\n",
      "\n",
      "Processing PDF 20/75: 3rd_February_Market_Engagement_Presentation_-_DCP.pptx.pdf\n",
      "\n",
      "Processing completed in 0.34 seconds\n",
      "Success: True\n",
      "Extracted text: Yes\n",
      "Images extracted: 14\n",
      "Results saved to: c:\\Users\\Student\\Documents\\University\\Fifth Year\\COM4520\\Psycore\\jupyter_testing\\processed_pdfs\\3rd_February_Market_Engagement_Presentation_-_DCP_pptx_pdf\n",
      "Uploaded image to: s3://psycore-document-images-445644858344/3rd_February_Market_Engagement_Presentation_-_DCP.pptx/image_1.jpg\n"
     ]
    },
    {
     "name": "stderr",
     "output_type": "stream",
     "text": [
      "2025-04-23 13:38:19,982 - httpx - INFO - HTTP Request: POST http://127.0.0.1:11434/api/chat \"HTTP/1.1 200 OK\"\n"
     ]
    },
    {
     "name": "stdout",
     "output_type": "stream",
     "text": [
      "Uploaded image to: s3://psycore-document-images-445644858344/3rd_February_Market_Engagement_Presentation_-_DCP.pptx/image_10.jpg\n"
     ]
    },
    {
     "name": "stderr",
     "output_type": "stream",
     "text": [
      "2025-04-23 13:38:25,350 - httpx - INFO - HTTP Request: POST http://127.0.0.1:11434/api/chat \"HTTP/1.1 200 OK\"\n"
     ]
    },
    {
     "name": "stdout",
     "output_type": "stream",
     "text": [
      "Uploaded image to: s3://psycore-document-images-445644858344/3rd_February_Market_Engagement_Presentation_-_DCP.pptx/image_11.jpg\n"
     ]
    },
    {
     "name": "stderr",
     "output_type": "stream",
     "text": [
      "2025-04-23 13:38:33,082 - httpx - INFO - HTTP Request: POST http://127.0.0.1:11434/api/chat \"HTTP/1.1 200 OK\"\n"
     ]
    },
    {
     "name": "stdout",
     "output_type": "stream",
     "text": [
      "Uploaded image to: s3://psycore-document-images-445644858344/3rd_February_Market_Engagement_Presentation_-_DCP.pptx/image_12.jpg\n"
     ]
    },
    {
     "name": "stderr",
     "output_type": "stream",
     "text": [
      "2025-04-23 13:38:42,443 - httpx - INFO - HTTP Request: POST http://127.0.0.1:11434/api/chat \"HTTP/1.1 200 OK\"\n"
     ]
    },
    {
     "name": "stdout",
     "output_type": "stream",
     "text": [
      "Uploaded image to: s3://psycore-document-images-445644858344/3rd_February_Market_Engagement_Presentation_-_DCP.pptx/image_13.jpg\n"
     ]
    },
    {
     "name": "stderr",
     "output_type": "stream",
     "text": [
      "2025-04-23 13:38:48,296 - httpx - INFO - HTTP Request: POST http://127.0.0.1:11434/api/chat \"HTTP/1.1 200 OK\"\n"
     ]
    },
    {
     "name": "stdout",
     "output_type": "stream",
     "text": [
      "Uploaded image to: s3://psycore-document-images-445644858344/3rd_February_Market_Engagement_Presentation_-_DCP.pptx/image_14.jpg\n"
     ]
    },
    {
     "name": "stderr",
     "output_type": "stream",
     "text": [
      "2025-04-23 13:38:56,346 - httpx - INFO - HTTP Request: POST http://127.0.0.1:11434/api/chat \"HTTP/1.1 200 OK\"\n"
     ]
    },
    {
     "name": "stdout",
     "output_type": "stream",
     "text": [
      "Uploaded image to: s3://psycore-document-images-445644858344/3rd_February_Market_Engagement_Presentation_-_DCP.pptx/image_2.jpg\n"
     ]
    },
    {
     "name": "stderr",
     "output_type": "stream",
     "text": [
      "2025-04-23 13:39:00,422 - httpx - INFO - HTTP Request: POST http://127.0.0.1:11434/api/chat \"HTTP/1.1 200 OK\"\n"
     ]
    },
    {
     "name": "stdout",
     "output_type": "stream",
     "text": [
      "Uploaded image to: s3://psycore-document-images-445644858344/3rd_February_Market_Engagement_Presentation_-_DCP.pptx/image_3.jpg\n"
     ]
    },
    {
     "name": "stderr",
     "output_type": "stream",
     "text": [
      "2025-04-23 13:39:05,384 - httpx - INFO - HTTP Request: POST http://127.0.0.1:11434/api/chat \"HTTP/1.1 200 OK\"\n"
     ]
    },
    {
     "name": "stdout",
     "output_type": "stream",
     "text": [
      "Uploaded image to: s3://psycore-document-images-445644858344/3rd_February_Market_Engagement_Presentation_-_DCP.pptx/image_4.jpg\n"
     ]
    },
    {
     "name": "stderr",
     "output_type": "stream",
     "text": [
      "2025-04-23 13:39:09,191 - httpx - INFO - HTTP Request: POST http://127.0.0.1:11434/api/chat \"HTTP/1.1 200 OK\"\n"
     ]
    },
    {
     "name": "stdout",
     "output_type": "stream",
     "text": [
      "Uploaded image to: s3://psycore-document-images-445644858344/3rd_February_Market_Engagement_Presentation_-_DCP.pptx/image_5.jpg\n"
     ]
    },
    {
     "name": "stderr",
     "output_type": "stream",
     "text": [
      "2025-04-23 13:39:14,349 - httpx - INFO - HTTP Request: POST http://127.0.0.1:11434/api/chat \"HTTP/1.1 200 OK\"\n"
     ]
    },
    {
     "name": "stdout",
     "output_type": "stream",
     "text": [
      "Uploaded image to: s3://psycore-document-images-445644858344/3rd_February_Market_Engagement_Presentation_-_DCP.pptx/image_6.jpg\n"
     ]
    },
    {
     "name": "stderr",
     "output_type": "stream",
     "text": [
      "2025-04-23 13:39:19,514 - httpx - INFO - HTTP Request: POST http://127.0.0.1:11434/api/chat \"HTTP/1.1 200 OK\"\n"
     ]
    },
    {
     "name": "stdout",
     "output_type": "stream",
     "text": [
      "Uploaded image to: s3://psycore-document-images-445644858344/3rd_February_Market_Engagement_Presentation_-_DCP.pptx/image_7.jpg\n"
     ]
    },
    {
     "name": "stderr",
     "output_type": "stream",
     "text": [
      "2025-04-23 13:39:26,539 - httpx - INFO - HTTP Request: POST http://127.0.0.1:11434/api/chat \"HTTP/1.1 200 OK\"\n"
     ]
    },
    {
     "name": "stdout",
     "output_type": "stream",
     "text": [
      "Uploaded image to: s3://psycore-document-images-445644858344/3rd_February_Market_Engagement_Presentation_-_DCP.pptx/image_8.jpg\n"
     ]
    },
    {
     "name": "stderr",
     "output_type": "stream",
     "text": [
      "2025-04-23 13:39:32,171 - httpx - INFO - HTTP Request: POST http://127.0.0.1:11434/api/chat \"HTTP/1.1 200 OK\"\n"
     ]
    },
    {
     "name": "stdout",
     "output_type": "stream",
     "text": [
      "Uploaded image to: s3://psycore-document-images-445644858344/3rd_February_Market_Engagement_Presentation_-_DCP.pptx/image_9.jpg\n"
     ]
    },
    {
     "name": "stderr",
     "output_type": "stream",
     "text": [
      "2025-04-23 13:39:36,511 - httpx - INFO - HTTP Request: POST http://127.0.0.1:11434/api/chat \"HTTP/1.1 200 OK\"\n",
      "Some weights of the model checkpoint at dbmdz/bert-large-cased-finetuned-conll03-english were not used when initializing BertForTokenClassification: ['bert.pooler.dense.bias', 'bert.pooler.dense.weight']\n",
      "- This IS expected if you are initializing BertForTokenClassification from the checkpoint of a model trained on another task or with another architecture (e.g. initializing a BertForSequenceClassification model from a BertForPreTraining model).\n",
      "- This IS NOT expected if you are initializing BertForTokenClassification from the checkpoint of a model that you expect to be exactly identical (initializing a BertForSequenceClassification model from a BertForSequenceClassification model).\n",
      "Device set to use cpu\n"
     ]
    },
    {
     "name": "stdout",
     "output_type": "stream",
     "text": [
      "Uploaded knowledge graph to: s3://psycore-document-graphs-445644858344/3rd_February_Market_Engagement_Presentation_-_DCP.pptx/knowledge_graph.json\n",
      "✓ Successfully processed 3rd_February_Market_Engagement_Presentation_-_DCP.pptx.pdf\n",
      "  - 14 images uploaded to psycore-document-images-445644858344\n",
      "\n",
      "Processing PDF 21/75: 5%2053%20Cllr%20guide%20to%20digital%20connectivity_WEB_FINAL.pdf\n",
      "\n",
      "Processing completed in 0.18 seconds\n",
      "Success: True\n",
      "Extracted text: Yes\n",
      "Images extracted: 2\n",
      "Results saved to: c:\\Users\\Student\\Documents\\University\\Fifth Year\\COM4520\\Psycore\\jupyter_testing\\processed_pdfs\\5%2053%20Cllr%20guide%20to%20digital%20connectivity_WEB_FINAL_pdf\n",
      "Uploaded image to: s3://psycore-document-images-445644858344/5%2053%20Cllr%20guide%20to%20digital%20connectivity_WEB_FINAL/image_1.jpg\n"
     ]
    },
    {
     "name": "stderr",
     "output_type": "stream",
     "text": [
      "2025-04-23 13:40:07,800 - httpx - INFO - HTTP Request: POST http://127.0.0.1:11434/api/chat \"HTTP/1.1 200 OK\"\n"
     ]
    },
    {
     "name": "stdout",
     "output_type": "stream",
     "text": [
      "Uploaded image to: s3://psycore-document-images-445644858344/5%2053%20Cllr%20guide%20to%20digital%20connectivity_WEB_FINAL/image_2.jpg\n"
     ]
    },
    {
     "name": "stderr",
     "output_type": "stream",
     "text": [
      "2025-04-23 13:40:15,079 - httpx - INFO - HTTP Request: POST http://127.0.0.1:11434/api/chat \"HTTP/1.1 200 OK\"\n",
      "Some weights of the model checkpoint at dbmdz/bert-large-cased-finetuned-conll03-english were not used when initializing BertForTokenClassification: ['bert.pooler.dense.bias', 'bert.pooler.dense.weight']\n",
      "- This IS expected if you are initializing BertForTokenClassification from the checkpoint of a model trained on another task or with another architecture (e.g. initializing a BertForSequenceClassification model from a BertForPreTraining model).\n",
      "- This IS NOT expected if you are initializing BertForTokenClassification from the checkpoint of a model that you expect to be exactly identical (initializing a BertForSequenceClassification model from a BertForSequenceClassification model).\n",
      "Device set to use cpu\n"
     ]
    },
    {
     "name": "stdout",
     "output_type": "stream",
     "text": [
      "Uploaded knowledge graph to: s3://psycore-document-graphs-445644858344/5%2053%20Cllr%20guide%20to%20digital%20connectivity_WEB_FINAL/knowledge_graph.json\n",
      "✓ Successfully processed 5%2053%20Cllr%20guide%20to%20digital%20connectivity_WEB_FINAL.pdf\n",
      "  - 2 images uploaded to psycore-document-images-445644858344\n",
      "\n",
      "Processing PDF 22/75: Amended_Annex_C_-_Document_for_gov.uk.pdf\n",
      "\n",
      "Processing completed in 0.03 seconds\n",
      "Success: True\n",
      "Extracted text: Yes\n",
      "Images extracted: 1\n",
      "Results saved to: c:\\Users\\Student\\Documents\\University\\Fifth Year\\COM4520\\Psycore\\jupyter_testing\\processed_pdfs\\Amended_Annex_C_-_Document_for_gov_uk_pdf\n",
      "Uploaded image to: s3://psycore-document-images-445644858344/Amended_Annex_C_-_Document_for_gov.uk/image_1.jpg\n"
     ]
    },
    {
     "name": "stderr",
     "output_type": "stream",
     "text": [
      "2025-04-23 13:41:14,349 - httpx - INFO - HTTP Request: POST http://127.0.0.1:11434/api/chat \"HTTP/1.1 200 OK\"\n",
      "Some weights of the model checkpoint at dbmdz/bert-large-cased-finetuned-conll03-english were not used when initializing BertForTokenClassification: ['bert.pooler.dense.bias', 'bert.pooler.dense.weight']\n",
      "- This IS expected if you are initializing BertForTokenClassification from the checkpoint of a model trained on another task or with another architecture (e.g. initializing a BertForSequenceClassification model from a BertForPreTraining model).\n",
      "- This IS NOT expected if you are initializing BertForTokenClassification from the checkpoint of a model that you expect to be exactly identical (initializing a BertForSequenceClassification model from a BertForSequenceClassification model).\n",
      "Device set to use cpu\n"
     ]
    },
    {
     "name": "stdout",
     "output_type": "stream",
     "text": [
      "Uploaded knowledge graph to: s3://psycore-document-graphs-445644858344/Amended_Annex_C_-_Document_for_gov.uk/knowledge_graph.json\n",
      "✓ Successfully processed Amended_Annex_C_-_Document_for_gov.uk.pdf\n",
      "  - 1 images uploaded to psycore-document-images-445644858344\n",
      "\n",
      "Processing PDF 23/75: BDUK_Annual_Reports-Accounts_2024_-_Certified_copy.pdf\n",
      "\n",
      "Processing completed in 43.59 seconds\n",
      "Success: True\n",
      "Extracted text: Yes\n",
      "Images extracted: 39\n",
      "Results saved to: c:\\Users\\Student\\Documents\\University\\Fifth Year\\COM4520\\Psycore\\jupyter_testing\\processed_pdfs\\BDUK_Annual_Reports-Accounts_2024_-_Certified_copy_pdf\n",
      "Uploaded image to: s3://psycore-document-images-445644858344/BDUK_Annual_Reports-Accounts_2024_-_Certified_copy/image_1.jpg\n"
     ]
    },
    {
     "name": "stderr",
     "output_type": "stream",
     "text": [
      "2025-04-23 13:42:09,404 - httpx - INFO - HTTP Request: POST http://127.0.0.1:11434/api/chat \"HTTP/1.1 200 OK\"\n"
     ]
    },
    {
     "name": "stdout",
     "output_type": "stream",
     "text": [
      "Uploaded image to: s3://psycore-document-images-445644858344/BDUK_Annual_Reports-Accounts_2024_-_Certified_copy/image_10.jpg\n"
     ]
    },
    {
     "name": "stderr",
     "output_type": "stream",
     "text": [
      "2025-04-23 13:42:15,324 - httpx - INFO - HTTP Request: POST http://127.0.0.1:11434/api/chat \"HTTP/1.1 200 OK\"\n"
     ]
    },
    {
     "name": "stdout",
     "output_type": "stream",
     "text": [
      "Uploaded image to: s3://psycore-document-images-445644858344/BDUK_Annual_Reports-Accounts_2024_-_Certified_copy/image_11.jpg\n"
     ]
    },
    {
     "name": "stderr",
     "output_type": "stream",
     "text": [
      "2025-04-23 13:42:19,605 - httpx - INFO - HTTP Request: POST http://127.0.0.1:11434/api/chat \"HTTP/1.1 200 OK\"\n"
     ]
    },
    {
     "name": "stdout",
     "output_type": "stream",
     "text": [
      "Uploaded image to: s3://psycore-document-images-445644858344/BDUK_Annual_Reports-Accounts_2024_-_Certified_copy/image_12.jpg\n"
     ]
    },
    {
     "name": "stderr",
     "output_type": "stream",
     "text": [
      "2025-04-23 13:42:25,541 - httpx - INFO - HTTP Request: POST http://127.0.0.1:11434/api/chat \"HTTP/1.1 200 OK\"\n"
     ]
    },
    {
     "name": "stdout",
     "output_type": "stream",
     "text": [
      "Uploaded image to: s3://psycore-document-images-445644858344/BDUK_Annual_Reports-Accounts_2024_-_Certified_copy/image_13.jpg\n"
     ]
    },
    {
     "name": "stderr",
     "output_type": "stream",
     "text": [
      "2025-04-23 13:42:30,621 - httpx - INFO - HTTP Request: POST http://127.0.0.1:11434/api/chat \"HTTP/1.1 200 OK\"\n"
     ]
    },
    {
     "name": "stdout",
     "output_type": "stream",
     "text": [
      "Uploaded image to: s3://psycore-document-images-445644858344/BDUK_Annual_Reports-Accounts_2024_-_Certified_copy/image_14.jpg\n"
     ]
    },
    {
     "name": "stderr",
     "output_type": "stream",
     "text": [
      "2025-04-23 13:42:34,383 - httpx - INFO - HTTP Request: POST http://127.0.0.1:11434/api/chat \"HTTP/1.1 200 OK\"\n"
     ]
    },
    {
     "name": "stdout",
     "output_type": "stream",
     "text": [
      "Uploaded image to: s3://psycore-document-images-445644858344/BDUK_Annual_Reports-Accounts_2024_-_Certified_copy/image_15.jpg\n"
     ]
    },
    {
     "name": "stderr",
     "output_type": "stream",
     "text": [
      "2025-04-23 13:42:40,339 - httpx - INFO - HTTP Request: POST http://127.0.0.1:11434/api/chat \"HTTP/1.1 200 OK\"\n"
     ]
    },
    {
     "name": "stdout",
     "output_type": "stream",
     "text": [
      "Uploaded image to: s3://psycore-document-images-445644858344/BDUK_Annual_Reports-Accounts_2024_-_Certified_copy/image_16.jpg\n"
     ]
    },
    {
     "name": "stderr",
     "output_type": "stream",
     "text": [
      "2025-04-23 13:42:45,218 - httpx - INFO - HTTP Request: POST http://127.0.0.1:11434/api/chat \"HTTP/1.1 200 OK\"\n"
     ]
    },
    {
     "name": "stdout",
     "output_type": "stream",
     "text": [
      "Uploaded image to: s3://psycore-document-images-445644858344/BDUK_Annual_Reports-Accounts_2024_-_Certified_copy/image_17.jpg\n"
     ]
    },
    {
     "name": "stderr",
     "output_type": "stream",
     "text": [
      "2025-04-23 13:42:58,071 - httpx - INFO - HTTP Request: POST http://127.0.0.1:11434/api/chat \"HTTP/1.1 200 OK\"\n"
     ]
    },
    {
     "name": "stdout",
     "output_type": "stream",
     "text": [
      "Uploaded image to: s3://psycore-document-images-445644858344/BDUK_Annual_Reports-Accounts_2024_-_Certified_copy/image_18.jpg\n"
     ]
    },
    {
     "name": "stderr",
     "output_type": "stream",
     "text": [
      "2025-04-23 13:43:02,920 - httpx - INFO - HTTP Request: POST http://127.0.0.1:11434/api/chat \"HTTP/1.1 200 OK\"\n"
     ]
    },
    {
     "name": "stdout",
     "output_type": "stream",
     "text": [
      "Uploaded image to: s3://psycore-document-images-445644858344/BDUK_Annual_Reports-Accounts_2024_-_Certified_copy/image_19.jpg\n"
     ]
    },
    {
     "name": "stderr",
     "output_type": "stream",
     "text": [
      "2025-04-23 13:43:07,727 - httpx - INFO - HTTP Request: POST http://127.0.0.1:11434/api/chat \"HTTP/1.1 200 OK\"\n"
     ]
    },
    {
     "name": "stdout",
     "output_type": "stream",
     "text": [
      "Uploaded image to: s3://psycore-document-images-445644858344/BDUK_Annual_Reports-Accounts_2024_-_Certified_copy/image_2.jpg\n"
     ]
    },
    {
     "name": "stderr",
     "output_type": "stream",
     "text": [
      "2025-04-23 13:43:19,450 - httpx - INFO - HTTP Request: POST http://127.0.0.1:11434/api/chat \"HTTP/1.1 200 OK\"\n"
     ]
    },
    {
     "name": "stdout",
     "output_type": "stream",
     "text": [
      "Uploaded image to: s3://psycore-document-images-445644858344/BDUK_Annual_Reports-Accounts_2024_-_Certified_copy/image_20.jpg\n"
     ]
    },
    {
     "name": "stderr",
     "output_type": "stream",
     "text": [
      "2025-04-23 13:43:24,765 - httpx - INFO - HTTP Request: POST http://127.0.0.1:11434/api/chat \"HTTP/1.1 200 OK\"\n"
     ]
    },
    {
     "name": "stdout",
     "output_type": "stream",
     "text": [
      "Uploaded image to: s3://psycore-document-images-445644858344/BDUK_Annual_Reports-Accounts_2024_-_Certified_copy/image_21.jpg\n"
     ]
    },
    {
     "name": "stderr",
     "output_type": "stream",
     "text": [
      "2025-04-23 13:43:29,773 - httpx - INFO - HTTP Request: POST http://127.0.0.1:11434/api/chat \"HTTP/1.1 200 OK\"\n"
     ]
    },
    {
     "name": "stdout",
     "output_type": "stream",
     "text": [
      "Uploaded image to: s3://psycore-document-images-445644858344/BDUK_Annual_Reports-Accounts_2024_-_Certified_copy/image_22.jpg\n"
     ]
    },
    {
     "name": "stderr",
     "output_type": "stream",
     "text": [
      "2025-04-23 13:43:34,997 - httpx - INFO - HTTP Request: POST http://127.0.0.1:11434/api/chat \"HTTP/1.1 200 OK\"\n"
     ]
    },
    {
     "name": "stdout",
     "output_type": "stream",
     "text": [
      "Uploaded image to: s3://psycore-document-images-445644858344/BDUK_Annual_Reports-Accounts_2024_-_Certified_copy/image_23.jpg\n"
     ]
    },
    {
     "name": "stderr",
     "output_type": "stream",
     "text": [
      "2025-04-23 13:43:42,894 - httpx - INFO - HTTP Request: POST http://127.0.0.1:11434/api/chat \"HTTP/1.1 200 OK\"\n"
     ]
    },
    {
     "name": "stdout",
     "output_type": "stream",
     "text": [
      "Uploaded image to: s3://psycore-document-images-445644858344/BDUK_Annual_Reports-Accounts_2024_-_Certified_copy/image_24.jpg\n"
     ]
    },
    {
     "name": "stderr",
     "output_type": "stream",
     "text": [
      "2025-04-23 13:43:52,770 - httpx - INFO - HTTP Request: POST http://127.0.0.1:11434/api/chat \"HTTP/1.1 200 OK\"\n"
     ]
    },
    {
     "name": "stdout",
     "output_type": "stream",
     "text": [
      "Uploaded image to: s3://psycore-document-images-445644858344/BDUK_Annual_Reports-Accounts_2024_-_Certified_copy/image_25.jpg\n"
     ]
    },
    {
     "name": "stderr",
     "output_type": "stream",
     "text": [
      "2025-04-23 13:43:58,018 - httpx - INFO - HTTP Request: POST http://127.0.0.1:11434/api/chat \"HTTP/1.1 200 OK\"\n"
     ]
    },
    {
     "name": "stdout",
     "output_type": "stream",
     "text": [
      "Uploaded image to: s3://psycore-document-images-445644858344/BDUK_Annual_Reports-Accounts_2024_-_Certified_copy/image_26.jpg\n"
     ]
    },
    {
     "name": "stderr",
     "output_type": "stream",
     "text": [
      "2025-04-23 13:44:03,694 - httpx - INFO - HTTP Request: POST http://127.0.0.1:11434/api/chat \"HTTP/1.1 200 OK\"\n"
     ]
    },
    {
     "name": "stdout",
     "output_type": "stream",
     "text": [
      "Uploaded image to: s3://psycore-document-images-445644858344/BDUK_Annual_Reports-Accounts_2024_-_Certified_copy/image_27.jpg\n"
     ]
    },
    {
     "name": "stderr",
     "output_type": "stream",
     "text": [
      "2025-04-23 13:44:12,515 - httpx - INFO - HTTP Request: POST http://127.0.0.1:11434/api/chat \"HTTP/1.1 200 OK\"\n"
     ]
    },
    {
     "name": "stdout",
     "output_type": "stream",
     "text": [
      "Uploaded image to: s3://psycore-document-images-445644858344/BDUK_Annual_Reports-Accounts_2024_-_Certified_copy/image_28.jpg\n"
     ]
    },
    {
     "name": "stderr",
     "output_type": "stream",
     "text": [
      "2025-04-23 13:44:28,026 - httpx - INFO - HTTP Request: POST http://127.0.0.1:11434/api/chat \"HTTP/1.1 200 OK\"\n"
     ]
    },
    {
     "name": "stdout",
     "output_type": "stream",
     "text": [
      "Uploaded image to: s3://psycore-document-images-445644858344/BDUK_Annual_Reports-Accounts_2024_-_Certified_copy/image_29.jpg\n"
     ]
    },
    {
     "name": "stderr",
     "output_type": "stream",
     "text": [
      "2025-04-23 13:44:34,980 - httpx - INFO - HTTP Request: POST http://127.0.0.1:11434/api/chat \"HTTP/1.1 200 OK\"\n"
     ]
    },
    {
     "name": "stdout",
     "output_type": "stream",
     "text": [
      "Uploaded image to: s3://psycore-document-images-445644858344/BDUK_Annual_Reports-Accounts_2024_-_Certified_copy/image_3.jpg\n"
     ]
    },
    {
     "name": "stderr",
     "output_type": "stream",
     "text": [
      "2025-04-23 13:44:40,882 - httpx - INFO - HTTP Request: POST http://127.0.0.1:11434/api/chat \"HTTP/1.1 200 OK\"\n"
     ]
    },
    {
     "name": "stdout",
     "output_type": "stream",
     "text": [
      "Uploaded image to: s3://psycore-document-images-445644858344/BDUK_Annual_Reports-Accounts_2024_-_Certified_copy/image_30.jpg\n"
     ]
    },
    {
     "name": "stderr",
     "output_type": "stream",
     "text": [
      "2025-04-23 13:44:45,295 - httpx - INFO - HTTP Request: POST http://127.0.0.1:11434/api/chat \"HTTP/1.1 200 OK\"\n"
     ]
    },
    {
     "name": "stdout",
     "output_type": "stream",
     "text": [
      "Uploaded image to: s3://psycore-document-images-445644858344/BDUK_Annual_Reports-Accounts_2024_-_Certified_copy/image_31.jpg\n"
     ]
    },
    {
     "name": "stderr",
     "output_type": "stream",
     "text": [
      "2025-04-23 13:44:53,756 - httpx - INFO - HTTP Request: POST http://127.0.0.1:11434/api/chat \"HTTP/1.1 200 OK\"\n"
     ]
    },
    {
     "name": "stdout",
     "output_type": "stream",
     "text": [
      "Uploaded image to: s3://psycore-document-images-445644858344/BDUK_Annual_Reports-Accounts_2024_-_Certified_copy/image_32.jpg\n"
     ]
    },
    {
     "name": "stderr",
     "output_type": "stream",
     "text": [
      "2025-04-23 13:44:59,371 - httpx - INFO - HTTP Request: POST http://127.0.0.1:11434/api/chat \"HTTP/1.1 200 OK\"\n"
     ]
    },
    {
     "name": "stdout",
     "output_type": "stream",
     "text": [
      "Uploaded image to: s3://psycore-document-images-445644858344/BDUK_Annual_Reports-Accounts_2024_-_Certified_copy/image_33.jpg\n"
     ]
    },
    {
     "name": "stderr",
     "output_type": "stream",
     "text": [
      "2025-04-23 13:45:07,634 - httpx - INFO - HTTP Request: POST http://127.0.0.1:11434/api/chat \"HTTP/1.1 200 OK\"\n"
     ]
    },
    {
     "name": "stdout",
     "output_type": "stream",
     "text": [
      "Uploaded image to: s3://psycore-document-images-445644858344/BDUK_Annual_Reports-Accounts_2024_-_Certified_copy/image_34.jpg\n"
     ]
    },
    {
     "name": "stderr",
     "output_type": "stream",
     "text": [
      "2025-04-23 13:45:16,943 - httpx - INFO - HTTP Request: POST http://127.0.0.1:11434/api/chat \"HTTP/1.1 200 OK\"\n"
     ]
    },
    {
     "name": "stdout",
     "output_type": "stream",
     "text": [
      "Uploaded image to: s3://psycore-document-images-445644858344/BDUK_Annual_Reports-Accounts_2024_-_Certified_copy/image_35.jpg\n"
     ]
    },
    {
     "name": "stderr",
     "output_type": "stream",
     "text": [
      "2025-04-23 13:45:24,271 - httpx - INFO - HTTP Request: POST http://127.0.0.1:11434/api/chat \"HTTP/1.1 200 OK\"\n"
     ]
    },
    {
     "name": "stdout",
     "output_type": "stream",
     "text": [
      "Uploaded image to: s3://psycore-document-images-445644858344/BDUK_Annual_Reports-Accounts_2024_-_Certified_copy/image_36.jpg\n"
     ]
    },
    {
     "name": "stderr",
     "output_type": "stream",
     "text": [
      "2025-04-23 13:45:30,450 - httpx - INFO - HTTP Request: POST http://127.0.0.1:11434/api/chat \"HTTP/1.1 200 OK\"\n"
     ]
    },
    {
     "name": "stdout",
     "output_type": "stream",
     "text": [
      "Uploaded image to: s3://psycore-document-images-445644858344/BDUK_Annual_Reports-Accounts_2024_-_Certified_copy/image_37.jpg\n"
     ]
    },
    {
     "name": "stderr",
     "output_type": "stream",
     "text": [
      "2025-04-23 13:45:35,434 - httpx - INFO - HTTP Request: POST http://127.0.0.1:11434/api/chat \"HTTP/1.1 200 OK\"\n"
     ]
    },
    {
     "name": "stdout",
     "output_type": "stream",
     "text": [
      "Uploaded image to: s3://psycore-document-images-445644858344/BDUK_Annual_Reports-Accounts_2024_-_Certified_copy/image_38.jpg\n"
     ]
    },
    {
     "name": "stderr",
     "output_type": "stream",
     "text": [
      "2025-04-23 13:45:43,446 - httpx - INFO - HTTP Request: POST http://127.0.0.1:11434/api/chat \"HTTP/1.1 200 OK\"\n"
     ]
    },
    {
     "name": "stdout",
     "output_type": "stream",
     "text": [
      "Uploaded image to: s3://psycore-document-images-445644858344/BDUK_Annual_Reports-Accounts_2024_-_Certified_copy/image_39.jpg\n"
     ]
    },
    {
     "name": "stderr",
     "output_type": "stream",
     "text": [
      "2025-04-23 13:45:51,647 - httpx - INFO - HTTP Request: POST http://127.0.0.1:11434/api/chat \"HTTP/1.1 200 OK\"\n"
     ]
    },
    {
     "name": "stdout",
     "output_type": "stream",
     "text": [
      "Uploaded image to: s3://psycore-document-images-445644858344/BDUK_Annual_Reports-Accounts_2024_-_Certified_copy/image_4.jpg\n"
     ]
    },
    {
     "name": "stderr",
     "output_type": "stream",
     "text": [
      "2025-04-23 13:45:57,467 - httpx - INFO - HTTP Request: POST http://127.0.0.1:11434/api/chat \"HTTP/1.1 200 OK\"\n"
     ]
    },
    {
     "name": "stdout",
     "output_type": "stream",
     "text": [
      "Uploaded image to: s3://psycore-document-images-445644858344/BDUK_Annual_Reports-Accounts_2024_-_Certified_copy/image_5.jpg\n"
     ]
    },
    {
     "name": "stderr",
     "output_type": "stream",
     "text": [
      "2025-04-23 13:46:02,373 - httpx - INFO - HTTP Request: POST http://127.0.0.1:11434/api/chat \"HTTP/1.1 200 OK\"\n"
     ]
    },
    {
     "name": "stdout",
     "output_type": "stream",
     "text": [
      "Uploaded image to: s3://psycore-document-images-445644858344/BDUK_Annual_Reports-Accounts_2024_-_Certified_copy/image_6.jpg\n"
     ]
    },
    {
     "name": "stderr",
     "output_type": "stream",
     "text": [
      "2025-04-23 13:46:11,229 - httpx - INFO - HTTP Request: POST http://127.0.0.1:11434/api/chat \"HTTP/1.1 200 OK\"\n"
     ]
    },
    {
     "name": "stdout",
     "output_type": "stream",
     "text": [
      "Uploaded image to: s3://psycore-document-images-445644858344/BDUK_Annual_Reports-Accounts_2024_-_Certified_copy/image_7.jpg\n"
     ]
    },
    {
     "name": "stderr",
     "output_type": "stream",
     "text": [
      "2025-04-23 13:46:20,184 - httpx - INFO - HTTP Request: POST http://127.0.0.1:11434/api/chat \"HTTP/1.1 200 OK\"\n"
     ]
    },
    {
     "name": "stdout",
     "output_type": "stream",
     "text": [
      "Uploaded image to: s3://psycore-document-images-445644858344/BDUK_Annual_Reports-Accounts_2024_-_Certified_copy/image_8.jpg\n"
     ]
    },
    {
     "name": "stderr",
     "output_type": "stream",
     "text": [
      "2025-04-23 13:46:26,017 - httpx - INFO - HTTP Request: POST http://127.0.0.1:11434/api/chat \"HTTP/1.1 200 OK\"\n"
     ]
    },
    {
     "name": "stdout",
     "output_type": "stream",
     "text": [
      "Uploaded image to: s3://psycore-document-images-445644858344/BDUK_Annual_Reports-Accounts_2024_-_Certified_copy/image_9.jpg\n"
     ]
    },
    {
     "name": "stderr",
     "output_type": "stream",
     "text": [
      "2025-04-23 13:46:34,501 - httpx - INFO - HTTP Request: POST http://127.0.0.1:11434/api/chat \"HTTP/1.1 200 OK\"\n",
      "Some weights of the model checkpoint at dbmdz/bert-large-cased-finetuned-conll03-english were not used when initializing BertForTokenClassification: ['bert.pooler.dense.bias', 'bert.pooler.dense.weight']\n",
      "- This IS expected if you are initializing BertForTokenClassification from the checkpoint of a model trained on another task or with another architecture (e.g. initializing a BertForSequenceClassification model from a BertForPreTraining model).\n",
      "- This IS NOT expected if you are initializing BertForTokenClassification from the checkpoint of a model that you expect to be exactly identical (initializing a BertForSequenceClassification model from a BertForSequenceClassification model).\n",
      "Device set to use cpu\n"
     ]
    },
    {
     "name": "stdout",
     "output_type": "stream",
     "text": [
      "Uploaded knowledge graph to: s3://psycore-document-graphs-445644858344/BDUK_Annual_Reports-Accounts_2024_-_Certified_copy/knowledge_graph.json\n",
      "✓ Successfully processed BDUK_Annual_Reports-Accounts_2024_-_Certified_copy.pdf\n",
      "  - 39 images uploaded to psycore-document-images-445644858344\n",
      "\n",
      "Processing PDF 24/75: BDUK_Rural_Gigabit_Connectivity_Hubs_Evaluation.pdf\n",
      "\n",
      "Processing completed in 2.44 seconds\n",
      "Success: True\n",
      "Extracted text: Yes\n",
      "Images extracted: 48\n",
      "Results saved to: c:\\Users\\Student\\Documents\\University\\Fifth Year\\COM4520\\Psycore\\jupyter_testing\\processed_pdfs\\BDUK_Rural_Gigabit_Connectivity_Hubs_Evaluation_pdf\n",
      "Uploaded image to: s3://psycore-document-images-445644858344/BDUK_Rural_Gigabit_Connectivity_Hubs_Evaluation/image_1.jpg\n"
     ]
    },
    {
     "name": "stderr",
     "output_type": "stream",
     "text": [
      "2025-04-23 13:49:43,004 - httpx - INFO - HTTP Request: POST http://127.0.0.1:11434/api/chat \"HTTP/1.1 200 OK\"\n"
     ]
    },
    {
     "name": "stdout",
     "output_type": "stream",
     "text": [
      "Uploaded image to: s3://psycore-document-images-445644858344/BDUK_Rural_Gigabit_Connectivity_Hubs_Evaluation/image_10.jpg\n"
     ]
    },
    {
     "name": "stderr",
     "output_type": "stream",
     "text": [
      "2025-04-23 13:49:48,478 - httpx - INFO - HTTP Request: POST http://127.0.0.1:11434/api/chat \"HTTP/1.1 200 OK\"\n"
     ]
    },
    {
     "name": "stdout",
     "output_type": "stream",
     "text": [
      "Uploaded image to: s3://psycore-document-images-445644858344/BDUK_Rural_Gigabit_Connectivity_Hubs_Evaluation/image_11.jpg\n"
     ]
    },
    {
     "name": "stderr",
     "output_type": "stream",
     "text": [
      "2025-04-23 13:49:57,688 - httpx - INFO - HTTP Request: POST http://127.0.0.1:11434/api/chat \"HTTP/1.1 200 OK\"\n"
     ]
    },
    {
     "name": "stdout",
     "output_type": "stream",
     "text": [
      "Uploaded image to: s3://psycore-document-images-445644858344/BDUK_Rural_Gigabit_Connectivity_Hubs_Evaluation/image_12.jpg\n"
     ]
    },
    {
     "name": "stderr",
     "output_type": "stream",
     "text": [
      "2025-04-23 13:50:03,509 - httpx - INFO - HTTP Request: POST http://127.0.0.1:11434/api/chat \"HTTP/1.1 200 OK\"\n"
     ]
    },
    {
     "name": "stdout",
     "output_type": "stream",
     "text": [
      "Uploaded image to: s3://psycore-document-images-445644858344/BDUK_Rural_Gigabit_Connectivity_Hubs_Evaluation/image_13.jpg\n"
     ]
    },
    {
     "name": "stderr",
     "output_type": "stream",
     "text": [
      "2025-04-23 13:50:11,126 - httpx - INFO - HTTP Request: POST http://127.0.0.1:11434/api/chat \"HTTP/1.1 200 OK\"\n"
     ]
    },
    {
     "name": "stdout",
     "output_type": "stream",
     "text": [
      "Uploaded image to: s3://psycore-document-images-445644858344/BDUK_Rural_Gigabit_Connectivity_Hubs_Evaluation/image_14.jpg\n"
     ]
    },
    {
     "name": "stderr",
     "output_type": "stream",
     "text": [
      "2025-04-23 13:50:15,932 - httpx - INFO - HTTP Request: POST http://127.0.0.1:11434/api/chat \"HTTP/1.1 200 OK\"\n"
     ]
    },
    {
     "name": "stdout",
     "output_type": "stream",
     "text": [
      "Uploaded image to: s3://psycore-document-images-445644858344/BDUK_Rural_Gigabit_Connectivity_Hubs_Evaluation/image_15.jpg\n"
     ]
    },
    {
     "name": "stderr",
     "output_type": "stream",
     "text": [
      "2025-04-23 13:50:24,251 - httpx - INFO - HTTP Request: POST http://127.0.0.1:11434/api/chat \"HTTP/1.1 200 OK\"\n"
     ]
    },
    {
     "name": "stdout",
     "output_type": "stream",
     "text": [
      "Uploaded image to: s3://psycore-document-images-445644858344/BDUK_Rural_Gigabit_Connectivity_Hubs_Evaluation/image_16.jpg\n"
     ]
    },
    {
     "name": "stderr",
     "output_type": "stream",
     "text": [
      "2025-04-23 13:50:31,190 - httpx - INFO - HTTP Request: POST http://127.0.0.1:11434/api/chat \"HTTP/1.1 200 OK\"\n"
     ]
    },
    {
     "name": "stdout",
     "output_type": "stream",
     "text": [
      "Uploaded image to: s3://psycore-document-images-445644858344/BDUK_Rural_Gigabit_Connectivity_Hubs_Evaluation/image_17.jpg\n"
     ]
    },
    {
     "name": "stderr",
     "output_type": "stream",
     "text": [
      "2025-04-23 13:50:38,801 - httpx - INFO - HTTP Request: POST http://127.0.0.1:11434/api/chat \"HTTP/1.1 200 OK\"\n"
     ]
    },
    {
     "name": "stdout",
     "output_type": "stream",
     "text": [
      "Uploaded image to: s3://psycore-document-images-445644858344/BDUK_Rural_Gigabit_Connectivity_Hubs_Evaluation/image_18.jpg\n"
     ]
    },
    {
     "name": "stderr",
     "output_type": "stream",
     "text": [
      "2025-04-23 13:50:45,834 - httpx - INFO - HTTP Request: POST http://127.0.0.1:11434/api/chat \"HTTP/1.1 200 OK\"\n"
     ]
    },
    {
     "name": "stdout",
     "output_type": "stream",
     "text": [
      "Uploaded image to: s3://psycore-document-images-445644858344/BDUK_Rural_Gigabit_Connectivity_Hubs_Evaluation/image_19.jpg\n"
     ]
    },
    {
     "name": "stderr",
     "output_type": "stream",
     "text": [
      "2025-04-23 13:50:53,586 - httpx - INFO - HTTP Request: POST http://127.0.0.1:11434/api/chat \"HTTP/1.1 200 OK\"\n"
     ]
    },
    {
     "name": "stdout",
     "output_type": "stream",
     "text": [
      "Uploaded image to: s3://psycore-document-images-445644858344/BDUK_Rural_Gigabit_Connectivity_Hubs_Evaluation/image_2.jpg\n"
     ]
    },
    {
     "name": "stderr",
     "output_type": "stream",
     "text": [
      "2025-04-23 13:51:00,374 - httpx - INFO - HTTP Request: POST http://127.0.0.1:11434/api/chat \"HTTP/1.1 200 OK\"\n"
     ]
    },
    {
     "name": "stdout",
     "output_type": "stream",
     "text": [
      "Uploaded image to: s3://psycore-document-images-445644858344/BDUK_Rural_Gigabit_Connectivity_Hubs_Evaluation/image_20.jpg\n"
     ]
    },
    {
     "name": "stderr",
     "output_type": "stream",
     "text": [
      "2025-04-23 13:51:06,177 - httpx - INFO - HTTP Request: POST http://127.0.0.1:11434/api/chat \"HTTP/1.1 200 OK\"\n"
     ]
    },
    {
     "name": "stdout",
     "output_type": "stream",
     "text": [
      "Uploaded image to: s3://psycore-document-images-445644858344/BDUK_Rural_Gigabit_Connectivity_Hubs_Evaluation/image_21.jpg\n"
     ]
    },
    {
     "name": "stderr",
     "output_type": "stream",
     "text": [
      "2025-04-23 13:51:15,453 - httpx - INFO - HTTP Request: POST http://127.0.0.1:11434/api/chat \"HTTP/1.1 200 OK\"\n"
     ]
    },
    {
     "name": "stdout",
     "output_type": "stream",
     "text": [
      "Uploaded image to: s3://psycore-document-images-445644858344/BDUK_Rural_Gigabit_Connectivity_Hubs_Evaluation/image_22.jpg\n"
     ]
    },
    {
     "name": "stderr",
     "output_type": "stream",
     "text": [
      "2025-04-23 13:51:26,054 - httpx - INFO - HTTP Request: POST http://127.0.0.1:11434/api/chat \"HTTP/1.1 200 OK\"\n"
     ]
    },
    {
     "name": "stdout",
     "output_type": "stream",
     "text": [
      "Uploaded image to: s3://psycore-document-images-445644858344/BDUK_Rural_Gigabit_Connectivity_Hubs_Evaluation/image_23.jpg\n"
     ]
    },
    {
     "name": "stderr",
     "output_type": "stream",
     "text": [
      "2025-04-23 13:51:31,568 - httpx - INFO - HTTP Request: POST http://127.0.0.1:11434/api/chat \"HTTP/1.1 200 OK\"\n"
     ]
    },
    {
     "name": "stdout",
     "output_type": "stream",
     "text": [
      "Uploaded image to: s3://psycore-document-images-445644858344/BDUK_Rural_Gigabit_Connectivity_Hubs_Evaluation/image_24.jpg\n"
     ]
    },
    {
     "name": "stderr",
     "output_type": "stream",
     "text": [
      "2025-04-23 13:51:38,685 - httpx - INFO - HTTP Request: POST http://127.0.0.1:11434/api/chat \"HTTP/1.1 200 OK\"\n"
     ]
    },
    {
     "name": "stdout",
     "output_type": "stream",
     "text": [
      "Uploaded image to: s3://psycore-document-images-445644858344/BDUK_Rural_Gigabit_Connectivity_Hubs_Evaluation/image_25.jpg\n"
     ]
    },
    {
     "name": "stderr",
     "output_type": "stream",
     "text": [
      "2025-04-23 13:51:45,916 - httpx - INFO - HTTP Request: POST http://127.0.0.1:11434/api/chat \"HTTP/1.1 200 OK\"\n"
     ]
    },
    {
     "name": "stdout",
     "output_type": "stream",
     "text": [
      "Uploaded image to: s3://psycore-document-images-445644858344/BDUK_Rural_Gigabit_Connectivity_Hubs_Evaluation/image_26.jpg\n"
     ]
    },
    {
     "name": "stderr",
     "output_type": "stream",
     "text": [
      "2025-04-23 13:51:53,130 - httpx - INFO - HTTP Request: POST http://127.0.0.1:11434/api/chat \"HTTP/1.1 200 OK\"\n"
     ]
    },
    {
     "name": "stdout",
     "output_type": "stream",
     "text": [
      "Uploaded image to: s3://psycore-document-images-445644858344/BDUK_Rural_Gigabit_Connectivity_Hubs_Evaluation/image_27.jpg\n"
     ]
    },
    {
     "name": "stderr",
     "output_type": "stream",
     "text": [
      "2025-04-23 13:51:59,661 - httpx - INFO - HTTP Request: POST http://127.0.0.1:11434/api/chat \"HTTP/1.1 200 OK\"\n"
     ]
    },
    {
     "name": "stdout",
     "output_type": "stream",
     "text": [
      "Uploaded image to: s3://psycore-document-images-445644858344/BDUK_Rural_Gigabit_Connectivity_Hubs_Evaluation/image_28.jpg\n"
     ]
    },
    {
     "name": "stderr",
     "output_type": "stream",
     "text": [
      "2025-04-23 13:52:05,185 - httpx - INFO - HTTP Request: POST http://127.0.0.1:11434/api/chat \"HTTP/1.1 200 OK\"\n"
     ]
    },
    {
     "name": "stdout",
     "output_type": "stream",
     "text": [
      "Uploaded image to: s3://psycore-document-images-445644858344/BDUK_Rural_Gigabit_Connectivity_Hubs_Evaluation/image_29.jpg\n"
     ]
    },
    {
     "name": "stderr",
     "output_type": "stream",
     "text": [
      "2025-04-23 13:52:12,516 - httpx - INFO - HTTP Request: POST http://127.0.0.1:11434/api/chat \"HTTP/1.1 200 OK\"\n"
     ]
    },
    {
     "name": "stdout",
     "output_type": "stream",
     "text": [
      "Uploaded image to: s3://psycore-document-images-445644858344/BDUK_Rural_Gigabit_Connectivity_Hubs_Evaluation/image_3.jpg\n"
     ]
    },
    {
     "name": "stderr",
     "output_type": "stream",
     "text": [
      "2025-04-23 13:52:20,879 - httpx - INFO - HTTP Request: POST http://127.0.0.1:11434/api/chat \"HTTP/1.1 200 OK\"\n"
     ]
    },
    {
     "name": "stdout",
     "output_type": "stream",
     "text": [
      "Uploaded image to: s3://psycore-document-images-445644858344/BDUK_Rural_Gigabit_Connectivity_Hubs_Evaluation/image_30.jpg\n"
     ]
    },
    {
     "name": "stderr",
     "output_type": "stream",
     "text": [
      "2025-04-23 13:52:27,360 - httpx - INFO - HTTP Request: POST http://127.0.0.1:11434/api/chat \"HTTP/1.1 200 OK\"\n"
     ]
    },
    {
     "name": "stdout",
     "output_type": "stream",
     "text": [
      "Uploaded image to: s3://psycore-document-images-445644858344/BDUK_Rural_Gigabit_Connectivity_Hubs_Evaluation/image_31.jpg\n"
     ]
    },
    {
     "name": "stderr",
     "output_type": "stream",
     "text": [
      "2025-04-23 13:52:32,732 - httpx - INFO - HTTP Request: POST http://127.0.0.1:11434/api/chat \"HTTP/1.1 200 OK\"\n"
     ]
    },
    {
     "name": "stdout",
     "output_type": "stream",
     "text": [
      "Uploaded image to: s3://psycore-document-images-445644858344/BDUK_Rural_Gigabit_Connectivity_Hubs_Evaluation/image_32.jpg\n"
     ]
    },
    {
     "name": "stderr",
     "output_type": "stream",
     "text": [
      "2025-04-23 13:52:47,985 - httpx - INFO - HTTP Request: POST http://127.0.0.1:11434/api/chat \"HTTP/1.1 200 OK\"\n"
     ]
    },
    {
     "name": "stdout",
     "output_type": "stream",
     "text": [
      "Uploaded image to: s3://psycore-document-images-445644858344/BDUK_Rural_Gigabit_Connectivity_Hubs_Evaluation/image_33.jpg\n"
     ]
    },
    {
     "name": "stderr",
     "output_type": "stream",
     "text": [
      "2025-04-23 13:52:55,583 - httpx - INFO - HTTP Request: POST http://127.0.0.1:11434/api/chat \"HTTP/1.1 200 OK\"\n"
     ]
    },
    {
     "name": "stdout",
     "output_type": "stream",
     "text": [
      "Uploaded image to: s3://psycore-document-images-445644858344/BDUK_Rural_Gigabit_Connectivity_Hubs_Evaluation/image_34.jpg\n"
     ]
    },
    {
     "name": "stderr",
     "output_type": "stream",
     "text": [
      "2025-04-23 13:53:00,362 - httpx - INFO - HTTP Request: POST http://127.0.0.1:11434/api/chat \"HTTP/1.1 200 OK\"\n"
     ]
    },
    {
     "name": "stdout",
     "output_type": "stream",
     "text": [
      "Uploaded image to: s3://psycore-document-images-445644858344/BDUK_Rural_Gigabit_Connectivity_Hubs_Evaluation/image_35.jpg\n"
     ]
    },
    {
     "name": "stderr",
     "output_type": "stream",
     "text": [
      "2025-04-23 13:53:07,522 - httpx - INFO - HTTP Request: POST http://127.0.0.1:11434/api/chat \"HTTP/1.1 200 OK\"\n"
     ]
    },
    {
     "name": "stdout",
     "output_type": "stream",
     "text": [
      "Uploaded image to: s3://psycore-document-images-445644858344/BDUK_Rural_Gigabit_Connectivity_Hubs_Evaluation/image_36.jpg\n"
     ]
    },
    {
     "name": "stderr",
     "output_type": "stream",
     "text": [
      "2025-04-23 13:53:13,412 - httpx - INFO - HTTP Request: POST http://127.0.0.1:11434/api/chat \"HTTP/1.1 200 OK\"\n"
     ]
    },
    {
     "name": "stdout",
     "output_type": "stream",
     "text": [
      "Uploaded image to: s3://psycore-document-images-445644858344/BDUK_Rural_Gigabit_Connectivity_Hubs_Evaluation/image_37.jpg\n"
     ]
    },
    {
     "name": "stderr",
     "output_type": "stream",
     "text": [
      "2025-04-23 13:53:20,067 - httpx - INFO - HTTP Request: POST http://127.0.0.1:11434/api/chat \"HTTP/1.1 200 OK\"\n"
     ]
    },
    {
     "name": "stdout",
     "output_type": "stream",
     "text": [
      "Uploaded image to: s3://psycore-document-images-445644858344/BDUK_Rural_Gigabit_Connectivity_Hubs_Evaluation/image_38.jpg\n"
     ]
    },
    {
     "name": "stderr",
     "output_type": "stream",
     "text": [
      "2025-04-23 13:53:24,286 - httpx - INFO - HTTP Request: POST http://127.0.0.1:11434/api/chat \"HTTP/1.1 200 OK\"\n"
     ]
    },
    {
     "name": "stdout",
     "output_type": "stream",
     "text": [
      "Uploaded image to: s3://psycore-document-images-445644858344/BDUK_Rural_Gigabit_Connectivity_Hubs_Evaluation/image_39.jpg\n"
     ]
    },
    {
     "name": "stderr",
     "output_type": "stream",
     "text": [
      "2025-04-23 13:53:30,305 - httpx - INFO - HTTP Request: POST http://127.0.0.1:11434/api/chat \"HTTP/1.1 200 OK\"\n"
     ]
    },
    {
     "name": "stdout",
     "output_type": "stream",
     "text": [
      "Uploaded image to: s3://psycore-document-images-445644858344/BDUK_Rural_Gigabit_Connectivity_Hubs_Evaluation/image_4.jpg\n"
     ]
    },
    {
     "name": "stderr",
     "output_type": "stream",
     "text": [
      "2025-04-23 13:53:35,652 - httpx - INFO - HTTP Request: POST http://127.0.0.1:11434/api/chat \"HTTP/1.1 200 OK\"\n"
     ]
    },
    {
     "name": "stdout",
     "output_type": "stream",
     "text": [
      "Uploaded image to: s3://psycore-document-images-445644858344/BDUK_Rural_Gigabit_Connectivity_Hubs_Evaluation/image_40.jpg\n"
     ]
    },
    {
     "name": "stderr",
     "output_type": "stream",
     "text": [
      "2025-04-23 13:53:43,706 - httpx - INFO - HTTP Request: POST http://127.0.0.1:11434/api/chat \"HTTP/1.1 200 OK\"\n"
     ]
    },
    {
     "name": "stdout",
     "output_type": "stream",
     "text": [
      "Uploaded image to: s3://psycore-document-images-445644858344/BDUK_Rural_Gigabit_Connectivity_Hubs_Evaluation/image_41.jpg\n"
     ]
    },
    {
     "name": "stderr",
     "output_type": "stream",
     "text": [
      "2025-04-23 13:53:49,911 - httpx - INFO - HTTP Request: POST http://127.0.0.1:11434/api/chat \"HTTP/1.1 200 OK\"\n"
     ]
    },
    {
     "name": "stdout",
     "output_type": "stream",
     "text": [
      "Uploaded image to: s3://psycore-document-images-445644858344/BDUK_Rural_Gigabit_Connectivity_Hubs_Evaluation/image_42.jpg\n"
     ]
    },
    {
     "name": "stderr",
     "output_type": "stream",
     "text": [
      "2025-04-23 13:53:58,987 - httpx - INFO - HTTP Request: POST http://127.0.0.1:11434/api/chat \"HTTP/1.1 200 OK\"\n"
     ]
    },
    {
     "name": "stdout",
     "output_type": "stream",
     "text": [
      "Uploaded image to: s3://psycore-document-images-445644858344/BDUK_Rural_Gigabit_Connectivity_Hubs_Evaluation/image_43.jpg\n"
     ]
    },
    {
     "name": "stderr",
     "output_type": "stream",
     "text": [
      "2025-04-23 13:54:06,560 - httpx - INFO - HTTP Request: POST http://127.0.0.1:11434/api/chat \"HTTP/1.1 200 OK\"\n"
     ]
    },
    {
     "name": "stdout",
     "output_type": "stream",
     "text": [
      "Uploaded image to: s3://psycore-document-images-445644858344/BDUK_Rural_Gigabit_Connectivity_Hubs_Evaluation/image_44.jpg\n"
     ]
    },
    {
     "name": "stderr",
     "output_type": "stream",
     "text": [
      "2025-04-23 13:54:13,528 - httpx - INFO - HTTP Request: POST http://127.0.0.1:11434/api/chat \"HTTP/1.1 200 OK\"\n"
     ]
    },
    {
     "name": "stdout",
     "output_type": "stream",
     "text": [
      "Uploaded image to: s3://psycore-document-images-445644858344/BDUK_Rural_Gigabit_Connectivity_Hubs_Evaluation/image_45.jpg\n"
     ]
    },
    {
     "name": "stderr",
     "output_type": "stream",
     "text": [
      "2025-04-23 13:54:18,454 - httpx - INFO - HTTP Request: POST http://127.0.0.1:11434/api/chat \"HTTP/1.1 200 OK\"\n"
     ]
    },
    {
     "name": "stdout",
     "output_type": "stream",
     "text": [
      "Uploaded image to: s3://psycore-document-images-445644858344/BDUK_Rural_Gigabit_Connectivity_Hubs_Evaluation/image_46.jpg\n"
     ]
    },
    {
     "name": "stderr",
     "output_type": "stream",
     "text": [
      "2025-04-23 13:54:23,532 - httpx - INFO - HTTP Request: POST http://127.0.0.1:11434/api/chat \"HTTP/1.1 200 OK\"\n"
     ]
    },
    {
     "name": "stdout",
     "output_type": "stream",
     "text": [
      "Uploaded image to: s3://psycore-document-images-445644858344/BDUK_Rural_Gigabit_Connectivity_Hubs_Evaluation/image_47.jpg\n"
     ]
    },
    {
     "name": "stderr",
     "output_type": "stream",
     "text": [
      "2025-04-23 13:54:28,358 - httpx - INFO - HTTP Request: POST http://127.0.0.1:11434/api/chat \"HTTP/1.1 200 OK\"\n"
     ]
    },
    {
     "name": "stdout",
     "output_type": "stream",
     "text": [
      "Uploaded image to: s3://psycore-document-images-445644858344/BDUK_Rural_Gigabit_Connectivity_Hubs_Evaluation/image_48.jpg\n"
     ]
    },
    {
     "name": "stderr",
     "output_type": "stream",
     "text": [
      "2025-04-23 13:54:33,497 - httpx - INFO - HTTP Request: POST http://127.0.0.1:11434/api/chat \"HTTP/1.1 200 OK\"\n"
     ]
    },
    {
     "name": "stdout",
     "output_type": "stream",
     "text": [
      "Uploaded image to: s3://psycore-document-images-445644858344/BDUK_Rural_Gigabit_Connectivity_Hubs_Evaluation/image_5.jpg\n"
     ]
    },
    {
     "name": "stderr",
     "output_type": "stream",
     "text": [
      "2025-04-23 13:54:38,316 - httpx - INFO - HTTP Request: POST http://127.0.0.1:11434/api/chat \"HTTP/1.1 200 OK\"\n"
     ]
    },
    {
     "name": "stdout",
     "output_type": "stream",
     "text": [
      "Uploaded image to: s3://psycore-document-images-445644858344/BDUK_Rural_Gigabit_Connectivity_Hubs_Evaluation/image_6.jpg\n"
     ]
    },
    {
     "name": "stderr",
     "output_type": "stream",
     "text": [
      "2025-04-23 13:54:43,704 - httpx - INFO - HTTP Request: POST http://127.0.0.1:11434/api/chat \"HTTP/1.1 200 OK\"\n"
     ]
    },
    {
     "name": "stdout",
     "output_type": "stream",
     "text": [
      "Uploaded image to: s3://psycore-document-images-445644858344/BDUK_Rural_Gigabit_Connectivity_Hubs_Evaluation/image_7.jpg\n"
     ]
    },
    {
     "name": "stderr",
     "output_type": "stream",
     "text": [
      "2025-04-23 13:54:49,414 - httpx - INFO - HTTP Request: POST http://127.0.0.1:11434/api/chat \"HTTP/1.1 200 OK\"\n"
     ]
    },
    {
     "name": "stdout",
     "output_type": "stream",
     "text": [
      "Uploaded image to: s3://psycore-document-images-445644858344/BDUK_Rural_Gigabit_Connectivity_Hubs_Evaluation/image_8.jpg\n"
     ]
    },
    {
     "name": "stderr",
     "output_type": "stream",
     "text": [
      "2025-04-23 13:54:54,864 - httpx - INFO - HTTP Request: POST http://127.0.0.1:11434/api/chat \"HTTP/1.1 200 OK\"\n"
     ]
    },
    {
     "name": "stdout",
     "output_type": "stream",
     "text": [
      "Uploaded image to: s3://psycore-document-images-445644858344/BDUK_Rural_Gigabit_Connectivity_Hubs_Evaluation/image_9.jpg\n"
     ]
    },
    {
     "name": "stderr",
     "output_type": "stream",
     "text": [
      "2025-04-23 13:54:59,912 - httpx - INFO - HTTP Request: POST http://127.0.0.1:11434/api/chat \"HTTP/1.1 200 OK\"\n",
      "Some weights of the model checkpoint at dbmdz/bert-large-cased-finetuned-conll03-english were not used when initializing BertForTokenClassification: ['bert.pooler.dense.bias', 'bert.pooler.dense.weight']\n",
      "- This IS expected if you are initializing BertForTokenClassification from the checkpoint of a model trained on another task or with another architecture (e.g. initializing a BertForSequenceClassification model from a BertForPreTraining model).\n",
      "- This IS NOT expected if you are initializing BertForTokenClassification from the checkpoint of a model that you expect to be exactly identical (initializing a BertForSequenceClassification model from a BertForSequenceClassification model).\n",
      "Device set to use cpu\n"
     ]
    },
    {
     "name": "stdout",
     "output_type": "stream",
     "text": [
      "Uploaded knowledge graph to: s3://psycore-document-graphs-445644858344/BDUK_Rural_Gigabit_Connectivity_Hubs_Evaluation/knowledge_graph.json\n",
      "✓ Successfully processed BDUK_Rural_Gigabit_Connectivity_Hubs_Evaluation.pdf\n",
      "  - 48 images uploaded to psycore-document-images-445644858344\n",
      "\n",
      "Processing PDF 25/75: BDUK_SF_EVAL_ANNEX_A_REDUCING_THE_DIGITAL_DIVIDE.pdf\n",
      "\n",
      "Processing completed in 0.38 seconds\n",
      "Success: True\n",
      "Extracted text: Yes\n",
      "Images extracted: 1\n",
      "Results saved to: c:\\Users\\Student\\Documents\\University\\Fifth Year\\COM4520\\Psycore\\jupyter_testing\\processed_pdfs\\BDUK_SF_EVAL_ANNEX_A_REDUCING_THE_DIGITAL_DIVIDE_pdf\n",
      "Uploaded image to: s3://psycore-document-images-445644858344/BDUK_SF_EVAL_ANNEX_A_REDUCING_THE_DIGITAL_DIVIDE/image_1.jpg\n"
     ]
    },
    {
     "name": "stderr",
     "output_type": "stream",
     "text": [
      "2025-04-23 13:58:37,227 - httpx - INFO - HTTP Request: POST http://127.0.0.1:11434/api/chat \"HTTP/1.1 200 OK\"\n",
      "Some weights of the model checkpoint at dbmdz/bert-large-cased-finetuned-conll03-english were not used when initializing BertForTokenClassification: ['bert.pooler.dense.bias', 'bert.pooler.dense.weight']\n",
      "- This IS expected if you are initializing BertForTokenClassification from the checkpoint of a model trained on another task or with another architecture (e.g. initializing a BertForSequenceClassification model from a BertForPreTraining model).\n",
      "- This IS NOT expected if you are initializing BertForTokenClassification from the checkpoint of a model that you expect to be exactly identical (initializing a BertForSequenceClassification model from a BertForSequenceClassification model).\n",
      "Device set to use cpu\n"
     ]
    },
    {
     "name": "stdout",
     "output_type": "stream",
     "text": [
      "Uploaded knowledge graph to: s3://psycore-document-graphs-445644858344/BDUK_SF_EVAL_ANNEX_A_REDUCING_THE_DIGITAL_DIVIDE/knowledge_graph.json\n",
      "✓ Successfully processed BDUK_SF_EVAL_ANNEX_A_REDUCING_THE_DIGITAL_DIVIDE.pdf\n",
      "  - 1 images uploaded to psycore-document-images-445644858344\n",
      "\n",
      "Processing PDF 26/75: BDUK_SF_EVAL_ANNEX_B_ECONOMIC_IMPACTS.pdf\n",
      "\n",
      "Processing completed in 0.61 seconds\n",
      "Success: True\n",
      "Extracted text: Yes\n",
      "Images extracted: 4\n",
      "Results saved to: c:\\Users\\Student\\Documents\\University\\Fifth Year\\COM4520\\Psycore\\jupyter_testing\\processed_pdfs\\BDUK_SF_EVAL_ANNEX_B_ECONOMIC_IMPACTS_pdf\n",
      "Uploaded image to: s3://psycore-document-images-445644858344/BDUK_SF_EVAL_ANNEX_B_ECONOMIC_IMPACTS/image_1.jpg\n"
     ]
    },
    {
     "name": "stderr",
     "output_type": "stream",
     "text": [
      "2025-04-23 14:00:26,292 - httpx - INFO - HTTP Request: POST http://127.0.0.1:11434/api/chat \"HTTP/1.1 200 OK\"\n"
     ]
    },
    {
     "name": "stdout",
     "output_type": "stream",
     "text": [
      "Uploaded image to: s3://psycore-document-images-445644858344/BDUK_SF_EVAL_ANNEX_B_ECONOMIC_IMPACTS/image_2.jpg\n"
     ]
    },
    {
     "name": "stderr",
     "output_type": "stream",
     "text": [
      "2025-04-23 14:00:31,095 - httpx - INFO - HTTP Request: POST http://127.0.0.1:11434/api/chat \"HTTP/1.1 200 OK\"\n"
     ]
    },
    {
     "name": "stdout",
     "output_type": "stream",
     "text": [
      "Uploaded image to: s3://psycore-document-images-445644858344/BDUK_SF_EVAL_ANNEX_B_ECONOMIC_IMPACTS/image_3.jpg\n"
     ]
    },
    {
     "name": "stderr",
     "output_type": "stream",
     "text": [
      "2025-04-23 14:00:36,094 - httpx - INFO - HTTP Request: POST http://127.0.0.1:11434/api/chat \"HTTP/1.1 200 OK\"\n"
     ]
    },
    {
     "name": "stdout",
     "output_type": "stream",
     "text": [
      "Uploaded image to: s3://psycore-document-images-445644858344/BDUK_SF_EVAL_ANNEX_B_ECONOMIC_IMPACTS/image_4.jpg\n"
     ]
    },
    {
     "name": "stderr",
     "output_type": "stream",
     "text": [
      "2025-04-23 14:00:40,879 - httpx - INFO - HTTP Request: POST http://127.0.0.1:11434/api/chat \"HTTP/1.1 200 OK\"\n",
      "Some weights of the model checkpoint at dbmdz/bert-large-cased-finetuned-conll03-english were not used when initializing BertForTokenClassification: ['bert.pooler.dense.bias', 'bert.pooler.dense.weight']\n",
      "- This IS expected if you are initializing BertForTokenClassification from the checkpoint of a model trained on another task or with another architecture (e.g. initializing a BertForSequenceClassification model from a BertForPreTraining model).\n",
      "- This IS NOT expected if you are initializing BertForTokenClassification from the checkpoint of a model that you expect to be exactly identical (initializing a BertForSequenceClassification model from a BertForSequenceClassification model).\n",
      "Device set to use cpu\n"
     ]
    },
    {
     "name": "stdout",
     "output_type": "stream",
     "text": [
      "Uploaded knowledge graph to: s3://psycore-document-graphs-445644858344/BDUK_SF_EVAL_ANNEX_B_ECONOMIC_IMPACTS/knowledge_graph.json\n",
      "✓ Successfully processed BDUK_SF_EVAL_ANNEX_B_ECONOMIC_IMPACTS.pdf\n",
      "  - 4 images uploaded to psycore-document-images-445644858344\n",
      "\n",
      "Processing PDF 27/75: BDUK_SF_EVAL_ANNEX_C_-_SUBJECTIVE_WELLBEING_ANALYSIS_-_EXECUTIVE_SUMMARY.pdf\n",
      "\n",
      "Processing completed in 0.07 seconds\n",
      "Success: True\n",
      "Extracted text: Yes\n",
      "Images extracted: 2\n",
      "Results saved to: c:\\Users\\Student\\Documents\\University\\Fifth Year\\COM4520\\Psycore\\jupyter_testing\\processed_pdfs\\BDUK_SF_EVAL_ANNEX_C_-_SUBJECTIVE_WELLBEING_ANALYSIS_-_EXECUTIVE_SUMMARY_pdf\n",
      "Uploaded image to: s3://psycore-document-images-445644858344/BDUK_SF_EVAL_ANNEX_C_-_SUBJECTIVE_WELLBEING_ANALYSIS_-_EXECUTIVE_SUMMARY/image_1.jpg\n"
     ]
    },
    {
     "name": "stderr",
     "output_type": "stream",
     "text": [
      "2025-04-23 14:40:43,526 - httpx - INFO - HTTP Request: POST http://127.0.0.1:11434/api/chat \"HTTP/1.1 200 OK\"\n"
     ]
    },
    {
     "name": "stdout",
     "output_type": "stream",
     "text": [
      "✗ Error processing BDUK_SF_EVAL_ANNEX_C_-_SUBJECTIVE_WELLBEING_ANALYSIS_-_EXECUTIVE_SUMMARY.pdf: Could not connect to the endpoint URL: \"https://psycore-document-images-445644858344.s3.eu-west-2.amazonaws.com/BDUK_SF_EVAL_ANNEX_C_-_SUBJECTIVE_WELLBEING_ANALYSIS_-_EXECUTIVE_SUMMARY/image_2.jpg\"\n",
      "\n",
      "Processing PDF 28/75: BDUK_SF_EVAL_ANNEX_C_-_SUBJECTIVE_WELLBEING_ANALYSIS_-_TECHNICAL_REPORT.pdf\n",
      "✗ Error processing BDUK_SF_EVAL_ANNEX_C_-_SUBJECTIVE_WELLBEING_ANALYSIS_-_TECHNICAL_REPORT.pdf: Could not connect to the endpoint URL: \"https://psycore-documents-445644858344.s3.eu-west-2.amazonaws.com/BDUK_SF_EVAL_ANNEX_C_-_SUBJECTIVE_WELLBEING_ANALYSIS_-_TECHNICAL_REPORT.pdf\"\n",
      "\n",
      "Processing PDF 29/75: BDUK_SF_EVAL_ANNEX_D_PUBLIC_VALUE.pdf\n",
      "✗ Error processing BDUK_SF_EVAL_ANNEX_D_PUBLIC_VALUE.pdf: Could not connect to the endpoint URL: \"https://psycore-documents-445644858344.s3.eu-west-2.amazonaws.com/BDUK_SF_EVAL_ANNEX_D_PUBLIC_VALUE.pdf\"\n",
      "\n",
      "Processing PDF 30/75: BDUK_SF_EVAL_ANNEX_E_CBA.pdf\n",
      "✗ Error processing BDUK_SF_EVAL_ANNEX_E_CBA.pdf: Could not connect to the endpoint URL: \"https://psycore-documents-445644858344.s3.eu-west-2.amazonaws.com/BDUK_SF_EVAL_ANNEX_E_CBA.pdf\"\n",
      "\n",
      "Processing PDF 31/75: BDUK_Vouchers_Evaluation_Impacts_and_Value_for_Money_Assessment_-_Full_Technical_Report.pdf\n",
      "✗ Error processing BDUK_Vouchers_Evaluation_Impacts_and_Value_for_Money_Assessment_-_Full_Technical_Report.pdf: Could not connect to the endpoint URL: \"https://psycore-documents-445644858344.s3.eu-west-2.amazonaws.com/BDUK_Vouchers_Evaluation_Impacts_and_Value_for_Money_Assessment_-_Full_Technical_Report.pdf\"\n",
      "\n",
      "Processing PDF 32/75: BDUK_Vouchers_Evaluation_Impacts_and_Value_for_Money_Assessment_-_Summary_Report.pdf\n",
      "✗ Error processing BDUK_Vouchers_Evaluation_Impacts_and_Value_for_Money_Assessment_-_Summary_Report.pdf: Could not connect to the endpoint URL: \"https://psycore-documents-445644858344.s3.eu-west-2.amazonaws.com/BDUK_Vouchers_Evaluation_Impacts_and_Value_for_Money_Assessment_-_Summary_Report.pdf\"\n",
      "\n",
      "Processing PDF 33/75: BDUK_Vouchers_Evaluation_Report_v9.0_FINAL__1_-_accessible__1_.pdf\n",
      "✗ Error processing BDUK_Vouchers_Evaluation_Report_v9.0_FINAL__1_-_accessible__1_.pdf: Could not connect to the endpoint URL: \"https://psycore-documents-445644858344.s3.eu-west-2.amazonaws.com/BDUK_Vouchers_Evaluation_Report_v9.0_FINAL__1_-_accessible__1_.pdf\"\n",
      "\n",
      "Processing PDF 34/75: BDUK_pilot_report_WorkstreamD_V7.pdf\n",
      "✗ Error processing BDUK_pilot_report_WorkstreamD_V7.pdf: Could not connect to the endpoint URL: \"https://psycore-documents-445644858344.s3.eu-west-2.amazonaws.com/BDUK_pilot_report_WorkstreamD_V7.pdf\"\n",
      "\n",
      "Processing PDF 35/75: Broadband_Delivery_UK_State_aid_consultation_Market_Testing_Pilot_Intervention_Areas_Second_Wave.pdf\n",
      "✗ Error processing Broadband_Delivery_UK_State_aid_consultation_Market_Testing_Pilot_Intervention_Areas_Second_Wave.pdf: Could not connect to the endpoint URL: \"https://psycore-documents-445644858344.s3.eu-west-2.amazonaws.com/Broadband_Delivery_UK_State_aid_consultation_Market_Testing_Pilot_Intervention_Areas_Second_Wave.pdf\"\n",
      "\n",
      "Processing PDF 36/75: CYM_-_GigaHubs_Assurance_Overview__Welsh_.pdf\n",
      "✗ Error processing CYM_-_GigaHubs_Assurance_Overview__Welsh_.pdf: Could not connect to the endpoint URL: \"https://psycore-documents-445644858344.s3.eu-west-2.amazonaws.com/CYM_-_GigaHubs_Assurance_Overview__Welsh_.pdf\"\n",
      "\n",
      "Processing PDF 37/75: CYM_-_Gigahubs_Toolkit__-_Initiation_Checklist__Welsh_.pdf\n",
      "✗ Error processing CYM_-_Gigahubs_Toolkit__-_Initiation_Checklist__Welsh_.pdf: Could not connect to the endpoint URL: \"https://psycore-documents-445644858344.s3.eu-west-2.amazonaws.com/CYM_-_Gigahubs_Toolkit__-_Initiation_Checklist__Welsh_.pdf\"\n",
      "\n",
      "Processing PDF 38/75: Callflow_Extension_-_state_aid_consultation_document_v1-1_FINAL2.pdf\n",
      "✗ Error processing Callflow_Extension_-_state_aid_consultation_document_v1-1_FINAL2.pdf: Could not connect to the endpoint URL: \"https://psycore-documents-445644858344.s3.eu-west-2.amazonaws.com/Callflow_Extension_-_state_aid_consultation_document_v1-1_FINAL2.pdf\"\n",
      "\n",
      "Processing PDF 39/75: Connection_Voucher_Scheme_Impact_and_Benefit_Study_-_August_2017_PDF.pdf\n",
      "✗ Error processing Connection_Voucher_Scheme_Impact_and_Benefit_Study_-_August_2017_PDF.pdf: Could not connect to the endpoint URL: \"https://psycore-documents-445644858344.s3.eu-west-2.amazonaws.com/Connection_Voucher_Scheme_Impact_and_Benefit_Study_-_August_2017_PDF.pdf\"\n",
      "\n",
      "Processing PDF 40/75: DCMS_Gigahubs_Toolkit_SEPT21_v3..pdf\n",
      "✗ Error processing DCMS_Gigahubs_Toolkit_SEPT21_v3..pdf: Could not connect to the endpoint URL: \"https://psycore-documents-445644858344.s3.eu-west-2.amazonaws.com/DCMS_Gigahubs_Toolkit_SEPT21_v3..pdf\"\n",
      "\n",
      "Processing PDF 41/75: DCMS_Gigahubs_Toolkit_SEPT21_v3__Welsh_.pdf\n",
      "✗ Error processing DCMS_Gigahubs_Toolkit_SEPT21_v3__Welsh_.pdf: Could not connect to the endpoint URL: \"https://psycore-documents-445644858344.s3.eu-west-2.amazonaws.com/DCMS_Gigahubs_Toolkit_SEPT21_v3__Welsh_.pdf\"\n",
      "\n",
      "Processing PDF 42/75: DCMS_Superfast_Findings_Briefing_v1.pdf\n",
      "✗ Error processing DCMS_Superfast_Findings_Briefing_v1.pdf: Could not connect to the endpoint URL: \"https://psycore-documents-445644858344.s3.eu-west-2.amazonaws.com/DCMS_Superfast_Findings_Briefing_v1.pdf\"\n",
      "\n",
      "Processing PDF 43/75: DPS_supplier_guide.pdf\n",
      "✗ Error processing DPS_supplier_guide.pdf: Could not connect to the endpoint URL: \"https://psycore-documents-445644858344.s3.eu-west-2.amazonaws.com/DPS_supplier_guide.pdf\"\n",
      "\n",
      "Processing PDF 44/75: First_Release_of_Phase_2_-_OMR_RFI_Template_V3.0.pdf\n",
      "✗ Error processing First_Release_of_Phase_2_-_OMR_RFI_Template_V3.0.pdf: Could not connect to the endpoint URL: \"https://psycore-documents-445644858344.s3.eu-west-2.amazonaws.com/First_Release_of_Phase_2_-_OMR_RFI_Template_V3.0.pdf\"\n",
      "\n",
      "Processing PDF 45/75: Future_Telecoms_Infrastructure_Review.pdf\n",
      "✗ Error processing Future_Telecoms_Infrastructure_Review.pdf: Could not connect to the endpoint URL: \"https://psycore-documents-445644858344.s3.eu-west-2.amazonaws.com/Future_Telecoms_Infrastructure_Review.pdf\"\n",
      "\n",
      "Processing PDF 46/75: GigaHubs_Assurance_Overview.pdf\n",
      "✗ Error processing GigaHubs_Assurance_Overview.pdf: Could not connect to the endpoint URL: \"https://psycore-documents-445644858344.s3.eu-west-2.amazonaws.com/GigaHubs_Assurance_Overview.pdf\"\n",
      "\n",
      "Processing PDF 47/75: GigaHubs_Subsidy_Control_v0.5_18.08.21.pdf\n",
      "✗ Error processing GigaHubs_Subsidy_Control_v0.5_18.08.21.pdf: Could not connect to the endpoint URL: \"https://psycore-documents-445644858344.s3.eu-west-2.amazonaws.com/GigaHubs_Subsidy_Control_v0.5_18.08.21.pdf\"\n",
      "\n",
      "Processing PDF 48/75: Gigahubs_Toolkit_Initiation_Checklist_.pdf\n",
      "✗ Error processing Gigahubs_Toolkit_Initiation_Checklist_.pdf: Could not connect to the endpoint URL: \"https://psycore-documents-445644858344.s3.eu-west-2.amazonaws.com/Gigahubs_Toolkit_Initiation_Checklist_.pdf\"\n",
      "\n",
      "Processing PDF 49/75: Gov.uk_upload_-_Superfast_Broadband_State_Aid_Evaluation_main_report_redacted_for_publication_with_alt_text_v1.pdf\n",
      "✗ Error processing Gov.uk_upload_-_Superfast_Broadband_State_Aid_Evaluation_main_report_redacted_for_publication_with_alt_text_v1.pdf: Could not connect to the endpoint URL: \"https://psycore-documents-445644858344.s3.eu-west-2.amazonaws.com/Gov.uk_upload_-_Superfast_Broadband_State_Aid_Evaluation_main_report_redacted_for_publication_with_alt_text_v1.pdf\"\n",
      "\n",
      "Processing PDF 50/75: Gov.uk_upload_-_Superfast_Broadband_State_Aid_Evaluation_main_report_redacted_for_publication_with_alt_text_v1_1.pdf\n",
      "✗ Error processing Gov.uk_upload_-_Superfast_Broadband_State_Aid_Evaluation_main_report_redacted_for_publication_with_alt_text_v1_1.pdf: Could not connect to the endpoint URL: \"https://psycore-documents-445644858344.s3.eu-west-2.amazonaws.com/Gov.uk_upload_-_Superfast_Broadband_State_Aid_Evaluation_main_report_redacted_for_publication_with_alt_text_v1_1.pdf\"\n",
      "\n",
      "Processing PDF 51/75: Hampshire_and_Isle_of_Wight_Public_Review_PR_RFI_Launch_-_Template_V2.pdf\n",
      "✗ Error processing Hampshire_and_Isle_of_Wight_Public_Review_PR_RFI_Launch_-_Template_V2.pdf: Could not connect to the endpoint URL: \"https://psycore-documents-445644858344.s3.eu-west-2.amazonaws.com/Hampshire_and_Isle_of_Wight_Public_Review_PR_RFI_Launch_-_Template_V2.pdf\"\n",
      "\n",
      "Processing PDF 52/75: LFFN_interim_evaluation_combined_report_revisedV4.3__upload_version_.pdf\n",
      "✗ Error processing LFFN_interim_evaluation_combined_report_revisedV4.3__upload_version_.pdf: Could not connect to the endpoint URL: \"https://psycore-documents-445644858344.s3.eu-west-2.amazonaws.com/LFFN_interim_evaluation_combined_report_revisedV4.3__upload_version_.pdf\"\n",
      "\n",
      "Processing PDF 53/75: MIP_Impact_and_Benefits_Report.pdf\n",
      "✗ Error processing MIP_Impact_and_Benefits_Report.pdf: Could not connect to the endpoint URL: \"https://psycore-documents-445644858344.s3.eu-west-2.amazonaws.com/MIP_Impact_and_Benefits_Report.pdf\"\n",
      "\n",
      "Processing PDF 54/75: MTP_state_aid_consultation_document_Fourth_Wave_v1-1.pdf\n",
      "✗ Error processing MTP_state_aid_consultation_document_Fourth_Wave_v1-1.pdf: Could not connect to the endpoint URL: \"https://psycore-documents-445644858344.s3.eu-west-2.amazonaws.com/MTP_state_aid_consultation_document_Fourth_Wave_v1-1.pdf\"\n",
      "\n",
      "Processing PDF 55/75: MTP_state_aid_consultation_document_Third_Wave_v1-1.pdf\n",
      "✗ Error processing MTP_state_aid_consultation_document_Third_Wave_v1-1.pdf: Could not connect to the endpoint URL: \"https://psycore-documents-445644858344.s3.eu-west-2.amazonaws.com/MTP_state_aid_consultation_document_Third_Wave_v1-1.pdf\"\n",
      "\n",
      "Processing PDF 56/75: MTP_state_aid_consultation_document_v1-1.pdf\n",
      "✗ Error processing MTP_state_aid_consultation_document_v1-1.pdf: Could not connect to the endpoint URL: \"https://psycore-documents-445644858344.s3.eu-west-2.amazonaws.com/MTP_state_aid_consultation_document_v1-1.pdf\"\n",
      "\n",
      "Processing PDF 57/75: New_Build_Developments_Impact_Assessment_FINAL.pdf\n",
      "✗ Error processing New_Build_Developments_Impact_Assessment_FINAL.pdf: Could not connect to the endpoint URL: \"https://psycore-documents-445644858344.s3.eu-west-2.amazonaws.com/New_Build_Developments_Impact_Assessment_FINAL.pdf\"\n",
      "\n",
      "Processing PDF 58/75: New_Build_Developments__HMG_consultation_response.pdf\n",
      "✗ Error processing New_Build_Developments__HMG_consultation_response.pdf: Could not connect to the endpoint URL: \"https://psycore-documents-445644858344.s3.eu-west-2.amazonaws.com/New_Build_Developments__HMG_consultation_response.pdf\"\n",
      "\n",
      "Processing PDF 59/75: Norfolk_Public_Review_PR_RFI_Launch__Template_V2_.pdf\n",
      "✗ Error processing Norfolk_Public_Review_PR_RFI_Launch__Template_V2_.pdf: Could not connect to the endpoint URL: \"https://psycore-documents-445644858344.s3.eu-west-2.amazonaws.com/Norfolk_Public_Review_PR_RFI_Launch__Template_V2_.pdf\"\n",
      "\n",
      "Processing PDF 60/75: Project_Gigabit__Autumn_Update-complete.pdf\n",
      "✗ Error processing Project_Gigabit__Autumn_Update-complete.pdf: Could not connect to the endpoint URL: \"https://psycore-documents-445644858344.s3.eu-west-2.amazonaws.com/Project_Gigabit__Autumn_Update-complete.pdf\"\n",
      "\n",
      "Processing PDF 61/75: Project_Gigabit__PHASE_ONE_DELIVERY_PLAN_v3.pdf\n",
      "✗ Error processing Project_Gigabit__PHASE_ONE_DELIVERY_PLAN_v3.pdf: Could not connect to the endpoint URL: \"https://psycore-documents-445644858344.s3.eu-west-2.amazonaws.com/Project_Gigabit__PHASE_ONE_DELIVERY_PLAN_v3.pdf\"\n",
      "\n",
      "Processing PDF 62/75: Project_Gigabit__Summer_Update_Accessible_PDF_2_Aug_2021__1_.pdf\n",
      "✗ Error processing Project_Gigabit__Summer_Update_Accessible_PDF_2_Aug_2021__1_.pdf: Could not connect to the endpoint URL: \"https://psycore-documents-445644858344.s3.eu-west-2.amazonaws.com/Project_Gigabit__Summer_Update_Accessible_PDF_2_Aug_2021__1_.pdf\"\n",
      "\n",
      "Processing PDF 63/75: SlidePack_HubsSchoolSurvey_20231212_Accessible__1_.pdf\n",
      "✗ Error processing SlidePack_HubsSchoolSurvey_20231212_Accessible__1_.pdf: Could not connect to the endpoint URL: \"https://psycore-documents-445644858344.s3.eu-west-2.amazonaws.com/SlidePack_HubsSchoolSurvey_20231212_Accessible__1_.pdf\"\n",
      "\n",
      "Processing PDF 64/75: Street_Works_Toolkit_2.0.pdf\n",
      "✗ Error processing Street_Works_Toolkit_2.0.pdf: Could not connect to the endpoint URL: \"https://psycore-documents-445644858344.s3.eu-west-2.amazonaws.com/Street_Works_Toolkit_2.0.pdf\"\n",
      "\n",
      "Processing PDF 65/75: Street_Works_Toolkit_2.0_1.pdf\n",
      "✗ Error processing Street_Works_Toolkit_2.0_1.pdf: Could not connect to the endpoint URL: \"https://psycore-documents-445644858344.s3.eu-west-2.amazonaws.com/Street_Works_Toolkit_2.0_1.pdf\"\n",
      "\n",
      "Processing PDF 66/75: Superfast_Broadband_Programme_final_process_evaluation.pdf\n",
      "✗ Error processing Superfast_Broadband_Programme_final_process_evaluation.pdf: Could not connect to the endpoint URL: \"https://psycore-documents-445644858344.s3.eu-west-2.amazonaws.com/Superfast_Broadband_Programme_final_process_evaluation.pdf\"\n",
      "\n",
      "Processing PDF 67/75: Superfast_Broadband_evaluation_sythesis_report.pdf\n",
      "✗ Error processing Superfast_Broadband_evaluation_sythesis_report.pdf: Could not connect to the endpoint URL: \"https://psycore-documents-445644858344.s3.eu-west-2.amazonaws.com/Superfast_Broadband_evaluation_sythesis_report.pdf\"\n",
      "\n",
      "Processing PDF 68/75: Superfast_Broadband_summary_slidepack.pdf\n",
      "✗ Error processing Superfast_Broadband_summary_slidepack.pdf: Could not connect to the endpoint URL: \"https://psycore-documents-445644858344.s3.eu-west-2.amazonaws.com/Superfast_Broadband_summary_slidepack.pdf\"\n",
      "\n",
      "Processing PDF 69/75: Superfast_Integrated_Report.pdf\n",
      "✗ Error processing Superfast_Integrated_Report.pdf: Could not connect to the endpoint URL: \"https://psycore-documents-445644858344.s3.eu-west-2.amazonaws.com/Superfast_Integrated_Report.pdf\"\n",
      "\n",
      "Processing PDF 70/75: Technical_Appendix_1_Reducing_the_Digital_Divide_V2.pdf\n",
      "✗ Error processing Technical_Appendix_1_Reducing_the_Digital_Divide_V2.pdf: Could not connect to the endpoint URL: \"https://psycore-documents-445644858344.s3.eu-west-2.amazonaws.com/Technical_Appendix_1_Reducing_the_Digital_Divide_V2.pdf\"\n",
      "\n",
      "Processing PDF 71/75: Technical_Appendix_2_Financial_Analysis_V2.pdf\n",
      "\n",
      "Processing completed in 1.75 seconds\n",
      "Success: True\n",
      "Extracted text: Yes\n",
      "Images extracted: 2\n",
      "Results saved to: c:\\Users\\Student\\Documents\\University\\Fifth Year\\COM4520\\Psycore\\jupyter_testing\\processed_pdfs\\Technical_Appendix_2_Financial_Analysis_V2_pdf\n",
      "Uploaded image to: s3://psycore-document-images-445644858344/Technical_Appendix_2_Financial_Analysis_V2/image_1.jpg\n"
     ]
    },
    {
     "name": "stderr",
     "output_type": "stream",
     "text": [
      "2025-04-23 14:47:11,634 - httpx - INFO - HTTP Request: POST http://127.0.0.1:11434/api/chat \"HTTP/1.1 200 OK\"\n"
     ]
    },
    {
     "name": "stdout",
     "output_type": "stream",
     "text": [
      "Uploaded image to: s3://psycore-document-images-445644858344/Technical_Appendix_2_Financial_Analysis_V2/image_2.jpg\n"
     ]
    },
    {
     "name": "stderr",
     "output_type": "stream",
     "text": [
      "2025-04-23 14:47:22,619 - httpx - INFO - HTTP Request: POST http://127.0.0.1:11434/api/chat \"HTTP/1.1 200 OK\"\n",
      "Some weights of the model checkpoint at dbmdz/bert-large-cased-finetuned-conll03-english were not used when initializing BertForTokenClassification: ['bert.pooler.dense.bias', 'bert.pooler.dense.weight']\n",
      "- This IS expected if you are initializing BertForTokenClassification from the checkpoint of a model trained on another task or with another architecture (e.g. initializing a BertForSequenceClassification model from a BertForPreTraining model).\n",
      "- This IS NOT expected if you are initializing BertForTokenClassification from the checkpoint of a model that you expect to be exactly identical (initializing a BertForSequenceClassification model from a BertForSequenceClassification model).\n",
      "Device set to use cpu\n"
     ]
    },
    {
     "name": "stdout",
     "output_type": "stream",
     "text": [
      "Uploaded knowledge graph to: s3://psycore-document-graphs-445644858344/Technical_Appendix_2_Financial_Analysis_V2/knowledge_graph.json\n",
      "✓ Successfully processed Technical_Appendix_2_Financial_Analysis_V2.pdf\n",
      "  - 2 images uploaded to psycore-document-images-445644858344\n",
      "\n",
      "Processing PDF 72/75: Technical_Appendix_3_Cost_Benefit_Analysis_V2.pdf\n",
      "\n",
      "Processing completed in 2.20 seconds\n",
      "Success: True\n",
      "Extracted text: Yes\n",
      "Images extracted: 1\n",
      "Results saved to: c:\\Users\\Student\\Documents\\University\\Fifth Year\\COM4520\\Psycore\\jupyter_testing\\processed_pdfs\\Technical_Appendix_3_Cost_Benefit_Analysis_V2_pdf\n",
      "Uploaded image to: s3://psycore-document-images-445644858344/Technical_Appendix_3_Cost_Benefit_Analysis_V2/image_1.jpg\n"
     ]
    },
    {
     "name": "stderr",
     "output_type": "stream",
     "text": [
      "2025-04-23 14:54:16,198 - httpx - INFO - HTTP Request: POST http://127.0.0.1:11434/api/chat \"HTTP/1.1 200 OK\"\n",
      "Some weights of the model checkpoint at dbmdz/bert-large-cased-finetuned-conll03-english were not used when initializing BertForTokenClassification: ['bert.pooler.dense.bias', 'bert.pooler.dense.weight']\n",
      "- This IS expected if you are initializing BertForTokenClassification from the checkpoint of a model trained on another task or with another architecture (e.g. initializing a BertForSequenceClassification model from a BertForPreTraining model).\n",
      "- This IS NOT expected if you are initializing BertForTokenClassification from the checkpoint of a model that you expect to be exactly identical (initializing a BertForSequenceClassification model from a BertForSequenceClassification model).\n",
      "Device set to use cpu\n"
     ]
    },
    {
     "ename": "KeyboardInterrupt",
     "evalue": "",
     "output_type": "error",
     "traceback": [
      "\u001b[1;31m---------------------------------------------------------------------------\u001b[0m",
      "\u001b[1;31mKeyboardInterrupt\u001b[0m                         Traceback (most recent call last)",
      "Cell \u001b[1;32mIn[262], line 17\u001b[0m\n\u001b[0;32m     15\u001b[0m \u001b[38;5;28mprint\u001b[39m(\u001b[38;5;124mf\u001b[39m\u001b[38;5;124m\"\u001b[39m\u001b[38;5;130;01m\\n\u001b[39;00m\u001b[38;5;124mProcessing PDF \u001b[39m\u001b[38;5;132;01m{\u001b[39;00mi\u001b[38;5;241m+\u001b[39m\u001b[38;5;241m1\u001b[39m\u001b[38;5;132;01m}\u001b[39;00m\u001b[38;5;124m/\u001b[39m\u001b[38;5;132;01m{\u001b[39;00m\u001b[38;5;28mlen\u001b[39m(pdf_files)\u001b[38;5;132;01m}\u001b[39;00m\u001b[38;5;124m: \u001b[39m\u001b[38;5;132;01m{\u001b[39;00mpdf_file[\u001b[38;5;124m'\u001b[39m\u001b[38;5;124mkey\u001b[39m\u001b[38;5;124m'\u001b[39m]\u001b[38;5;132;01m}\u001b[39;00m\u001b[38;5;124m\"\u001b[39m)\n\u001b[0;32m     16\u001b[0m \u001b[38;5;28;01mtry\u001b[39;00m:\n\u001b[1;32m---> 17\u001b[0m     result \u001b[38;5;241m=\u001b[39m \u001b[43mprocess_pdf_from_s3\u001b[49m\u001b[43m(\u001b[49m\u001b[43ms3_client\u001b[49m\u001b[43m,\u001b[49m\u001b[43m \u001b[49m\u001b[43mSOURCE_BUCKET\u001b[49m\u001b[43m,\u001b[49m\u001b[43m \u001b[49m\u001b[43mpdf_file\u001b[49m\u001b[43m[\u001b[49m\u001b[38;5;124;43m'\u001b[39;49m\u001b[38;5;124;43mkey\u001b[39;49m\u001b[38;5;124;43m'\u001b[39;49m\u001b[43m]\u001b[49m\u001b[43m,\u001b[49m\u001b[43m \u001b[49m\u001b[43mOUTPUT_DIR\u001b[49m\u001b[43m,\u001b[49m\u001b[43m \u001b[49m\u001b[43mmodel\u001b[49m\u001b[43m)\u001b[49m\n\u001b[0;32m     18\u001b[0m     \u001b[38;5;28;01mif\u001b[39;00m result \u001b[38;5;129;01mand\u001b[39;00m result[\u001b[38;5;124m'\u001b[39m\u001b[38;5;124msuccess\u001b[39m\u001b[38;5;124m'\u001b[39m]:\n\u001b[0;32m     19\u001b[0m         \u001b[38;5;28mprint\u001b[39m(\u001b[38;5;124mf\u001b[39m\u001b[38;5;124m\"\u001b[39m\u001b[38;5;124m✓ Successfully processed \u001b[39m\u001b[38;5;132;01m{\u001b[39;00mpdf_file[\u001b[38;5;124m'\u001b[39m\u001b[38;5;124mkey\u001b[39m\u001b[38;5;124m'\u001b[39m]\u001b[38;5;132;01m}\u001b[39;00m\u001b[38;5;124m\"\u001b[39m)\n",
      "Cell \u001b[1;32mIn[259], line 74\u001b[0m, in \u001b[0;36mprocess_pdf_from_s3\u001b[1;34m(s3_client, bucket_name, s3_key, output_dir, model)\u001b[0m\n\u001b[0;32m     71\u001b[0m     doc_text \u001b[38;5;241m=\u001b[39m f\u001b[38;5;241m.\u001b[39mread()\n\u001b[0;32m     73\u001b[0m \u001b[38;5;66;03m# Create knowledge graph\u001b[39;00m\n\u001b[1;32m---> 74\u001b[0m graph \u001b[38;5;241m=\u001b[39m \u001b[43mextract_knowledge_graph\u001b[49m\u001b[43m(\u001b[49m\u001b[43mdoc_text\u001b[49m\u001b[43m,\u001b[49m\u001b[43m \u001b[49m\u001b[43mimage_analyses\u001b[49m\u001b[43m)\u001b[49m\n\u001b[0;32m     76\u001b[0m \u001b[38;5;66;03m# Save graph data\u001b[39;00m\n\u001b[0;32m     77\u001b[0m graph_data \u001b[38;5;241m=\u001b[39m {\n\u001b[0;32m     78\u001b[0m     \u001b[38;5;124m\"\u001b[39m\u001b[38;5;124mnodes\u001b[39m\u001b[38;5;124m\"\u001b[39m: [\n\u001b[0;32m     79\u001b[0m         {\n\u001b[1;32m   (...)\u001b[0m\n\u001b[0;32m    103\u001b[0m     }\n\u001b[0;32m    104\u001b[0m }\n",
      "Cell \u001b[1;32mIn[253], line 37\u001b[0m, in \u001b[0;36mextract_knowledge_graph\u001b[1;34m(text, image_analyses)\u001b[0m\n\u001b[0;32m     35\u001b[0m         \u001b[38;5;28;01mcontinue\u001b[39;00m\n\u001b[0;32m     36\u001b[0m     \u001b[38;5;66;03m# Process chunk and merge with main graph\u001b[39;00m\n\u001b[1;32m---> 37\u001b[0m     chunk_graph \u001b[38;5;241m=\u001b[39m \u001b[43mkg_transformer\u001b[49m\u001b[38;5;241;43m.\u001b[39;49m\u001b[43mprocess_text\u001b[49m\u001b[43m(\u001b[49m\u001b[43mchunk\u001b[49m\u001b[43m)\u001b[49m\n\u001b[0;32m     38\u001b[0m     graph \u001b[38;5;241m=\u001b[39m nx\u001b[38;5;241m.\u001b[39mcompose(graph, chunk_graph)\n\u001b[0;32m     40\u001b[0m \u001b[38;5;66;03m# Process image analyses\u001b[39;00m\n",
      "File \u001b[1;32mc:\\Users\\Student\\Documents\\University\\Fifth Year\\COM4520\\Psycore\\src\\interaction\\knowledge_graphs.py:156\u001b[0m, in \u001b[0;36mBERTKGTransformer.process_text\u001b[1;34m(self, text)\u001b[0m\n\u001b[0;32m    146\u001b[0m \u001b[38;5;250m\u001b[39m\u001b[38;5;124;03m\"\"\"\u001b[39;00m\n\u001b[0;32m    147\u001b[0m \u001b[38;5;124;03mProcess text to create a knowledge graph.\u001b[39;00m\n\u001b[0;32m    148\u001b[0m \u001b[38;5;124;03m\u001b[39;00m\n\u001b[1;32m   (...)\u001b[0m\n\u001b[0;32m    153\u001b[0m \u001b[38;5;124;03m    NetworkX directed graph representing the knowledge graph\u001b[39;00m\n\u001b[0;32m    154\u001b[0m \u001b[38;5;124;03m\"\"\"\u001b[39;00m\n\u001b[0;32m    155\u001b[0m \u001b[38;5;66;03m# Extract entities\u001b[39;00m\n\u001b[1;32m--> 156\u001b[0m entities \u001b[38;5;241m=\u001b[39m \u001b[38;5;28;43mself\u001b[39;49m\u001b[38;5;241;43m.\u001b[39;49m\u001b[43mextract_entities\u001b[49m\u001b[43m(\u001b[49m\u001b[43mtext\u001b[49m\u001b[43m)\u001b[49m\n\u001b[0;32m    158\u001b[0m \u001b[38;5;66;03m# Add entities as nodes\u001b[39;00m\n\u001b[0;32m    159\u001b[0m \u001b[38;5;28;01mfor\u001b[39;00m entity \u001b[38;5;129;01min\u001b[39;00m entities:\n",
      "File \u001b[1;32mc:\\Users\\Student\\Documents\\University\\Fifth Year\\COM4520\\Psycore\\src\\interaction\\knowledge_graphs.py:80\u001b[0m, in \u001b[0;36mBERTKGTransformer.extract_entities\u001b[1;34m(self, text)\u001b[0m\n\u001b[0;32m     70\u001b[0m \u001b[38;5;250m\u001b[39m\u001b[38;5;124;03m\"\"\"\u001b[39;00m\n\u001b[0;32m     71\u001b[0m \u001b[38;5;124;03mExtract named entities from text using BERT.\u001b[39;00m\n\u001b[0;32m     72\u001b[0m \u001b[38;5;124;03m\u001b[39;00m\n\u001b[1;32m   (...)\u001b[0m\n\u001b[0;32m     77\u001b[0m \u001b[38;5;124;03m    List of dictionaries containing entity information\u001b[39;00m\n\u001b[0;32m     78\u001b[0m \u001b[38;5;124;03m\"\"\"\u001b[39;00m\n\u001b[0;32m     79\u001b[0m \u001b[38;5;66;03m# Get NER predictions\u001b[39;00m\n\u001b[1;32m---> 80\u001b[0m ner_results \u001b[38;5;241m=\u001b[39m \u001b[38;5;28;43mself\u001b[39;49m\u001b[38;5;241;43m.\u001b[39;49m\u001b[43mner_pipeline\u001b[49m\u001b[43m(\u001b[49m\u001b[43mtext\u001b[49m\u001b[43m)\u001b[49m\n\u001b[0;32m     82\u001b[0m \u001b[38;5;66;03m# Group consecutive tokens with same entity type\u001b[39;00m\n\u001b[0;32m     83\u001b[0m entities \u001b[38;5;241m=\u001b[39m []\n",
      "File \u001b[1;32mc:\\Users\\Student\\Documents\\University\\Fifth Year\\COM4520\\Psycore\\.venv\\Lib\\site-packages\\transformers\\pipelines\\token_classification.py:250\u001b[0m, in \u001b[0;36mTokenClassificationPipeline.__call__\u001b[1;34m(self, inputs, **kwargs)\u001b[0m\n\u001b[0;32m    247\u001b[0m \u001b[38;5;28;01mif\u001b[39;00m offset_mapping:\n\u001b[0;32m    248\u001b[0m     kwargs[\u001b[38;5;124m\"\u001b[39m\u001b[38;5;124moffset_mapping\u001b[39m\u001b[38;5;124m\"\u001b[39m] \u001b[38;5;241m=\u001b[39m offset_mapping\n\u001b[1;32m--> 250\u001b[0m \u001b[38;5;28;01mreturn\u001b[39;00m \u001b[38;5;28;43msuper\u001b[39;49m\u001b[43m(\u001b[49m\u001b[43m)\u001b[49m\u001b[38;5;241;43m.\u001b[39;49m\u001b[38;5;21;43m__call__\u001b[39;49m\u001b[43m(\u001b[49m\u001b[43minputs\u001b[49m\u001b[43m,\u001b[49m\u001b[43m \u001b[49m\u001b[38;5;241;43m*\u001b[39;49m\u001b[38;5;241;43m*\u001b[39;49m\u001b[43mkwargs\u001b[49m\u001b[43m)\u001b[49m\n",
      "File \u001b[1;32mc:\\Users\\Student\\Documents\\University\\Fifth Year\\COM4520\\Psycore\\.venv\\Lib\\site-packages\\transformers\\pipelines\\base.py:1354\u001b[0m, in \u001b[0;36mPipeline.__call__\u001b[1;34m(self, inputs, num_workers, batch_size, *args, **kwargs)\u001b[0m\n\u001b[0;32m   1352\u001b[0m     \u001b[38;5;28;01mreturn\u001b[39;00m \u001b[38;5;28mself\u001b[39m\u001b[38;5;241m.\u001b[39miterate(inputs, preprocess_params, forward_params, postprocess_params)\n\u001b[0;32m   1353\u001b[0m \u001b[38;5;28;01melif\u001b[39;00m \u001b[38;5;28mself\u001b[39m\u001b[38;5;241m.\u001b[39mframework \u001b[38;5;241m==\u001b[39m \u001b[38;5;124m\"\u001b[39m\u001b[38;5;124mpt\u001b[39m\u001b[38;5;124m\"\u001b[39m \u001b[38;5;129;01mand\u001b[39;00m \u001b[38;5;28misinstance\u001b[39m(\u001b[38;5;28mself\u001b[39m, ChunkPipeline):\n\u001b[1;32m-> 1354\u001b[0m     \u001b[38;5;28;01mreturn\u001b[39;00m \u001b[38;5;28;43mnext\u001b[39;49m\u001b[43m(\u001b[49m\n\u001b[0;32m   1355\u001b[0m \u001b[43m        \u001b[49m\u001b[38;5;28;43miter\u001b[39;49m\u001b[43m(\u001b[49m\n\u001b[0;32m   1356\u001b[0m \u001b[43m            \u001b[49m\u001b[38;5;28;43mself\u001b[39;49m\u001b[38;5;241;43m.\u001b[39;49m\u001b[43mget_iterator\u001b[49m\u001b[43m(\u001b[49m\n\u001b[0;32m   1357\u001b[0m \u001b[43m                \u001b[49m\u001b[43m[\u001b[49m\u001b[43minputs\u001b[49m\u001b[43m]\u001b[49m\u001b[43m,\u001b[49m\u001b[43m \u001b[49m\u001b[43mnum_workers\u001b[49m\u001b[43m,\u001b[49m\u001b[43m \u001b[49m\u001b[43mbatch_size\u001b[49m\u001b[43m,\u001b[49m\u001b[43m \u001b[49m\u001b[43mpreprocess_params\u001b[49m\u001b[43m,\u001b[49m\u001b[43m \u001b[49m\u001b[43mforward_params\u001b[49m\u001b[43m,\u001b[49m\u001b[43m \u001b[49m\u001b[43mpostprocess_params\u001b[49m\n\u001b[0;32m   1358\u001b[0m \u001b[43m            \u001b[49m\u001b[43m)\u001b[49m\n\u001b[0;32m   1359\u001b[0m \u001b[43m        \u001b[49m\u001b[43m)\u001b[49m\n\u001b[0;32m   1360\u001b[0m \u001b[43m    \u001b[49m\u001b[43m)\u001b[49m\n\u001b[0;32m   1361\u001b[0m \u001b[38;5;28;01melse\u001b[39;00m:\n\u001b[0;32m   1362\u001b[0m     \u001b[38;5;28;01mreturn\u001b[39;00m \u001b[38;5;28mself\u001b[39m\u001b[38;5;241m.\u001b[39mrun_single(inputs, preprocess_params, forward_params, postprocess_params)\n",
      "File \u001b[1;32mc:\\Users\\Student\\Documents\\University\\Fifth Year\\COM4520\\Psycore\\.venv\\Lib\\site-packages\\transformers\\pipelines\\pt_utils.py:124\u001b[0m, in \u001b[0;36mPipelineIterator.__next__\u001b[1;34m(self)\u001b[0m\n\u001b[0;32m    121\u001b[0m     \u001b[38;5;28;01mreturn\u001b[39;00m \u001b[38;5;28mself\u001b[39m\u001b[38;5;241m.\u001b[39mloader_batch_item()\n\u001b[0;32m    123\u001b[0m \u001b[38;5;66;03m# We're out of items within a batch\u001b[39;00m\n\u001b[1;32m--> 124\u001b[0m item \u001b[38;5;241m=\u001b[39m \u001b[38;5;28;43mnext\u001b[39;49m\u001b[43m(\u001b[49m\u001b[38;5;28;43mself\u001b[39;49m\u001b[38;5;241;43m.\u001b[39;49m\u001b[43miterator\u001b[49m\u001b[43m)\u001b[49m\n\u001b[0;32m    125\u001b[0m processed \u001b[38;5;241m=\u001b[39m \u001b[38;5;28mself\u001b[39m\u001b[38;5;241m.\u001b[39minfer(item, \u001b[38;5;241m*\u001b[39m\u001b[38;5;241m*\u001b[39m\u001b[38;5;28mself\u001b[39m\u001b[38;5;241m.\u001b[39mparams)\n\u001b[0;32m    126\u001b[0m \u001b[38;5;66;03m# We now have a batch of \"inferred things\".\u001b[39;00m\n",
      "File \u001b[1;32mc:\\Users\\Student\\Documents\\University\\Fifth Year\\COM4520\\Psycore\\.venv\\Lib\\site-packages\\transformers\\pipelines\\pt_utils.py:269\u001b[0m, in \u001b[0;36mPipelinePackIterator.__next__\u001b[1;34m(self)\u001b[0m\n\u001b[0;32m    266\u001b[0m             \u001b[38;5;28;01mreturn\u001b[39;00m accumulator\n\u001b[0;32m    268\u001b[0m \u001b[38;5;28;01mwhile\u001b[39;00m \u001b[38;5;129;01mnot\u001b[39;00m is_last:\n\u001b[1;32m--> 269\u001b[0m     processed \u001b[38;5;241m=\u001b[39m \u001b[38;5;28;43mself\u001b[39;49m\u001b[38;5;241;43m.\u001b[39;49m\u001b[43minfer\u001b[49m\u001b[43m(\u001b[49m\u001b[38;5;28;43mnext\u001b[39;49m\u001b[43m(\u001b[49m\u001b[38;5;28;43mself\u001b[39;49m\u001b[38;5;241;43m.\u001b[39;49m\u001b[43miterator\u001b[49m\u001b[43m)\u001b[49m\u001b[43m,\u001b[49m\u001b[43m \u001b[49m\u001b[38;5;241;43m*\u001b[39;49m\u001b[38;5;241;43m*\u001b[39;49m\u001b[38;5;28;43mself\u001b[39;49m\u001b[38;5;241;43m.\u001b[39;49m\u001b[43mparams\u001b[49m\u001b[43m)\u001b[49m\n\u001b[0;32m    270\u001b[0m     \u001b[38;5;28;01mif\u001b[39;00m \u001b[38;5;28mself\u001b[39m\u001b[38;5;241m.\u001b[39mloader_batch_size \u001b[38;5;129;01mis\u001b[39;00m \u001b[38;5;129;01mnot\u001b[39;00m \u001b[38;5;28;01mNone\u001b[39;00m:\n\u001b[0;32m    271\u001b[0m         \u001b[38;5;28;01mif\u001b[39;00m \u001b[38;5;28misinstance\u001b[39m(processed, torch\u001b[38;5;241m.\u001b[39mTensor):\n",
      "File \u001b[1;32mc:\\Users\\Student\\Documents\\University\\Fifth Year\\COM4520\\Psycore\\.venv\\Lib\\site-packages\\transformers\\pipelines\\base.py:1269\u001b[0m, in \u001b[0;36mPipeline.forward\u001b[1;34m(self, model_inputs, **forward_params)\u001b[0m\n\u001b[0;32m   1267\u001b[0m     \u001b[38;5;28;01mwith\u001b[39;00m inference_context():\n\u001b[0;32m   1268\u001b[0m         model_inputs \u001b[38;5;241m=\u001b[39m \u001b[38;5;28mself\u001b[39m\u001b[38;5;241m.\u001b[39m_ensure_tensor_on_device(model_inputs, device\u001b[38;5;241m=\u001b[39m\u001b[38;5;28mself\u001b[39m\u001b[38;5;241m.\u001b[39mdevice)\n\u001b[1;32m-> 1269\u001b[0m         model_outputs \u001b[38;5;241m=\u001b[39m \u001b[38;5;28;43mself\u001b[39;49m\u001b[38;5;241;43m.\u001b[39;49m\u001b[43m_forward\u001b[49m\u001b[43m(\u001b[49m\u001b[43mmodel_inputs\u001b[49m\u001b[43m,\u001b[49m\u001b[43m \u001b[49m\u001b[38;5;241;43m*\u001b[39;49m\u001b[38;5;241;43m*\u001b[39;49m\u001b[43mforward_params\u001b[49m\u001b[43m)\u001b[49m\n\u001b[0;32m   1270\u001b[0m         model_outputs \u001b[38;5;241m=\u001b[39m \u001b[38;5;28mself\u001b[39m\u001b[38;5;241m.\u001b[39m_ensure_tensor_on_device(model_outputs, device\u001b[38;5;241m=\u001b[39mtorch\u001b[38;5;241m.\u001b[39mdevice(\u001b[38;5;124m\"\u001b[39m\u001b[38;5;124mcpu\u001b[39m\u001b[38;5;124m\"\u001b[39m))\n\u001b[0;32m   1271\u001b[0m \u001b[38;5;28;01melse\u001b[39;00m:\n",
      "File \u001b[1;32mc:\\Users\\Student\\Documents\\University\\Fifth Year\\COM4520\\Psycore\\.venv\\Lib\\site-packages\\transformers\\pipelines\\token_classification.py:287\u001b[0m, in \u001b[0;36mTokenClassificationPipeline._forward\u001b[1;34m(self, model_inputs)\u001b[0m\n\u001b[0;32m    285\u001b[0m     logits \u001b[38;5;241m=\u001b[39m \u001b[38;5;28mself\u001b[39m\u001b[38;5;241m.\u001b[39mmodel(\u001b[38;5;241m*\u001b[39m\u001b[38;5;241m*\u001b[39mmodel_inputs)[\u001b[38;5;241m0\u001b[39m]\n\u001b[0;32m    286\u001b[0m \u001b[38;5;28;01melse\u001b[39;00m:\n\u001b[1;32m--> 287\u001b[0m     output \u001b[38;5;241m=\u001b[39m \u001b[38;5;28;43mself\u001b[39;49m\u001b[38;5;241;43m.\u001b[39;49m\u001b[43mmodel\u001b[49m\u001b[43m(\u001b[49m\u001b[38;5;241;43m*\u001b[39;49m\u001b[38;5;241;43m*\u001b[39;49m\u001b[43mmodel_inputs\u001b[49m\u001b[43m)\u001b[49m\n\u001b[0;32m    288\u001b[0m     logits \u001b[38;5;241m=\u001b[39m output[\u001b[38;5;124m\"\u001b[39m\u001b[38;5;124mlogits\u001b[39m\u001b[38;5;124m\"\u001b[39m] \u001b[38;5;28;01mif\u001b[39;00m \u001b[38;5;28misinstance\u001b[39m(output, \u001b[38;5;28mdict\u001b[39m) \u001b[38;5;28;01melse\u001b[39;00m output[\u001b[38;5;241m0\u001b[39m]\n\u001b[0;32m    290\u001b[0m \u001b[38;5;28;01mreturn\u001b[39;00m {\n\u001b[0;32m    291\u001b[0m     \u001b[38;5;124m\"\u001b[39m\u001b[38;5;124mlogits\u001b[39m\u001b[38;5;124m\"\u001b[39m: logits,\n\u001b[0;32m    292\u001b[0m     \u001b[38;5;124m\"\u001b[39m\u001b[38;5;124mspecial_tokens_mask\u001b[39m\u001b[38;5;124m\"\u001b[39m: special_tokens_mask,\n\u001b[1;32m   (...)\u001b[0m\n\u001b[0;32m    296\u001b[0m     \u001b[38;5;241m*\u001b[39m\u001b[38;5;241m*\u001b[39mmodel_inputs,\n\u001b[0;32m    297\u001b[0m }\n",
      "File \u001b[1;32mc:\\Users\\Student\\Documents\\University\\Fifth Year\\COM4520\\Psycore\\.venv\\Lib\\site-packages\\torch\\nn\\modules\\module.py:1739\u001b[0m, in \u001b[0;36mModule._wrapped_call_impl\u001b[1;34m(self, *args, **kwargs)\u001b[0m\n\u001b[0;32m   1737\u001b[0m     \u001b[38;5;28;01mreturn\u001b[39;00m \u001b[38;5;28mself\u001b[39m\u001b[38;5;241m.\u001b[39m_compiled_call_impl(\u001b[38;5;241m*\u001b[39margs, \u001b[38;5;241m*\u001b[39m\u001b[38;5;241m*\u001b[39mkwargs)  \u001b[38;5;66;03m# type: ignore[misc]\u001b[39;00m\n\u001b[0;32m   1738\u001b[0m \u001b[38;5;28;01melse\u001b[39;00m:\n\u001b[1;32m-> 1739\u001b[0m     \u001b[38;5;28;01mreturn\u001b[39;00m \u001b[38;5;28;43mself\u001b[39;49m\u001b[38;5;241;43m.\u001b[39;49m\u001b[43m_call_impl\u001b[49m\u001b[43m(\u001b[49m\u001b[38;5;241;43m*\u001b[39;49m\u001b[43margs\u001b[49m\u001b[43m,\u001b[49m\u001b[43m \u001b[49m\u001b[38;5;241;43m*\u001b[39;49m\u001b[38;5;241;43m*\u001b[39;49m\u001b[43mkwargs\u001b[49m\u001b[43m)\u001b[49m\n",
      "File \u001b[1;32mc:\\Users\\Student\\Documents\\University\\Fifth Year\\COM4520\\Psycore\\.venv\\Lib\\site-packages\\torch\\nn\\modules\\module.py:1750\u001b[0m, in \u001b[0;36mModule._call_impl\u001b[1;34m(self, *args, **kwargs)\u001b[0m\n\u001b[0;32m   1745\u001b[0m \u001b[38;5;66;03m# If we don't have any hooks, we want to skip the rest of the logic in\u001b[39;00m\n\u001b[0;32m   1746\u001b[0m \u001b[38;5;66;03m# this function, and just call forward.\u001b[39;00m\n\u001b[0;32m   1747\u001b[0m \u001b[38;5;28;01mif\u001b[39;00m \u001b[38;5;129;01mnot\u001b[39;00m (\u001b[38;5;28mself\u001b[39m\u001b[38;5;241m.\u001b[39m_backward_hooks \u001b[38;5;129;01mor\u001b[39;00m \u001b[38;5;28mself\u001b[39m\u001b[38;5;241m.\u001b[39m_backward_pre_hooks \u001b[38;5;129;01mor\u001b[39;00m \u001b[38;5;28mself\u001b[39m\u001b[38;5;241m.\u001b[39m_forward_hooks \u001b[38;5;129;01mor\u001b[39;00m \u001b[38;5;28mself\u001b[39m\u001b[38;5;241m.\u001b[39m_forward_pre_hooks\n\u001b[0;32m   1748\u001b[0m         \u001b[38;5;129;01mor\u001b[39;00m _global_backward_pre_hooks \u001b[38;5;129;01mor\u001b[39;00m _global_backward_hooks\n\u001b[0;32m   1749\u001b[0m         \u001b[38;5;129;01mor\u001b[39;00m _global_forward_hooks \u001b[38;5;129;01mor\u001b[39;00m _global_forward_pre_hooks):\n\u001b[1;32m-> 1750\u001b[0m     \u001b[38;5;28;01mreturn\u001b[39;00m \u001b[43mforward_call\u001b[49m\u001b[43m(\u001b[49m\u001b[38;5;241;43m*\u001b[39;49m\u001b[43margs\u001b[49m\u001b[43m,\u001b[49m\u001b[43m \u001b[49m\u001b[38;5;241;43m*\u001b[39;49m\u001b[38;5;241;43m*\u001b[39;49m\u001b[43mkwargs\u001b[49m\u001b[43m)\u001b[49m\n\u001b[0;32m   1752\u001b[0m result \u001b[38;5;241m=\u001b[39m \u001b[38;5;28;01mNone\u001b[39;00m\n\u001b[0;32m   1753\u001b[0m called_always_called_hooks \u001b[38;5;241m=\u001b[39m \u001b[38;5;28mset\u001b[39m()\n",
      "File \u001b[1;32mc:\\Users\\Student\\Documents\\University\\Fifth Year\\COM4520\\Psycore\\.venv\\Lib\\site-packages\\transformers\\models\\bert\\modeling_bert.py:1859\u001b[0m, in \u001b[0;36mBertForTokenClassification.forward\u001b[1;34m(self, input_ids, attention_mask, token_type_ids, position_ids, head_mask, inputs_embeds, labels, output_attentions, output_hidden_states, return_dict)\u001b[0m\n\u001b[0;32m   1853\u001b[0m \u001b[38;5;250m\u001b[39m\u001b[38;5;124mr\u001b[39m\u001b[38;5;124;03m\"\"\"\u001b[39;00m\n\u001b[0;32m   1854\u001b[0m \u001b[38;5;124;03mlabels (`torch.LongTensor` of shape `(batch_size, sequence_length)`, *optional*):\u001b[39;00m\n\u001b[0;32m   1855\u001b[0m \u001b[38;5;124;03m    Labels for computing the token classification loss. Indices should be in `[0, ..., config.num_labels - 1]`.\u001b[39;00m\n\u001b[0;32m   1856\u001b[0m \u001b[38;5;124;03m\"\"\"\u001b[39;00m\n\u001b[0;32m   1857\u001b[0m return_dict \u001b[38;5;241m=\u001b[39m return_dict \u001b[38;5;28;01mif\u001b[39;00m return_dict \u001b[38;5;129;01mis\u001b[39;00m \u001b[38;5;129;01mnot\u001b[39;00m \u001b[38;5;28;01mNone\u001b[39;00m \u001b[38;5;28;01melse\u001b[39;00m \u001b[38;5;28mself\u001b[39m\u001b[38;5;241m.\u001b[39mconfig\u001b[38;5;241m.\u001b[39muse_return_dict\n\u001b[1;32m-> 1859\u001b[0m outputs \u001b[38;5;241m=\u001b[39m \u001b[38;5;28;43mself\u001b[39;49m\u001b[38;5;241;43m.\u001b[39;49m\u001b[43mbert\u001b[49m\u001b[43m(\u001b[49m\n\u001b[0;32m   1860\u001b[0m \u001b[43m    \u001b[49m\u001b[43minput_ids\u001b[49m\u001b[43m,\u001b[49m\n\u001b[0;32m   1861\u001b[0m \u001b[43m    \u001b[49m\u001b[43mattention_mask\u001b[49m\u001b[38;5;241;43m=\u001b[39;49m\u001b[43mattention_mask\u001b[49m\u001b[43m,\u001b[49m\n\u001b[0;32m   1862\u001b[0m \u001b[43m    \u001b[49m\u001b[43mtoken_type_ids\u001b[49m\u001b[38;5;241;43m=\u001b[39;49m\u001b[43mtoken_type_ids\u001b[49m\u001b[43m,\u001b[49m\n\u001b[0;32m   1863\u001b[0m \u001b[43m    \u001b[49m\u001b[43mposition_ids\u001b[49m\u001b[38;5;241;43m=\u001b[39;49m\u001b[43mposition_ids\u001b[49m\u001b[43m,\u001b[49m\n\u001b[0;32m   1864\u001b[0m \u001b[43m    \u001b[49m\u001b[43mhead_mask\u001b[49m\u001b[38;5;241;43m=\u001b[39;49m\u001b[43mhead_mask\u001b[49m\u001b[43m,\u001b[49m\n\u001b[0;32m   1865\u001b[0m \u001b[43m    \u001b[49m\u001b[43minputs_embeds\u001b[49m\u001b[38;5;241;43m=\u001b[39;49m\u001b[43minputs_embeds\u001b[49m\u001b[43m,\u001b[49m\n\u001b[0;32m   1866\u001b[0m \u001b[43m    \u001b[49m\u001b[43moutput_attentions\u001b[49m\u001b[38;5;241;43m=\u001b[39;49m\u001b[43moutput_attentions\u001b[49m\u001b[43m,\u001b[49m\n\u001b[0;32m   1867\u001b[0m \u001b[43m    \u001b[49m\u001b[43moutput_hidden_states\u001b[49m\u001b[38;5;241;43m=\u001b[39;49m\u001b[43moutput_hidden_states\u001b[49m\u001b[43m,\u001b[49m\n\u001b[0;32m   1868\u001b[0m \u001b[43m    \u001b[49m\u001b[43mreturn_dict\u001b[49m\u001b[38;5;241;43m=\u001b[39;49m\u001b[43mreturn_dict\u001b[49m\u001b[43m,\u001b[49m\n\u001b[0;32m   1869\u001b[0m \u001b[43m\u001b[49m\u001b[43m)\u001b[49m\n\u001b[0;32m   1871\u001b[0m sequence_output \u001b[38;5;241m=\u001b[39m outputs[\u001b[38;5;241m0\u001b[39m]\n\u001b[0;32m   1873\u001b[0m sequence_output \u001b[38;5;241m=\u001b[39m \u001b[38;5;28mself\u001b[39m\u001b[38;5;241m.\u001b[39mdropout(sequence_output)\n",
      "File \u001b[1;32mc:\\Users\\Student\\Documents\\University\\Fifth Year\\COM4520\\Psycore\\.venv\\Lib\\site-packages\\torch\\nn\\modules\\module.py:1739\u001b[0m, in \u001b[0;36mModule._wrapped_call_impl\u001b[1;34m(self, *args, **kwargs)\u001b[0m\n\u001b[0;32m   1737\u001b[0m     \u001b[38;5;28;01mreturn\u001b[39;00m \u001b[38;5;28mself\u001b[39m\u001b[38;5;241m.\u001b[39m_compiled_call_impl(\u001b[38;5;241m*\u001b[39margs, \u001b[38;5;241m*\u001b[39m\u001b[38;5;241m*\u001b[39mkwargs)  \u001b[38;5;66;03m# type: ignore[misc]\u001b[39;00m\n\u001b[0;32m   1738\u001b[0m \u001b[38;5;28;01melse\u001b[39;00m:\n\u001b[1;32m-> 1739\u001b[0m     \u001b[38;5;28;01mreturn\u001b[39;00m \u001b[38;5;28;43mself\u001b[39;49m\u001b[38;5;241;43m.\u001b[39;49m\u001b[43m_call_impl\u001b[49m\u001b[43m(\u001b[49m\u001b[38;5;241;43m*\u001b[39;49m\u001b[43margs\u001b[49m\u001b[43m,\u001b[49m\u001b[43m \u001b[49m\u001b[38;5;241;43m*\u001b[39;49m\u001b[38;5;241;43m*\u001b[39;49m\u001b[43mkwargs\u001b[49m\u001b[43m)\u001b[49m\n",
      "File \u001b[1;32mc:\\Users\\Student\\Documents\\University\\Fifth Year\\COM4520\\Psycore\\.venv\\Lib\\site-packages\\torch\\nn\\modules\\module.py:1750\u001b[0m, in \u001b[0;36mModule._call_impl\u001b[1;34m(self, *args, **kwargs)\u001b[0m\n\u001b[0;32m   1745\u001b[0m \u001b[38;5;66;03m# If we don't have any hooks, we want to skip the rest of the logic in\u001b[39;00m\n\u001b[0;32m   1746\u001b[0m \u001b[38;5;66;03m# this function, and just call forward.\u001b[39;00m\n\u001b[0;32m   1747\u001b[0m \u001b[38;5;28;01mif\u001b[39;00m \u001b[38;5;129;01mnot\u001b[39;00m (\u001b[38;5;28mself\u001b[39m\u001b[38;5;241m.\u001b[39m_backward_hooks \u001b[38;5;129;01mor\u001b[39;00m \u001b[38;5;28mself\u001b[39m\u001b[38;5;241m.\u001b[39m_backward_pre_hooks \u001b[38;5;129;01mor\u001b[39;00m \u001b[38;5;28mself\u001b[39m\u001b[38;5;241m.\u001b[39m_forward_hooks \u001b[38;5;129;01mor\u001b[39;00m \u001b[38;5;28mself\u001b[39m\u001b[38;5;241m.\u001b[39m_forward_pre_hooks\n\u001b[0;32m   1748\u001b[0m         \u001b[38;5;129;01mor\u001b[39;00m _global_backward_pre_hooks \u001b[38;5;129;01mor\u001b[39;00m _global_backward_hooks\n\u001b[0;32m   1749\u001b[0m         \u001b[38;5;129;01mor\u001b[39;00m _global_forward_hooks \u001b[38;5;129;01mor\u001b[39;00m _global_forward_pre_hooks):\n\u001b[1;32m-> 1750\u001b[0m     \u001b[38;5;28;01mreturn\u001b[39;00m \u001b[43mforward_call\u001b[49m\u001b[43m(\u001b[49m\u001b[38;5;241;43m*\u001b[39;49m\u001b[43margs\u001b[49m\u001b[43m,\u001b[49m\u001b[43m \u001b[49m\u001b[38;5;241;43m*\u001b[39;49m\u001b[38;5;241;43m*\u001b[39;49m\u001b[43mkwargs\u001b[49m\u001b[43m)\u001b[49m\n\u001b[0;32m   1752\u001b[0m result \u001b[38;5;241m=\u001b[39m \u001b[38;5;28;01mNone\u001b[39;00m\n\u001b[0;32m   1753\u001b[0m called_always_called_hooks \u001b[38;5;241m=\u001b[39m \u001b[38;5;28mset\u001b[39m()\n",
      "File \u001b[1;32mc:\\Users\\Student\\Documents\\University\\Fifth Year\\COM4520\\Psycore\\.venv\\Lib\\site-packages\\transformers\\models\\bert\\modeling_bert.py:1142\u001b[0m, in \u001b[0;36mBertModel.forward\u001b[1;34m(self, input_ids, attention_mask, token_type_ids, position_ids, head_mask, inputs_embeds, encoder_hidden_states, encoder_attention_mask, past_key_values, use_cache, output_attentions, output_hidden_states, return_dict)\u001b[0m\n\u001b[0;32m   1135\u001b[0m \u001b[38;5;66;03m# Prepare head mask if needed\u001b[39;00m\n\u001b[0;32m   1136\u001b[0m \u001b[38;5;66;03m# 1.0 in head_mask indicate we keep the head\u001b[39;00m\n\u001b[0;32m   1137\u001b[0m \u001b[38;5;66;03m# attention_probs has shape bsz x n_heads x N x N\u001b[39;00m\n\u001b[0;32m   1138\u001b[0m \u001b[38;5;66;03m# input head_mask has shape [num_heads] or [num_hidden_layers x num_heads]\u001b[39;00m\n\u001b[0;32m   1139\u001b[0m \u001b[38;5;66;03m# and head_mask is converted to shape [num_hidden_layers x batch x num_heads x seq_length x seq_length]\u001b[39;00m\n\u001b[0;32m   1140\u001b[0m head_mask \u001b[38;5;241m=\u001b[39m \u001b[38;5;28mself\u001b[39m\u001b[38;5;241m.\u001b[39mget_head_mask(head_mask, \u001b[38;5;28mself\u001b[39m\u001b[38;5;241m.\u001b[39mconfig\u001b[38;5;241m.\u001b[39mnum_hidden_layers)\n\u001b[1;32m-> 1142\u001b[0m encoder_outputs \u001b[38;5;241m=\u001b[39m \u001b[38;5;28;43mself\u001b[39;49m\u001b[38;5;241;43m.\u001b[39;49m\u001b[43mencoder\u001b[49m\u001b[43m(\u001b[49m\n\u001b[0;32m   1143\u001b[0m \u001b[43m    \u001b[49m\u001b[43membedding_output\u001b[49m\u001b[43m,\u001b[49m\n\u001b[0;32m   1144\u001b[0m \u001b[43m    \u001b[49m\u001b[43mattention_mask\u001b[49m\u001b[38;5;241;43m=\u001b[39;49m\u001b[43mextended_attention_mask\u001b[49m\u001b[43m,\u001b[49m\n\u001b[0;32m   1145\u001b[0m \u001b[43m    \u001b[49m\u001b[43mhead_mask\u001b[49m\u001b[38;5;241;43m=\u001b[39;49m\u001b[43mhead_mask\u001b[49m\u001b[43m,\u001b[49m\n\u001b[0;32m   1146\u001b[0m \u001b[43m    \u001b[49m\u001b[43mencoder_hidden_states\u001b[49m\u001b[38;5;241;43m=\u001b[39;49m\u001b[43mencoder_hidden_states\u001b[49m\u001b[43m,\u001b[49m\n\u001b[0;32m   1147\u001b[0m \u001b[43m    \u001b[49m\u001b[43mencoder_attention_mask\u001b[49m\u001b[38;5;241;43m=\u001b[39;49m\u001b[43mencoder_extended_attention_mask\u001b[49m\u001b[43m,\u001b[49m\n\u001b[0;32m   1148\u001b[0m \u001b[43m    \u001b[49m\u001b[43mpast_key_values\u001b[49m\u001b[38;5;241;43m=\u001b[39;49m\u001b[43mpast_key_values\u001b[49m\u001b[43m,\u001b[49m\n\u001b[0;32m   1149\u001b[0m \u001b[43m    \u001b[49m\u001b[43muse_cache\u001b[49m\u001b[38;5;241;43m=\u001b[39;49m\u001b[43muse_cache\u001b[49m\u001b[43m,\u001b[49m\n\u001b[0;32m   1150\u001b[0m \u001b[43m    \u001b[49m\u001b[43moutput_attentions\u001b[49m\u001b[38;5;241;43m=\u001b[39;49m\u001b[43moutput_attentions\u001b[49m\u001b[43m,\u001b[49m\n\u001b[0;32m   1151\u001b[0m \u001b[43m    \u001b[49m\u001b[43moutput_hidden_states\u001b[49m\u001b[38;5;241;43m=\u001b[39;49m\u001b[43moutput_hidden_states\u001b[49m\u001b[43m,\u001b[49m\n\u001b[0;32m   1152\u001b[0m \u001b[43m    \u001b[49m\u001b[43mreturn_dict\u001b[49m\u001b[38;5;241;43m=\u001b[39;49m\u001b[43mreturn_dict\u001b[49m\u001b[43m,\u001b[49m\n\u001b[0;32m   1153\u001b[0m \u001b[43m\u001b[49m\u001b[43m)\u001b[49m\n\u001b[0;32m   1154\u001b[0m sequence_output \u001b[38;5;241m=\u001b[39m encoder_outputs[\u001b[38;5;241m0\u001b[39m]\n\u001b[0;32m   1155\u001b[0m pooled_output \u001b[38;5;241m=\u001b[39m \u001b[38;5;28mself\u001b[39m\u001b[38;5;241m.\u001b[39mpooler(sequence_output) \u001b[38;5;28;01mif\u001b[39;00m \u001b[38;5;28mself\u001b[39m\u001b[38;5;241m.\u001b[39mpooler \u001b[38;5;129;01mis\u001b[39;00m \u001b[38;5;129;01mnot\u001b[39;00m \u001b[38;5;28;01mNone\u001b[39;00m \u001b[38;5;28;01melse\u001b[39;00m \u001b[38;5;28;01mNone\u001b[39;00m\n",
      "File \u001b[1;32mc:\\Users\\Student\\Documents\\University\\Fifth Year\\COM4520\\Psycore\\.venv\\Lib\\site-packages\\torch\\nn\\modules\\module.py:1739\u001b[0m, in \u001b[0;36mModule._wrapped_call_impl\u001b[1;34m(self, *args, **kwargs)\u001b[0m\n\u001b[0;32m   1737\u001b[0m     \u001b[38;5;28;01mreturn\u001b[39;00m \u001b[38;5;28mself\u001b[39m\u001b[38;5;241m.\u001b[39m_compiled_call_impl(\u001b[38;5;241m*\u001b[39margs, \u001b[38;5;241m*\u001b[39m\u001b[38;5;241m*\u001b[39mkwargs)  \u001b[38;5;66;03m# type: ignore[misc]\u001b[39;00m\n\u001b[0;32m   1738\u001b[0m \u001b[38;5;28;01melse\u001b[39;00m:\n\u001b[1;32m-> 1739\u001b[0m     \u001b[38;5;28;01mreturn\u001b[39;00m \u001b[38;5;28;43mself\u001b[39;49m\u001b[38;5;241;43m.\u001b[39;49m\u001b[43m_call_impl\u001b[49m\u001b[43m(\u001b[49m\u001b[38;5;241;43m*\u001b[39;49m\u001b[43margs\u001b[49m\u001b[43m,\u001b[49m\u001b[43m \u001b[49m\u001b[38;5;241;43m*\u001b[39;49m\u001b[38;5;241;43m*\u001b[39;49m\u001b[43mkwargs\u001b[49m\u001b[43m)\u001b[49m\n",
      "File \u001b[1;32mc:\\Users\\Student\\Documents\\University\\Fifth Year\\COM4520\\Psycore\\.venv\\Lib\\site-packages\\torch\\nn\\modules\\module.py:1750\u001b[0m, in \u001b[0;36mModule._call_impl\u001b[1;34m(self, *args, **kwargs)\u001b[0m\n\u001b[0;32m   1745\u001b[0m \u001b[38;5;66;03m# If we don't have any hooks, we want to skip the rest of the logic in\u001b[39;00m\n\u001b[0;32m   1746\u001b[0m \u001b[38;5;66;03m# this function, and just call forward.\u001b[39;00m\n\u001b[0;32m   1747\u001b[0m \u001b[38;5;28;01mif\u001b[39;00m \u001b[38;5;129;01mnot\u001b[39;00m (\u001b[38;5;28mself\u001b[39m\u001b[38;5;241m.\u001b[39m_backward_hooks \u001b[38;5;129;01mor\u001b[39;00m \u001b[38;5;28mself\u001b[39m\u001b[38;5;241m.\u001b[39m_backward_pre_hooks \u001b[38;5;129;01mor\u001b[39;00m \u001b[38;5;28mself\u001b[39m\u001b[38;5;241m.\u001b[39m_forward_hooks \u001b[38;5;129;01mor\u001b[39;00m \u001b[38;5;28mself\u001b[39m\u001b[38;5;241m.\u001b[39m_forward_pre_hooks\n\u001b[0;32m   1748\u001b[0m         \u001b[38;5;129;01mor\u001b[39;00m _global_backward_pre_hooks \u001b[38;5;129;01mor\u001b[39;00m _global_backward_hooks\n\u001b[0;32m   1749\u001b[0m         \u001b[38;5;129;01mor\u001b[39;00m _global_forward_hooks \u001b[38;5;129;01mor\u001b[39;00m _global_forward_pre_hooks):\n\u001b[1;32m-> 1750\u001b[0m     \u001b[38;5;28;01mreturn\u001b[39;00m \u001b[43mforward_call\u001b[49m\u001b[43m(\u001b[49m\u001b[38;5;241;43m*\u001b[39;49m\u001b[43margs\u001b[49m\u001b[43m,\u001b[49m\u001b[43m \u001b[49m\u001b[38;5;241;43m*\u001b[39;49m\u001b[38;5;241;43m*\u001b[39;49m\u001b[43mkwargs\u001b[49m\u001b[43m)\u001b[49m\n\u001b[0;32m   1752\u001b[0m result \u001b[38;5;241m=\u001b[39m \u001b[38;5;28;01mNone\u001b[39;00m\n\u001b[0;32m   1753\u001b[0m called_always_called_hooks \u001b[38;5;241m=\u001b[39m \u001b[38;5;28mset\u001b[39m()\n",
      "File \u001b[1;32mc:\\Users\\Student\\Documents\\University\\Fifth Year\\COM4520\\Psycore\\.venv\\Lib\\site-packages\\transformers\\models\\bert\\modeling_bert.py:695\u001b[0m, in \u001b[0;36mBertEncoder.forward\u001b[1;34m(self, hidden_states, attention_mask, head_mask, encoder_hidden_states, encoder_attention_mask, past_key_values, use_cache, output_attentions, output_hidden_states, return_dict)\u001b[0m\n\u001b[0;32m    684\u001b[0m     layer_outputs \u001b[38;5;241m=\u001b[39m \u001b[38;5;28mself\u001b[39m\u001b[38;5;241m.\u001b[39m_gradient_checkpointing_func(\n\u001b[0;32m    685\u001b[0m         layer_module\u001b[38;5;241m.\u001b[39m\u001b[38;5;21m__call__\u001b[39m,\n\u001b[0;32m    686\u001b[0m         hidden_states,\n\u001b[1;32m   (...)\u001b[0m\n\u001b[0;32m    692\u001b[0m         output_attentions,\n\u001b[0;32m    693\u001b[0m     )\n\u001b[0;32m    694\u001b[0m \u001b[38;5;28;01melse\u001b[39;00m:\n\u001b[1;32m--> 695\u001b[0m     layer_outputs \u001b[38;5;241m=\u001b[39m \u001b[43mlayer_module\u001b[49m\u001b[43m(\u001b[49m\n\u001b[0;32m    696\u001b[0m \u001b[43m        \u001b[49m\u001b[43mhidden_states\u001b[49m\u001b[43m,\u001b[49m\n\u001b[0;32m    697\u001b[0m \u001b[43m        \u001b[49m\u001b[43mattention_mask\u001b[49m\u001b[43m,\u001b[49m\n\u001b[0;32m    698\u001b[0m \u001b[43m        \u001b[49m\u001b[43mlayer_head_mask\u001b[49m\u001b[43m,\u001b[49m\n\u001b[0;32m    699\u001b[0m \u001b[43m        \u001b[49m\u001b[43mencoder_hidden_states\u001b[49m\u001b[43m,\u001b[49m\n\u001b[0;32m    700\u001b[0m \u001b[43m        \u001b[49m\u001b[43mencoder_attention_mask\u001b[49m\u001b[43m,\u001b[49m\n\u001b[0;32m    701\u001b[0m \u001b[43m        \u001b[49m\u001b[43mpast_key_value\u001b[49m\u001b[43m,\u001b[49m\n\u001b[0;32m    702\u001b[0m \u001b[43m        \u001b[49m\u001b[43moutput_attentions\u001b[49m\u001b[43m,\u001b[49m\n\u001b[0;32m    703\u001b[0m \u001b[43m    \u001b[49m\u001b[43m)\u001b[49m\n\u001b[0;32m    705\u001b[0m hidden_states \u001b[38;5;241m=\u001b[39m layer_outputs[\u001b[38;5;241m0\u001b[39m]\n\u001b[0;32m    706\u001b[0m \u001b[38;5;28;01mif\u001b[39;00m use_cache:\n",
      "File \u001b[1;32mc:\\Users\\Student\\Documents\\University\\Fifth Year\\COM4520\\Psycore\\.venv\\Lib\\site-packages\\torch\\nn\\modules\\module.py:1739\u001b[0m, in \u001b[0;36mModule._wrapped_call_impl\u001b[1;34m(self, *args, **kwargs)\u001b[0m\n\u001b[0;32m   1737\u001b[0m     \u001b[38;5;28;01mreturn\u001b[39;00m \u001b[38;5;28mself\u001b[39m\u001b[38;5;241m.\u001b[39m_compiled_call_impl(\u001b[38;5;241m*\u001b[39margs, \u001b[38;5;241m*\u001b[39m\u001b[38;5;241m*\u001b[39mkwargs)  \u001b[38;5;66;03m# type: ignore[misc]\u001b[39;00m\n\u001b[0;32m   1738\u001b[0m \u001b[38;5;28;01melse\u001b[39;00m:\n\u001b[1;32m-> 1739\u001b[0m     \u001b[38;5;28;01mreturn\u001b[39;00m \u001b[38;5;28;43mself\u001b[39;49m\u001b[38;5;241;43m.\u001b[39;49m\u001b[43m_call_impl\u001b[49m\u001b[43m(\u001b[49m\u001b[38;5;241;43m*\u001b[39;49m\u001b[43margs\u001b[49m\u001b[43m,\u001b[49m\u001b[43m \u001b[49m\u001b[38;5;241;43m*\u001b[39;49m\u001b[38;5;241;43m*\u001b[39;49m\u001b[43mkwargs\u001b[49m\u001b[43m)\u001b[49m\n",
      "File \u001b[1;32mc:\\Users\\Student\\Documents\\University\\Fifth Year\\COM4520\\Psycore\\.venv\\Lib\\site-packages\\torch\\nn\\modules\\module.py:1750\u001b[0m, in \u001b[0;36mModule._call_impl\u001b[1;34m(self, *args, **kwargs)\u001b[0m\n\u001b[0;32m   1745\u001b[0m \u001b[38;5;66;03m# If we don't have any hooks, we want to skip the rest of the logic in\u001b[39;00m\n\u001b[0;32m   1746\u001b[0m \u001b[38;5;66;03m# this function, and just call forward.\u001b[39;00m\n\u001b[0;32m   1747\u001b[0m \u001b[38;5;28;01mif\u001b[39;00m \u001b[38;5;129;01mnot\u001b[39;00m (\u001b[38;5;28mself\u001b[39m\u001b[38;5;241m.\u001b[39m_backward_hooks \u001b[38;5;129;01mor\u001b[39;00m \u001b[38;5;28mself\u001b[39m\u001b[38;5;241m.\u001b[39m_backward_pre_hooks \u001b[38;5;129;01mor\u001b[39;00m \u001b[38;5;28mself\u001b[39m\u001b[38;5;241m.\u001b[39m_forward_hooks \u001b[38;5;129;01mor\u001b[39;00m \u001b[38;5;28mself\u001b[39m\u001b[38;5;241m.\u001b[39m_forward_pre_hooks\n\u001b[0;32m   1748\u001b[0m         \u001b[38;5;129;01mor\u001b[39;00m _global_backward_pre_hooks \u001b[38;5;129;01mor\u001b[39;00m _global_backward_hooks\n\u001b[0;32m   1749\u001b[0m         \u001b[38;5;129;01mor\u001b[39;00m _global_forward_hooks \u001b[38;5;129;01mor\u001b[39;00m _global_forward_pre_hooks):\n\u001b[1;32m-> 1750\u001b[0m     \u001b[38;5;28;01mreturn\u001b[39;00m \u001b[43mforward_call\u001b[49m\u001b[43m(\u001b[49m\u001b[38;5;241;43m*\u001b[39;49m\u001b[43margs\u001b[49m\u001b[43m,\u001b[49m\u001b[43m \u001b[49m\u001b[38;5;241;43m*\u001b[39;49m\u001b[38;5;241;43m*\u001b[39;49m\u001b[43mkwargs\u001b[49m\u001b[43m)\u001b[49m\n\u001b[0;32m   1752\u001b[0m result \u001b[38;5;241m=\u001b[39m \u001b[38;5;28;01mNone\u001b[39;00m\n\u001b[0;32m   1753\u001b[0m called_always_called_hooks \u001b[38;5;241m=\u001b[39m \u001b[38;5;28mset\u001b[39m()\n",
      "File \u001b[1;32mc:\\Users\\Student\\Documents\\University\\Fifth Year\\COM4520\\Psycore\\.venv\\Lib\\site-packages\\transformers\\models\\bert\\modeling_bert.py:585\u001b[0m, in \u001b[0;36mBertLayer.forward\u001b[1;34m(self, hidden_states, attention_mask, head_mask, encoder_hidden_states, encoder_attention_mask, past_key_value, output_attentions)\u001b[0m\n\u001b[0;32m    573\u001b[0m \u001b[38;5;28;01mdef\u001b[39;00m\u001b[38;5;250m \u001b[39m\u001b[38;5;21mforward\u001b[39m(\n\u001b[0;32m    574\u001b[0m     \u001b[38;5;28mself\u001b[39m,\n\u001b[0;32m    575\u001b[0m     hidden_states: torch\u001b[38;5;241m.\u001b[39mTensor,\n\u001b[1;32m   (...)\u001b[0m\n\u001b[0;32m    582\u001b[0m ) \u001b[38;5;241m-\u001b[39m\u001b[38;5;241m>\u001b[39m Tuple[torch\u001b[38;5;241m.\u001b[39mTensor]:\n\u001b[0;32m    583\u001b[0m     \u001b[38;5;66;03m# decoder uni-directional self-attention cached key/values tuple is at positions 1,2\u001b[39;00m\n\u001b[0;32m    584\u001b[0m     self_attn_past_key_value \u001b[38;5;241m=\u001b[39m past_key_value[:\u001b[38;5;241m2\u001b[39m] \u001b[38;5;28;01mif\u001b[39;00m past_key_value \u001b[38;5;129;01mis\u001b[39;00m \u001b[38;5;129;01mnot\u001b[39;00m \u001b[38;5;28;01mNone\u001b[39;00m \u001b[38;5;28;01melse\u001b[39;00m \u001b[38;5;28;01mNone\u001b[39;00m\n\u001b[1;32m--> 585\u001b[0m     self_attention_outputs \u001b[38;5;241m=\u001b[39m \u001b[38;5;28;43mself\u001b[39;49m\u001b[38;5;241;43m.\u001b[39;49m\u001b[43mattention\u001b[49m\u001b[43m(\u001b[49m\n\u001b[0;32m    586\u001b[0m \u001b[43m        \u001b[49m\u001b[43mhidden_states\u001b[49m\u001b[43m,\u001b[49m\n\u001b[0;32m    587\u001b[0m \u001b[43m        \u001b[49m\u001b[43mattention_mask\u001b[49m\u001b[43m,\u001b[49m\n\u001b[0;32m    588\u001b[0m \u001b[43m        \u001b[49m\u001b[43mhead_mask\u001b[49m\u001b[43m,\u001b[49m\n\u001b[0;32m    589\u001b[0m \u001b[43m        \u001b[49m\u001b[43moutput_attentions\u001b[49m\u001b[38;5;241;43m=\u001b[39;49m\u001b[43moutput_attentions\u001b[49m\u001b[43m,\u001b[49m\n\u001b[0;32m    590\u001b[0m \u001b[43m        \u001b[49m\u001b[43mpast_key_value\u001b[49m\u001b[38;5;241;43m=\u001b[39;49m\u001b[43mself_attn_past_key_value\u001b[49m\u001b[43m,\u001b[49m\n\u001b[0;32m    591\u001b[0m \u001b[43m    \u001b[49m\u001b[43m)\u001b[49m\n\u001b[0;32m    592\u001b[0m     attention_output \u001b[38;5;241m=\u001b[39m self_attention_outputs[\u001b[38;5;241m0\u001b[39m]\n\u001b[0;32m    594\u001b[0m     \u001b[38;5;66;03m# if decoder, the last output is tuple of self-attn cache\u001b[39;00m\n",
      "File \u001b[1;32mc:\\Users\\Student\\Documents\\University\\Fifth Year\\COM4520\\Psycore\\.venv\\Lib\\site-packages\\torch\\nn\\modules\\module.py:1739\u001b[0m, in \u001b[0;36mModule._wrapped_call_impl\u001b[1;34m(self, *args, **kwargs)\u001b[0m\n\u001b[0;32m   1737\u001b[0m     \u001b[38;5;28;01mreturn\u001b[39;00m \u001b[38;5;28mself\u001b[39m\u001b[38;5;241m.\u001b[39m_compiled_call_impl(\u001b[38;5;241m*\u001b[39margs, \u001b[38;5;241m*\u001b[39m\u001b[38;5;241m*\u001b[39mkwargs)  \u001b[38;5;66;03m# type: ignore[misc]\u001b[39;00m\n\u001b[0;32m   1738\u001b[0m \u001b[38;5;28;01melse\u001b[39;00m:\n\u001b[1;32m-> 1739\u001b[0m     \u001b[38;5;28;01mreturn\u001b[39;00m \u001b[38;5;28;43mself\u001b[39;49m\u001b[38;5;241;43m.\u001b[39;49m\u001b[43m_call_impl\u001b[49m\u001b[43m(\u001b[49m\u001b[38;5;241;43m*\u001b[39;49m\u001b[43margs\u001b[49m\u001b[43m,\u001b[49m\u001b[43m \u001b[49m\u001b[38;5;241;43m*\u001b[39;49m\u001b[38;5;241;43m*\u001b[39;49m\u001b[43mkwargs\u001b[49m\u001b[43m)\u001b[49m\n",
      "File \u001b[1;32mc:\\Users\\Student\\Documents\\University\\Fifth Year\\COM4520\\Psycore\\.venv\\Lib\\site-packages\\torch\\nn\\modules\\module.py:1750\u001b[0m, in \u001b[0;36mModule._call_impl\u001b[1;34m(self, *args, **kwargs)\u001b[0m\n\u001b[0;32m   1745\u001b[0m \u001b[38;5;66;03m# If we don't have any hooks, we want to skip the rest of the logic in\u001b[39;00m\n\u001b[0;32m   1746\u001b[0m \u001b[38;5;66;03m# this function, and just call forward.\u001b[39;00m\n\u001b[0;32m   1747\u001b[0m \u001b[38;5;28;01mif\u001b[39;00m \u001b[38;5;129;01mnot\u001b[39;00m (\u001b[38;5;28mself\u001b[39m\u001b[38;5;241m.\u001b[39m_backward_hooks \u001b[38;5;129;01mor\u001b[39;00m \u001b[38;5;28mself\u001b[39m\u001b[38;5;241m.\u001b[39m_backward_pre_hooks \u001b[38;5;129;01mor\u001b[39;00m \u001b[38;5;28mself\u001b[39m\u001b[38;5;241m.\u001b[39m_forward_hooks \u001b[38;5;129;01mor\u001b[39;00m \u001b[38;5;28mself\u001b[39m\u001b[38;5;241m.\u001b[39m_forward_pre_hooks\n\u001b[0;32m   1748\u001b[0m         \u001b[38;5;129;01mor\u001b[39;00m _global_backward_pre_hooks \u001b[38;5;129;01mor\u001b[39;00m _global_backward_hooks\n\u001b[0;32m   1749\u001b[0m         \u001b[38;5;129;01mor\u001b[39;00m _global_forward_hooks \u001b[38;5;129;01mor\u001b[39;00m _global_forward_pre_hooks):\n\u001b[1;32m-> 1750\u001b[0m     \u001b[38;5;28;01mreturn\u001b[39;00m \u001b[43mforward_call\u001b[49m\u001b[43m(\u001b[49m\u001b[38;5;241;43m*\u001b[39;49m\u001b[43margs\u001b[49m\u001b[43m,\u001b[49m\u001b[43m \u001b[49m\u001b[38;5;241;43m*\u001b[39;49m\u001b[38;5;241;43m*\u001b[39;49m\u001b[43mkwargs\u001b[49m\u001b[43m)\u001b[49m\n\u001b[0;32m   1752\u001b[0m result \u001b[38;5;241m=\u001b[39m \u001b[38;5;28;01mNone\u001b[39;00m\n\u001b[0;32m   1753\u001b[0m called_always_called_hooks \u001b[38;5;241m=\u001b[39m \u001b[38;5;28mset\u001b[39m()\n",
      "File \u001b[1;32mc:\\Users\\Student\\Documents\\University\\Fifth Year\\COM4520\\Psycore\\.venv\\Lib\\site-packages\\transformers\\models\\bert\\modeling_bert.py:515\u001b[0m, in \u001b[0;36mBertAttention.forward\u001b[1;34m(self, hidden_states, attention_mask, head_mask, encoder_hidden_states, encoder_attention_mask, past_key_value, output_attentions)\u001b[0m\n\u001b[0;32m    505\u001b[0m \u001b[38;5;28;01mdef\u001b[39;00m\u001b[38;5;250m \u001b[39m\u001b[38;5;21mforward\u001b[39m(\n\u001b[0;32m    506\u001b[0m     \u001b[38;5;28mself\u001b[39m,\n\u001b[0;32m    507\u001b[0m     hidden_states: torch\u001b[38;5;241m.\u001b[39mTensor,\n\u001b[1;32m   (...)\u001b[0m\n\u001b[0;32m    513\u001b[0m     output_attentions: Optional[\u001b[38;5;28mbool\u001b[39m] \u001b[38;5;241m=\u001b[39m \u001b[38;5;28;01mFalse\u001b[39;00m,\n\u001b[0;32m    514\u001b[0m ) \u001b[38;5;241m-\u001b[39m\u001b[38;5;241m>\u001b[39m Tuple[torch\u001b[38;5;241m.\u001b[39mTensor]:\n\u001b[1;32m--> 515\u001b[0m     self_outputs \u001b[38;5;241m=\u001b[39m \u001b[38;5;28;43mself\u001b[39;49m\u001b[38;5;241;43m.\u001b[39;49m\u001b[43mself\u001b[49m\u001b[43m(\u001b[49m\n\u001b[0;32m    516\u001b[0m \u001b[43m        \u001b[49m\u001b[43mhidden_states\u001b[49m\u001b[43m,\u001b[49m\n\u001b[0;32m    517\u001b[0m \u001b[43m        \u001b[49m\u001b[43mattention_mask\u001b[49m\u001b[43m,\u001b[49m\n\u001b[0;32m    518\u001b[0m \u001b[43m        \u001b[49m\u001b[43mhead_mask\u001b[49m\u001b[43m,\u001b[49m\n\u001b[0;32m    519\u001b[0m \u001b[43m        \u001b[49m\u001b[43mencoder_hidden_states\u001b[49m\u001b[43m,\u001b[49m\n\u001b[0;32m    520\u001b[0m \u001b[43m        \u001b[49m\u001b[43mencoder_attention_mask\u001b[49m\u001b[43m,\u001b[49m\n\u001b[0;32m    521\u001b[0m \u001b[43m        \u001b[49m\u001b[43mpast_key_value\u001b[49m\u001b[43m,\u001b[49m\n\u001b[0;32m    522\u001b[0m \u001b[43m        \u001b[49m\u001b[43moutput_attentions\u001b[49m\u001b[43m,\u001b[49m\n\u001b[0;32m    523\u001b[0m \u001b[43m    \u001b[49m\u001b[43m)\u001b[49m\n\u001b[0;32m    524\u001b[0m     attention_output \u001b[38;5;241m=\u001b[39m \u001b[38;5;28mself\u001b[39m\u001b[38;5;241m.\u001b[39moutput(self_outputs[\u001b[38;5;241m0\u001b[39m], hidden_states)\n\u001b[0;32m    525\u001b[0m     outputs \u001b[38;5;241m=\u001b[39m (attention_output,) \u001b[38;5;241m+\u001b[39m self_outputs[\u001b[38;5;241m1\u001b[39m:]  \u001b[38;5;66;03m# add attentions if we output them\u001b[39;00m\n",
      "File \u001b[1;32mc:\\Users\\Student\\Documents\\University\\Fifth Year\\COM4520\\Psycore\\.venv\\Lib\\site-packages\\torch\\nn\\modules\\module.py:1739\u001b[0m, in \u001b[0;36mModule._wrapped_call_impl\u001b[1;34m(self, *args, **kwargs)\u001b[0m\n\u001b[0;32m   1737\u001b[0m     \u001b[38;5;28;01mreturn\u001b[39;00m \u001b[38;5;28mself\u001b[39m\u001b[38;5;241m.\u001b[39m_compiled_call_impl(\u001b[38;5;241m*\u001b[39margs, \u001b[38;5;241m*\u001b[39m\u001b[38;5;241m*\u001b[39mkwargs)  \u001b[38;5;66;03m# type: ignore[misc]\u001b[39;00m\n\u001b[0;32m   1738\u001b[0m \u001b[38;5;28;01melse\u001b[39;00m:\n\u001b[1;32m-> 1739\u001b[0m     \u001b[38;5;28;01mreturn\u001b[39;00m \u001b[38;5;28;43mself\u001b[39;49m\u001b[38;5;241;43m.\u001b[39;49m\u001b[43m_call_impl\u001b[49m\u001b[43m(\u001b[49m\u001b[38;5;241;43m*\u001b[39;49m\u001b[43margs\u001b[49m\u001b[43m,\u001b[49m\u001b[43m \u001b[49m\u001b[38;5;241;43m*\u001b[39;49m\u001b[38;5;241;43m*\u001b[39;49m\u001b[43mkwargs\u001b[49m\u001b[43m)\u001b[49m\n",
      "File \u001b[1;32mc:\\Users\\Student\\Documents\\University\\Fifth Year\\COM4520\\Psycore\\.venv\\Lib\\site-packages\\torch\\nn\\modules\\module.py:1750\u001b[0m, in \u001b[0;36mModule._call_impl\u001b[1;34m(self, *args, **kwargs)\u001b[0m\n\u001b[0;32m   1745\u001b[0m \u001b[38;5;66;03m# If we don't have any hooks, we want to skip the rest of the logic in\u001b[39;00m\n\u001b[0;32m   1746\u001b[0m \u001b[38;5;66;03m# this function, and just call forward.\u001b[39;00m\n\u001b[0;32m   1747\u001b[0m \u001b[38;5;28;01mif\u001b[39;00m \u001b[38;5;129;01mnot\u001b[39;00m (\u001b[38;5;28mself\u001b[39m\u001b[38;5;241m.\u001b[39m_backward_hooks \u001b[38;5;129;01mor\u001b[39;00m \u001b[38;5;28mself\u001b[39m\u001b[38;5;241m.\u001b[39m_backward_pre_hooks \u001b[38;5;129;01mor\u001b[39;00m \u001b[38;5;28mself\u001b[39m\u001b[38;5;241m.\u001b[39m_forward_hooks \u001b[38;5;129;01mor\u001b[39;00m \u001b[38;5;28mself\u001b[39m\u001b[38;5;241m.\u001b[39m_forward_pre_hooks\n\u001b[0;32m   1748\u001b[0m         \u001b[38;5;129;01mor\u001b[39;00m _global_backward_pre_hooks \u001b[38;5;129;01mor\u001b[39;00m _global_backward_hooks\n\u001b[0;32m   1749\u001b[0m         \u001b[38;5;129;01mor\u001b[39;00m _global_forward_hooks \u001b[38;5;129;01mor\u001b[39;00m _global_forward_pre_hooks):\n\u001b[1;32m-> 1750\u001b[0m     \u001b[38;5;28;01mreturn\u001b[39;00m \u001b[43mforward_call\u001b[49m\u001b[43m(\u001b[49m\u001b[38;5;241;43m*\u001b[39;49m\u001b[43margs\u001b[49m\u001b[43m,\u001b[49m\u001b[43m \u001b[49m\u001b[38;5;241;43m*\u001b[39;49m\u001b[38;5;241;43m*\u001b[39;49m\u001b[43mkwargs\u001b[49m\u001b[43m)\u001b[49m\n\u001b[0;32m   1752\u001b[0m result \u001b[38;5;241m=\u001b[39m \u001b[38;5;28;01mNone\u001b[39;00m\n\u001b[0;32m   1753\u001b[0m called_always_called_hooks \u001b[38;5;241m=\u001b[39m \u001b[38;5;28mset\u001b[39m()\n",
      "File \u001b[1;32mc:\\Users\\Student\\Documents\\University\\Fifth Year\\COM4520\\Psycore\\.venv\\Lib\\site-packages\\transformers\\models\\bert\\modeling_bert.py:409\u001b[0m, in \u001b[0;36mBertSdpaSelfAttention.forward\u001b[1;34m(self, hidden_states, attention_mask, head_mask, encoder_hidden_states, encoder_attention_mask, past_key_value, output_attentions)\u001b[0m\n\u001b[0;32m    407\u001b[0m \u001b[38;5;28;01melse\u001b[39;00m:\n\u001b[0;32m    408\u001b[0m     key_layer \u001b[38;5;241m=\u001b[39m \u001b[38;5;28mself\u001b[39m\u001b[38;5;241m.\u001b[39mtranspose_for_scores(\u001b[38;5;28mself\u001b[39m\u001b[38;5;241m.\u001b[39mkey(current_states))\n\u001b[1;32m--> 409\u001b[0m     value_layer \u001b[38;5;241m=\u001b[39m \u001b[38;5;28mself\u001b[39m\u001b[38;5;241m.\u001b[39mtranspose_for_scores(\u001b[38;5;28;43mself\u001b[39;49m\u001b[38;5;241;43m.\u001b[39;49m\u001b[43mvalue\u001b[49m\u001b[43m(\u001b[49m\u001b[43mcurrent_states\u001b[49m\u001b[43m)\u001b[49m)\n\u001b[0;32m    410\u001b[0m     \u001b[38;5;28;01mif\u001b[39;00m past_key_value \u001b[38;5;129;01mis\u001b[39;00m \u001b[38;5;129;01mnot\u001b[39;00m \u001b[38;5;28;01mNone\u001b[39;00m \u001b[38;5;129;01mand\u001b[39;00m \u001b[38;5;129;01mnot\u001b[39;00m is_cross_attention:\n\u001b[0;32m    411\u001b[0m         key_layer \u001b[38;5;241m=\u001b[39m torch\u001b[38;5;241m.\u001b[39mcat([past_key_value[\u001b[38;5;241m0\u001b[39m], key_layer], dim\u001b[38;5;241m=\u001b[39m\u001b[38;5;241m2\u001b[39m)\n",
      "File \u001b[1;32mc:\\Users\\Student\\Documents\\University\\Fifth Year\\COM4520\\Psycore\\.venv\\Lib\\site-packages\\torch\\nn\\modules\\module.py:1739\u001b[0m, in \u001b[0;36mModule._wrapped_call_impl\u001b[1;34m(self, *args, **kwargs)\u001b[0m\n\u001b[0;32m   1737\u001b[0m     \u001b[38;5;28;01mreturn\u001b[39;00m \u001b[38;5;28mself\u001b[39m\u001b[38;5;241m.\u001b[39m_compiled_call_impl(\u001b[38;5;241m*\u001b[39margs, \u001b[38;5;241m*\u001b[39m\u001b[38;5;241m*\u001b[39mkwargs)  \u001b[38;5;66;03m# type: ignore[misc]\u001b[39;00m\n\u001b[0;32m   1738\u001b[0m \u001b[38;5;28;01melse\u001b[39;00m:\n\u001b[1;32m-> 1739\u001b[0m     \u001b[38;5;28;01mreturn\u001b[39;00m \u001b[38;5;28;43mself\u001b[39;49m\u001b[38;5;241;43m.\u001b[39;49m\u001b[43m_call_impl\u001b[49m\u001b[43m(\u001b[49m\u001b[38;5;241;43m*\u001b[39;49m\u001b[43margs\u001b[49m\u001b[43m,\u001b[49m\u001b[43m \u001b[49m\u001b[38;5;241;43m*\u001b[39;49m\u001b[38;5;241;43m*\u001b[39;49m\u001b[43mkwargs\u001b[49m\u001b[43m)\u001b[49m\n",
      "File \u001b[1;32mc:\\Users\\Student\\Documents\\University\\Fifth Year\\COM4520\\Psycore\\.venv\\Lib\\site-packages\\torch\\nn\\modules\\module.py:1750\u001b[0m, in \u001b[0;36mModule._call_impl\u001b[1;34m(self, *args, **kwargs)\u001b[0m\n\u001b[0;32m   1745\u001b[0m \u001b[38;5;66;03m# If we don't have any hooks, we want to skip the rest of the logic in\u001b[39;00m\n\u001b[0;32m   1746\u001b[0m \u001b[38;5;66;03m# this function, and just call forward.\u001b[39;00m\n\u001b[0;32m   1747\u001b[0m \u001b[38;5;28;01mif\u001b[39;00m \u001b[38;5;129;01mnot\u001b[39;00m (\u001b[38;5;28mself\u001b[39m\u001b[38;5;241m.\u001b[39m_backward_hooks \u001b[38;5;129;01mor\u001b[39;00m \u001b[38;5;28mself\u001b[39m\u001b[38;5;241m.\u001b[39m_backward_pre_hooks \u001b[38;5;129;01mor\u001b[39;00m \u001b[38;5;28mself\u001b[39m\u001b[38;5;241m.\u001b[39m_forward_hooks \u001b[38;5;129;01mor\u001b[39;00m \u001b[38;5;28mself\u001b[39m\u001b[38;5;241m.\u001b[39m_forward_pre_hooks\n\u001b[0;32m   1748\u001b[0m         \u001b[38;5;129;01mor\u001b[39;00m _global_backward_pre_hooks \u001b[38;5;129;01mor\u001b[39;00m _global_backward_hooks\n\u001b[0;32m   1749\u001b[0m         \u001b[38;5;129;01mor\u001b[39;00m _global_forward_hooks \u001b[38;5;129;01mor\u001b[39;00m _global_forward_pre_hooks):\n\u001b[1;32m-> 1750\u001b[0m     \u001b[38;5;28;01mreturn\u001b[39;00m \u001b[43mforward_call\u001b[49m\u001b[43m(\u001b[49m\u001b[38;5;241;43m*\u001b[39;49m\u001b[43margs\u001b[49m\u001b[43m,\u001b[49m\u001b[43m \u001b[49m\u001b[38;5;241;43m*\u001b[39;49m\u001b[38;5;241;43m*\u001b[39;49m\u001b[43mkwargs\u001b[49m\u001b[43m)\u001b[49m\n\u001b[0;32m   1752\u001b[0m result \u001b[38;5;241m=\u001b[39m \u001b[38;5;28;01mNone\u001b[39;00m\n\u001b[0;32m   1753\u001b[0m called_always_called_hooks \u001b[38;5;241m=\u001b[39m \u001b[38;5;28mset\u001b[39m()\n",
      "File \u001b[1;32mc:\\Users\\Student\\Documents\\University\\Fifth Year\\COM4520\\Psycore\\.venv\\Lib\\site-packages\\torch\\nn\\modules\\linear.py:125\u001b[0m, in \u001b[0;36mLinear.forward\u001b[1;34m(self, input)\u001b[0m\n\u001b[0;32m    124\u001b[0m \u001b[38;5;28;01mdef\u001b[39;00m\u001b[38;5;250m \u001b[39m\u001b[38;5;21mforward\u001b[39m(\u001b[38;5;28mself\u001b[39m, \u001b[38;5;28minput\u001b[39m: Tensor) \u001b[38;5;241m-\u001b[39m\u001b[38;5;241m>\u001b[39m Tensor:\n\u001b[1;32m--> 125\u001b[0m     \u001b[38;5;28;01mreturn\u001b[39;00m \u001b[43mF\u001b[49m\u001b[38;5;241;43m.\u001b[39;49m\u001b[43mlinear\u001b[49m\u001b[43m(\u001b[49m\u001b[38;5;28;43minput\u001b[39;49m\u001b[43m,\u001b[49m\u001b[43m \u001b[49m\u001b[38;5;28;43mself\u001b[39;49m\u001b[38;5;241;43m.\u001b[39;49m\u001b[43mweight\u001b[49m\u001b[43m,\u001b[49m\u001b[43m \u001b[49m\u001b[38;5;28;43mself\u001b[39;49m\u001b[38;5;241;43m.\u001b[39;49m\u001b[43mbias\u001b[49m\u001b[43m)\u001b[49m\n",
      "\u001b[1;31mKeyboardInterrupt\u001b[0m: "
     ]
    }
   ],
   "source": [
    "if not pdf_files:\n",
    "    print(\"No PDF files found in S3 bucket:\", SOURCE_BUCKET)\n",
    "else:\n",
    "    print(f\"Found {len(pdf_files)} PDF files in S3:\")\n",
    "    for i, pdf_file in enumerate(pdf_files):\n",
    "        print(f\"{i+1}. {pdf_file['key']} ({pdf_file['size']:.2f} MB)\")\n",
    "        print(f\"   Last modified: {pdf_file['last_modified']}\")\n",
    "    \n",
    "    # Initialize model once for all processing\n",
    "    model = get_model()\n",
    "    print(f\"\\nUsing model: {model.model_type}\")\n",
    "    \n",
    "    print(\"\\nStarting batch processing of all PDFs...\")\n",
    "    for i, pdf_file in enumerate(pdf_files):\n",
    "        print(f\"\\nProcessing PDF {i+1}/{len(pdf_files)}: {pdf_file['key']}\")\n",
    "        try:\n",
    "            result = process_pdf_from_s3(s3_client, SOURCE_BUCKET, pdf_file['key'], OUTPUT_DIR, model)\n",
    "            if result and result['success']:\n",
    "                print(f\"✓ Successfully processed {pdf_file['key']}\")\n",
    "                if result['image_count'] > 0:\n",
    "                    print(f\"  - {result['image_count']} images uploaded to {IMAGES_BUCKET}\")\n",
    "            else:\n",
    "                print(f\"✗ Failed to process {pdf_file['key']}\")\n",
    "        except Exception as e:\n",
    "            print(f\"✗ Error processing {pdf_file['key']}: {str(e)}\")\n",
    "    \n",
    "    print(\"\\nBatch processing completed!\") "
   ]
  }
 ],
 "metadata": {
  "jupytext": {
   "cell_metadata_filter": "-all",
   "main_language": "python",
   "notebook_metadata_filter": "-all"
  },
  "language_info": {
   "name": "python"
  }
 },
 "nbformat": 4,
 "nbformat_minor": 5
}
