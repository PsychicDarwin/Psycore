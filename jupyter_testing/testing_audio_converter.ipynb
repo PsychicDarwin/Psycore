{
 "cells": [
  {
   "cell_type": "code",
   "execution_count": null,
   "id": "87bcedfb",
   "metadata": {},
   "outputs": [
    {
     "name": "stdout",
     "output_type": "stream",
     "text": [
      "Note: you may need to restart the kernel to use updated packages.\n"
     ]
    },
    {
     "name": "stderr",
     "output_type": "stream",
     "text": [
      "ERROR: Could not find a version that satisfies the requirement upgrade (from versions: none)\n",
      "\n",
      "[notice] A new release of pip is available: 25.0.1 -> 25.1\n",
      "[notice] To update, run: python.exe -m pip install --upgrade pip\n",
      "ERROR: No matching distribution found for upgrade\n"
     ]
    }
   ],
   "source": [
    "%pip install -r ../requirements.txt\n",
    "\n",
    "%pip install openai-whisper"
   ]
  },
  {
   "cell_type": "code",
   "execution_count": 3,
   "id": "cc5a6e31",
   "metadata": {},
   "outputs": [],
   "source": [
    "import sys\n",
    "import os\n",
    "import nltk\n",
    "import networkx as nx\n",
    "import matplotlib.pyplot as plt\n",
    "import openai\n",
    "\n",
    "\n",
    "sys.path.append(os.path.abspath(os.path.join('..')))\n",
    "from src.data.attachments import AttachmentTypes, Attachment"
   ]
  },
  {
   "cell_type": "code",
   "execution_count": 4,
   "id": "6455a250",
   "metadata": {},
   "outputs": [
    {
     "name": "stderr",
     "output_type": "stream",
     "text": [
      " 94%|██████████████████████████████████▉  | 68.0M/72.1M [00:52<00:03, 1.35MiB/s]\n"
     ]
    },
    {
     "ename": "Exception",
     "evalue": "Failed to transcribe audio: Model has been downloaded but the SHA256 checksum does not not match. Please retry loading the model.",
     "output_type": "error",
     "traceback": [
      "\u001b[31m---------------------------------------------------------------------------\u001b[39m",
      "\u001b[31mRuntimeError\u001b[39m                              Traceback (most recent call last)",
      "\u001b[36mFile \u001b[39m\u001b[32mc:\\Users\\louis\\OneDrive\\Documents\\4th Year\\Darwin\\Psycore\\src\\data\\attachments.py:135\u001b[39m, in \u001b[36mAttachment._convert_audio_to_text\u001b[39m\u001b[34m(self)\u001b[39m\n\u001b[32m    134\u001b[39m \u001b[38;5;66;03m# Load the Whisper model\u001b[39;00m\n\u001b[32m--> \u001b[39m\u001b[32m135\u001b[39m model = \u001b[43mwhisper\u001b[49m\u001b[43m.\u001b[49m\u001b[43mload_model\u001b[49m\u001b[43m(\u001b[49m\u001b[33;43m\"\u001b[39;49m\u001b[33;43mtiny\u001b[39;49m\u001b[33;43m\"\u001b[39;49m\u001b[43m)\u001b[49m  \u001b[38;5;66;03m# Use \"medium\" or \"large\" for better accuracy\u001b[39;00m\n\u001b[32m    137\u001b[39m \u001b[38;5;66;03m# Transcribe audio\u001b[39;00m\n",
      "\u001b[36mFile \u001b[39m\u001b[32mc:\\Users\\louis\\OneDrive\\Documents\\4th Year\\Darwin\\Psycore\\.venv\\Lib\\site-packages\\whisper\\__init__.py:137\u001b[39m, in \u001b[36mload_model\u001b[39m\u001b[34m(name, device, download_root, in_memory)\u001b[39m\n\u001b[32m    136\u001b[39m \u001b[38;5;28;01mif\u001b[39;00m name \u001b[38;5;129;01min\u001b[39;00m _MODELS:\n\u001b[32m--> \u001b[39m\u001b[32m137\u001b[39m     checkpoint_file = \u001b[43m_download\u001b[49m\u001b[43m(\u001b[49m\u001b[43m_MODELS\u001b[49m\u001b[43m[\u001b[49m\u001b[43mname\u001b[49m\u001b[43m]\u001b[49m\u001b[43m,\u001b[49m\u001b[43m \u001b[49m\u001b[43mdownload_root\u001b[49m\u001b[43m,\u001b[49m\u001b[43m \u001b[49m\u001b[43min_memory\u001b[49m\u001b[43m)\u001b[49m\n\u001b[32m    138\u001b[39m     alignment_heads = _ALIGNMENT_HEADS[name]\n",
      "\u001b[36mFile \u001b[39m\u001b[32mc:\\Users\\louis\\OneDrive\\Documents\\4th Year\\Darwin\\Psycore\\.venv\\Lib\\site-packages\\whisper\\__init__.py:91\u001b[39m, in \u001b[36m_download\u001b[39m\u001b[34m(url, root, in_memory)\u001b[39m\n\u001b[32m     90\u001b[39m \u001b[38;5;28;01mif\u001b[39;00m hashlib.sha256(model_bytes).hexdigest() != expected_sha256:\n\u001b[32m---> \u001b[39m\u001b[32m91\u001b[39m     \u001b[38;5;28;01mraise\u001b[39;00m \u001b[38;5;167;01mRuntimeError\u001b[39;00m(\n\u001b[32m     92\u001b[39m         \u001b[33m\"\u001b[39m\u001b[33mModel has been downloaded but the SHA256 checksum does not not match. Please retry loading the model.\u001b[39m\u001b[33m\"\u001b[39m\n\u001b[32m     93\u001b[39m     )\n\u001b[32m     95\u001b[39m \u001b[38;5;28;01mreturn\u001b[39;00m model_bytes \u001b[38;5;28;01mif\u001b[39;00m in_memory \u001b[38;5;28;01melse\u001b[39;00m download_target\n",
      "\u001b[31mRuntimeError\u001b[39m: Model has been downloaded but the SHA256 checksum does not not match. Please retry loading the model.",
      "\nDuring handling of the above exception, another exception occurred:\n",
      "\u001b[31mException\u001b[39m                                 Traceback (most recent call last)",
      "\u001b[36mCell\u001b[39m\u001b[36m \u001b[39m\u001b[32mIn[4]\u001b[39m\u001b[32m, line 2\u001b[39m\n\u001b[32m      1\u001b[39m attachment = Attachment(AttachmentTypes.AUDIO, \u001b[33m\"\u001b[39m\u001b[33mresources\u001b[39m\u001b[38;5;130;01m\\\\\u001b[39;00m\u001b[33maudio_resources\u001b[39m\u001b[38;5;130;01m\\\\\u001b[39;00m\u001b[33mPrivate Domicile.mp3\u001b[39m\u001b[33m\"\u001b[39m)\n\u001b[32m----> \u001b[39m\u001b[32m2\u001b[39m transcribed_text = \u001b[43mattachment\u001b[49m\u001b[43m.\u001b[49m\u001b[43m_convert_audio_to_text\u001b[49m\u001b[43m(\u001b[49m\u001b[43m)\u001b[49m\n\u001b[32m      3\u001b[39m \u001b[38;5;28mprint\u001b[39m(transcribed_text)\n",
      "\u001b[36mFile \u001b[39m\u001b[32mc:\\Users\\louis\\OneDrive\\Documents\\4th Year\\Darwin\\Psycore\\src\\data\\attachments.py:143\u001b[39m, in \u001b[36mAttachment._convert_audio_to_text\u001b[39m\u001b[34m(self)\u001b[39m\n\u001b[32m    141\u001b[39m     \u001b[38;5;28;01mreturn\u001b[39;00m result[\u001b[33m\"\u001b[39m\u001b[33mtext\u001b[39m\u001b[33m\"\u001b[39m]\n\u001b[32m    142\u001b[39m \u001b[38;5;28;01mexcept\u001b[39;00m \u001b[38;5;167;01mException\u001b[39;00m \u001b[38;5;28;01mas\u001b[39;00m e:\n\u001b[32m--> \u001b[39m\u001b[32m143\u001b[39m     \u001b[38;5;28;01mraise\u001b[39;00m \u001b[38;5;167;01mException\u001b[39;00m(\u001b[33mf\u001b[39m\u001b[33m\"\u001b[39m\u001b[33mFailed to transcribe audio: \u001b[39m\u001b[38;5;132;01m{\u001b[39;00me\u001b[38;5;132;01m}\u001b[39;00m\u001b[33m\"\u001b[39m)\n",
      "\u001b[31mException\u001b[39m: Failed to transcribe audio: Model has been downloaded but the SHA256 checksum does not not match. Please retry loading the model."
     ]
    }
   ],
   "source": [
    "attachment = Attachment(AttachmentTypes.AUDIO, \"resources\\\\audio_resources\\\\Private Domicile.mp3\")\n",
    "transcribed_text = attachment._convert_audio_to_text()\n",
    "print(transcribed_text)"
   ]
  }
 ],
 "metadata": {
  "kernelspec": {
   "display_name": ".venv",
   "language": "python",
   "name": "python3"
  },
  "language_info": {
   "codemirror_mode": {
    "name": "ipython",
    "version": 3
   },
   "file_extension": ".py",
   "mimetype": "text/x-python",
   "name": "python",
   "nbconvert_exporter": "python",
   "pygments_lexer": "ipython3",
   "version": "3.11.4"
  }
 },
 "nbformat": 4,
 "nbformat_minor": 5
}
