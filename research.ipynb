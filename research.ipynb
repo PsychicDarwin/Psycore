{
 "cells": [
  {
   "cell_type": "markdown",
   "metadata": {},
   "source": [
    "# Darwin Project Research Notebook\n",
    "\n",
    "This notebook is for experimental research with the Darwin project architecture."
   ]
  },
  {
   "cell_type": "code",
   "execution_count": null,
   "metadata": {},
   "outputs": [],
   "source": [
    "# Environment and Debug Setup\n",
    "import os\n",
    "import sys\n",
    "import logging\n",
    "from dotenv import load_dotenv\n",
    "\n",
    "# Load .env variables only if they don't exist in system environment\n",
    "load_dotenv(override=False)\n",
    "\n",
    "# Environment configuration - system env takes precedence\n",
    "DEBUG = os.getenv('DEBUG', 'False').lower() in ('true', '1', 't')\n",
    "LOG_LEVEL = os.getenv('LOG_LEVEL', 'INFO').upper()\n",
    "\n",
    "# Configure logging\n",
    "logging.basicConfig(\n",
    "    level=getattr(logging, LOG_LEVEL),\n",
    "    format='%(asctime)s - %(name)s - %(levelname)s - %(message)s'\n",
    ")\n",
    "logger = logging.getLogger(__name__)\n",
    "\n",
    "if DEBUG:\n",
    "    logger.debug(\"Debug mode enabled\")\n",
    "    logger.debug(f\"Log Level: {LOG_LEVEL}\")\n",
    "    logger.debug(f\"Current working directory: {os.getcwd()}\")\n",
    "    \n",
    "    # Show environment variable sources\n",
    "    env_sources = {}\n",
    "    for var in ['DEBUG', 'LOG_LEVEL']:\n",
    "        if var in os.environ:\n",
    "            env_sources[var] = 'System Environment'\n",
    "        else:\n",
    "            env_sources[var] = '.env file or default'\n",
    "    logger.debug(f\"Environment variable sources: {env_sources}\")"
   ]
  },
  {
   "cell_type": "code",
   "execution_count": null,
   "metadata": {},
   "outputs": [],
   "source": [
    "# Import local modules\n",
    "from src.calculator.operations import add\n",
    "\n",
    "# Test local imports are working\n",
    "result = add(5, 3)\n",
    "logger.info(f\"Testing local imports - 5 + 3 = {result}\")"
   ]
  },
  {
   "cell_type": "markdown",
   "metadata": {},
   "source": [
    "## Research Area\n",
    "Add your research code below"
   ]
  },
  {
   "cell_type": "code",
   "execution_count": null,
   "metadata": {},
   "outputs": [],
   "source": []
  }
 ],
 "metadata": {
  "kernelspec": {
   "display_name": "Python 3",
   "language": "python",
   "name": "python3"
  },
  "language_info": {
   "codemirror_mode": {
    "name": "ipython",
    "version": 3
   },
   "file_extension": ".py",
   "mimetype": "text/x-python",
   "name": "python",
   "nbconvert_exporter": "python",
   "pygments_lexer": "ipython3",
   "version": "3.10.0"
  }
 },
 "nbformat": 4,
 "nbformat_minor": 4
}
